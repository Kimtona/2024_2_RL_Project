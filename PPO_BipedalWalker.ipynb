{
  "nbformat": 4,
  "nbformat_minor": 0,
  "metadata": {
    "colab": {
      "provenance": [],
      "gpuType": "T4",
      "machine_shape": "hm"
    },
    "kernelspec": {
      "name": "python3",
      "display_name": "Python 3"
    },
    "language_info": {
      "name": "python"
    },
    "accelerator": "GPU"
  },
  "cells": [
    {
      "cell_type": "markdown",
      "metadata": {
        "id": "view-in-github"
      },
      "source": [
        "<a href=\"https://colab.research.google.com/github/BrutFab/ppo_BipedalWalker_v3/blob/main/ppo_BipedalWalker_v3.ipynb\" target=\"_parent\"><img src=\"https://colab.research.google.com/assets/colab-badge.svg\" alt=\"Open In Colab\"/></a>"
      ]
    },
    {
      "cell_type": "code",
      "source": [
        "# original :  https://github.com/BrutFab/ppo_BipedalWalker_v3"
      ],
      "metadata": {
        "id": "zpNHeLrYx1iP"
      },
      "execution_count": null,
      "outputs": []
    },
    {
      "cell_type": "markdown",
      "source": [
        "# **1. Setup**\n"
      ],
      "metadata": {
        "id": "6MbMQP0b7zGg"
      }
    },
    {
      "cell_type": "code",
      "source": [
        "# mount google drive\n",
        "\n",
        "import os\n",
        "from google.colab import drive\n",
        "drive.mount('/content/drive')\n",
        "\n",
        "video_dir = \"/content/drive/MyDrive/ppo_final\"\n",
        "if not os.path.exists(video_dir):\n",
        "    os.makedirs(video_dir)"
      ],
      "metadata": {
        "id": "_7pf2ZLgrITy",
        "colab": {
          "base_uri": "https://localhost:8080/"
        },
        "outputId": "5a13b668-a2d8-4ba7-9a1b-2ab8f5f768cf"
      },
      "execution_count": null,
      "outputs": [
        {
          "output_type": "stream",
          "name": "stdout",
          "text": [
            "Mounted at /content/drive\n"
          ]
        }
      ]
    },
    {
      "cell_type": "markdown",
      "source": [
        "### **Install Packages**"
      ],
      "metadata": {
        "id": "gg4Vl1FH_yVm"
      }
    },
    {
      "cell_type": "code",
      "execution_count": null,
      "metadata": {
        "id": "oyYkz0Vc7xNE",
        "colab": {
          "base_uri": "https://localhost:8080/"
        },
        "outputId": "a5df5bc1-3dd6-42cd-a32d-6962f996d4c2"
      },
      "outputs": [
        {
          "output_type": "stream",
          "name": "stdout",
          "text": [
            "Reading package lists... Done\n",
            "Building dependency tree... Done\n",
            "Reading state information... Done\n",
            "cmake is already the newest version (3.22.1-1ubuntu1.22.04.2).\n",
            "ffmpeg is already the newest version (7:4.4.2-0ubuntu0.22.04.1).\n",
            "The following additional packages will be installed:\n",
            "  freeglut3 libfontenc1 libglu1-mesa libxfont2 libxkbfile1 swig4.0 x11-xkb-utils xfonts-base\n",
            "  xfonts-encodings xfonts-utils xserver-common\n",
            "Suggested packages:\n",
            "  libgle3 python3-numpy swig-doc swig-examples swig4.0-examples swig4.0-doc\n",
            "The following NEW packages will be installed:\n",
            "  freeglut3 libfontenc1 libglu1-mesa libxfont2 libxkbfile1 python3-opengl swig swig4.0\n",
            "  x11-xkb-utils xfonts-base xfonts-encodings xfonts-utils xserver-common xvfb\n",
            "0 upgraded, 14 newly installed, 0 to remove and 49 not upgraded.\n",
            "Need to get 9,755 kB of archives.\n",
            "After this operation, 25.6 MB of additional disk space will be used.\n",
            "Get:1 http://archive.ubuntu.com/ubuntu jammy/universe amd64 freeglut3 amd64 2.8.1-6 [74.0 kB]\n",
            "Get:2 http://archive.ubuntu.com/ubuntu jammy/main amd64 libfontenc1 amd64 1:1.1.4-1build3 [14.7 kB]\n",
            "Get:3 http://archive.ubuntu.com/ubuntu jammy/main amd64 libxfont2 amd64 1:2.0.5-1build1 [94.5 kB]\n",
            "Get:4 http://archive.ubuntu.com/ubuntu jammy/main amd64 libxkbfile1 amd64 1:1.1.0-1build3 [71.8 kB]\n",
            "Get:5 http://archive.ubuntu.com/ubuntu jammy/main amd64 libglu1-mesa amd64 9.0.2-1 [145 kB]\n",
            "Get:6 http://archive.ubuntu.com/ubuntu jammy/universe amd64 python3-opengl all 3.1.5+dfsg-1 [605 kB]\n",
            "Get:7 http://archive.ubuntu.com/ubuntu jammy/universe amd64 swig4.0 amd64 4.0.2-1ubuntu1 [1,110 kB]\n",
            "Get:8 http://archive.ubuntu.com/ubuntu jammy/universe amd64 swig all 4.0.2-1ubuntu1 [5,632 B]\n",
            "Get:9 http://archive.ubuntu.com/ubuntu jammy/main amd64 x11-xkb-utils amd64 7.7+5build4 [172 kB]\n",
            "Get:10 http://archive.ubuntu.com/ubuntu jammy/main amd64 xfonts-encodings all 1:1.0.5-0ubuntu2 [578 kB]\n",
            "Get:11 http://archive.ubuntu.com/ubuntu jammy/main amd64 xfonts-utils amd64 1:7.7+6build2 [94.6 kB]\n",
            "Get:12 http://archive.ubuntu.com/ubuntu jammy/main amd64 xfonts-base all 1:1.0.5 [5,896 kB]\n",
            "Get:13 http://archive.ubuntu.com/ubuntu jammy-updates/main amd64 xserver-common all 2:21.1.4-2ubuntu1.7~22.04.12 [28.7 kB]\n",
            "Get:14 http://archive.ubuntu.com/ubuntu jammy-updates/universe amd64 xvfb amd64 2:21.1.4-2ubuntu1.7~22.04.12 [864 kB]\n",
            "Fetched 9,755 kB in 2s (4,067 kB/s)\n",
            "Selecting previously unselected package freeglut3:amd64.\n",
            "(Reading database ... 123632 files and directories currently installed.)\n",
            "Preparing to unpack .../00-freeglut3_2.8.1-6_amd64.deb ...\n",
            "Unpacking freeglut3:amd64 (2.8.1-6) ...\n",
            "Selecting previously unselected package libfontenc1:amd64.\n",
            "Preparing to unpack .../01-libfontenc1_1%3a1.1.4-1build3_amd64.deb ...\n",
            "Unpacking libfontenc1:amd64 (1:1.1.4-1build3) ...\n",
            "Selecting previously unselected package libxfont2:amd64.\n",
            "Preparing to unpack .../02-libxfont2_1%3a2.0.5-1build1_amd64.deb ...\n",
            "Unpacking libxfont2:amd64 (1:2.0.5-1build1) ...\n",
            "Selecting previously unselected package libxkbfile1:amd64.\n",
            "Preparing to unpack .../03-libxkbfile1_1%3a1.1.0-1build3_amd64.deb ...\n",
            "Unpacking libxkbfile1:amd64 (1:1.1.0-1build3) ...\n",
            "Selecting previously unselected package libglu1-mesa:amd64.\n",
            "Preparing to unpack .../04-libglu1-mesa_9.0.2-1_amd64.deb ...\n",
            "Unpacking libglu1-mesa:amd64 (9.0.2-1) ...\n",
            "Selecting previously unselected package python3-opengl.\n",
            "Preparing to unpack .../05-python3-opengl_3.1.5+dfsg-1_all.deb ...\n",
            "Unpacking python3-opengl (3.1.5+dfsg-1) ...\n",
            "Selecting previously unselected package swig4.0.\n",
            "Preparing to unpack .../06-swig4.0_4.0.2-1ubuntu1_amd64.deb ...\n",
            "Unpacking swig4.0 (4.0.2-1ubuntu1) ...\n",
            "Selecting previously unselected package swig.\n",
            "Preparing to unpack .../07-swig_4.0.2-1ubuntu1_all.deb ...\n",
            "Unpacking swig (4.0.2-1ubuntu1) ...\n",
            "Selecting previously unselected package x11-xkb-utils.\n",
            "Preparing to unpack .../08-x11-xkb-utils_7.7+5build4_amd64.deb ...\n",
            "Unpacking x11-xkb-utils (7.7+5build4) ...\n",
            "Selecting previously unselected package xfonts-encodings.\n",
            "Preparing to unpack .../09-xfonts-encodings_1%3a1.0.5-0ubuntu2_all.deb ...\n",
            "Unpacking xfonts-encodings (1:1.0.5-0ubuntu2) ...\n",
            "Selecting previously unselected package xfonts-utils.\n",
            "Preparing to unpack .../10-xfonts-utils_1%3a7.7+6build2_amd64.deb ...\n",
            "Unpacking xfonts-utils (1:7.7+6build2) ...\n",
            "Selecting previously unselected package xfonts-base.\n",
            "Preparing to unpack .../11-xfonts-base_1%3a1.0.5_all.deb ...\n",
            "Unpacking xfonts-base (1:1.0.5) ...\n",
            "Selecting previously unselected package xserver-common.\n",
            "Preparing to unpack .../12-xserver-common_2%3a21.1.4-2ubuntu1.7~22.04.12_all.deb ...\n",
            "Unpacking xserver-common (2:21.1.4-2ubuntu1.7~22.04.12) ...\n",
            "Selecting previously unselected package xvfb.\n",
            "Preparing to unpack .../13-xvfb_2%3a21.1.4-2ubuntu1.7~22.04.12_amd64.deb ...\n",
            "Unpacking xvfb (2:21.1.4-2ubuntu1.7~22.04.12) ...\n",
            "Setting up freeglut3:amd64 (2.8.1-6) ...\n",
            "Setting up libfontenc1:amd64 (1:1.1.4-1build3) ...\n",
            "Setting up xfonts-encodings (1:1.0.5-0ubuntu2) ...\n",
            "Setting up libglu1-mesa:amd64 (9.0.2-1) ...\n",
            "Setting up libxkbfile1:amd64 (1:1.1.0-1build3) ...\n",
            "Setting up swig4.0 (4.0.2-1ubuntu1) ...\n",
            "Setting up libxfont2:amd64 (1:2.0.5-1build1) ...\n",
            "Setting up swig (4.0.2-1ubuntu1) ...\n",
            "Setting up x11-xkb-utils (7.7+5build4) ...\n",
            "Setting up python3-opengl (3.1.5+dfsg-1) ...\n",
            "Setting up xfonts-utils (1:7.7+6build2) ...\n",
            "Setting up xfonts-base (1:1.0.5) ...\n",
            "Setting up xserver-common (2:21.1.4-2ubuntu1.7~22.04.12) ...\n",
            "Setting up xvfb (2:21.1.4-2ubuntu1.7~22.04.12) ...\n",
            "Processing triggers for man-db (2.10.2-1) ...\n",
            "Processing triggers for fontconfig (2.13.1-4.2ubuntu5) ...\n",
            "Processing triggers for libc-bin (2.35-0ubuntu3.4) ...\n",
            "/sbin/ldconfig.real: /usr/local/lib/libtbbbind_2_5.so.3 is not a symbolic link\n",
            "\n",
            "/sbin/ldconfig.real: /usr/local/lib/libtbb.so.12 is not a symbolic link\n",
            "\n",
            "/sbin/ldconfig.real: /usr/local/lib/libtbbbind_2_0.so.3 is not a symbolic link\n",
            "\n",
            "/sbin/ldconfig.real: /usr/local/lib/libtbbmalloc_proxy.so.2 is not a symbolic link\n",
            "\n",
            "/sbin/ldconfig.real: /usr/local/lib/libtcm_debug.so.1 is not a symbolic link\n",
            "\n",
            "/sbin/ldconfig.real: /usr/local/lib/libtbbbind.so.3 is not a symbolic link\n",
            "\n",
            "/sbin/ldconfig.real: /usr/local/lib/libur_loader.so.0 is not a symbolic link\n",
            "\n",
            "/sbin/ldconfig.real: /usr/local/lib/libtcm.so.1 is not a symbolic link\n",
            "\n",
            "/sbin/ldconfig.real: /usr/local/lib/libur_adapter_level_zero.so.0 is not a symbolic link\n",
            "\n",
            "/sbin/ldconfig.real: /usr/local/lib/libur_adapter_opencl.so.0 is not a symbolic link\n",
            "\n",
            "/sbin/ldconfig.real: /usr/local/lib/libhwloc.so.15 is not a symbolic link\n",
            "\n",
            "/sbin/ldconfig.real: /usr/local/lib/libtbbmalloc.so.2 is not a symbolic link\n",
            "\n",
            "/sbin/ldconfig.real: /usr/local/lib/libumf.so.0 is not a symbolic link\n",
            "\n",
            "Collecting stable-baselines3==2.0.0a5\n",
            "  Downloading stable_baselines3-2.0.0a5-py3-none-any.whl.metadata (5.3 kB)\n",
            "Collecting huggingface_sb3\n",
            "  Downloading huggingface_sb3-3.0-py3-none-any.whl.metadata (6.3 kB)\n",
            "Collecting pyvirtualdisplay\n",
            "  Downloading PyVirtualDisplay-3.0-py3-none-any.whl.metadata (943 bytes)\n",
            "Collecting gymnasium[box2d]\n",
            "  Downloading gymnasium-1.0.0-py3-none-any.whl.metadata (9.5 kB)\n",
            "Requirement already satisfied: imageio[ffmpeg] in /usr/local/lib/python3.10/dist-packages (2.36.1)\n",
            "Collecting gymnasium==0.28.1 (from stable-baselines3==2.0.0a5)\n",
            "  Downloading gymnasium-0.28.1-py3-none-any.whl.metadata (9.2 kB)\n",
            "Requirement already satisfied: numpy in /usr/local/lib/python3.10/dist-packages (from stable-baselines3==2.0.0a5) (1.26.4)\n",
            "Requirement already satisfied: torch>=1.11 in /usr/local/lib/python3.10/dist-packages (from stable-baselines3==2.0.0a5) (2.5.1+cu121)\n",
            "Requirement already satisfied: cloudpickle in /usr/local/lib/python3.10/dist-packages (from stable-baselines3==2.0.0a5) (3.1.0)\n",
            "Requirement already satisfied: pandas in /usr/local/lib/python3.10/dist-packages (from stable-baselines3==2.0.0a5) (2.2.2)\n",
            "Requirement already satisfied: matplotlib in /usr/local/lib/python3.10/dist-packages (from stable-baselines3==2.0.0a5) (3.8.0)\n",
            "Collecting jax-jumpy>=1.0.0 (from gymnasium==0.28.1->stable-baselines3==2.0.0a5)\n",
            "  Downloading jax_jumpy-1.0.0-py3-none-any.whl.metadata (15 kB)\n",
            "Requirement already satisfied: typing-extensions>=4.3.0 in /usr/local/lib/python3.10/dist-packages (from gymnasium==0.28.1->stable-baselines3==2.0.0a5) (4.12.2)\n",
            "Collecting farama-notifications>=0.0.1 (from gymnasium==0.28.1->stable-baselines3==2.0.0a5)\n",
            "  Downloading Farama_Notifications-0.0.4-py3-none-any.whl.metadata (558 bytes)\n",
            "INFO: pip is looking at multiple versions of gymnasium[box2d] to determine which version is compatible with other requirements. This could take a while.\n",
            "Collecting gymnasium[box2d]\n",
            "  Downloading gymnasium-0.29.1-py3-none-any.whl.metadata (10 kB)\n",
            "  Downloading gymnasium-0.29.0-py3-none-any.whl.metadata (10 kB)\n",
            "Collecting box2d-py==2.3.5 (from gymnasium[box2d])\n",
            "  Downloading box2d-py-2.3.5.tar.gz (374 kB)\n",
            "\u001b[2K     \u001b[90m━━━━━━━━━━━━━━━━━━━━━━━━━━━━━━━━━━━━━━━━\u001b[0m \u001b[32m374.4/374.4 kB\u001b[0m \u001b[31m27.6 MB/s\u001b[0m eta \u001b[36m0:00:00\u001b[0m\n",
            "\u001b[?25h  Preparing metadata (setup.py) ... \u001b[?25l\u001b[?25hdone\n",
            "Collecting pygame==2.1.3 (from gymnasium[box2d])\n",
            "  Downloading pygame-2.1.3-cp310-cp310-manylinux_2_17_x86_64.manylinux2014_x86_64.whl.metadata (9.3 kB)\n",
            "Collecting swig==4.* (from gymnasium[box2d])\n",
            "  Downloading swig-4.3.0-py2.py3-none-manylinux_2_5_x86_64.manylinux1_x86_64.whl.metadata (3.5 kB)\n",
            "Requirement already satisfied: huggingface-hub~=0.8 in /usr/local/lib/python3.10/dist-packages (from huggingface_sb3) (0.26.3)\n",
            "Requirement already satisfied: pyyaml~=6.0 in /usr/local/lib/python3.10/dist-packages (from huggingface_sb3) (6.0.2)\n",
            "Requirement already satisfied: wasabi in /usr/local/lib/python3.10/dist-packages (from huggingface_sb3) (1.1.3)\n",
            "Requirement already satisfied: pillow>=8.3.2 in /usr/local/lib/python3.10/dist-packages (from imageio[ffmpeg]) (11.0.0)\n",
            "Requirement already satisfied: imageio-ffmpeg in /usr/local/lib/python3.10/dist-packages (from imageio[ffmpeg]) (0.5.1)\n",
            "Requirement already satisfied: psutil in /usr/local/lib/python3.10/dist-packages (from imageio[ffmpeg]) (5.9.5)\n",
            "Requirement already satisfied: filelock in /usr/local/lib/python3.10/dist-packages (from huggingface-hub~=0.8->huggingface_sb3) (3.16.1)\n",
            "Requirement already satisfied: fsspec>=2023.5.0 in /usr/local/lib/python3.10/dist-packages (from huggingface-hub~=0.8->huggingface_sb3) (2024.10.0)\n",
            "Requirement already satisfied: packaging>=20.9 in /usr/local/lib/python3.10/dist-packages (from huggingface-hub~=0.8->huggingface_sb3) (24.2)\n",
            "Requirement already satisfied: requests in /usr/local/lib/python3.10/dist-packages (from huggingface-hub~=0.8->huggingface_sb3) (2.32.3)\n",
            "Requirement already satisfied: tqdm>=4.42.1 in /usr/local/lib/python3.10/dist-packages (from huggingface-hub~=0.8->huggingface_sb3) (4.66.6)\n",
            "Requirement already satisfied: networkx in /usr/local/lib/python3.10/dist-packages (from torch>=1.11->stable-baselines3==2.0.0a5) (3.4.2)\n",
            "Requirement already satisfied: jinja2 in /usr/local/lib/python3.10/dist-packages (from torch>=1.11->stable-baselines3==2.0.0a5) (3.1.4)\n",
            "Requirement already satisfied: sympy==1.13.1 in /usr/local/lib/python3.10/dist-packages (from torch>=1.11->stable-baselines3==2.0.0a5) (1.13.1)\n",
            "Requirement already satisfied: mpmath<1.4,>=1.1.0 in /usr/local/lib/python3.10/dist-packages (from sympy==1.13.1->torch>=1.11->stable-baselines3==2.0.0a5) (1.3.0)\n",
            "Requirement already satisfied: setuptools in /usr/local/lib/python3.10/dist-packages (from imageio-ffmpeg->imageio[ffmpeg]) (75.1.0)\n",
            "Requirement already satisfied: contourpy>=1.0.1 in /usr/local/lib/python3.10/dist-packages (from matplotlib->stable-baselines3==2.0.0a5) (1.3.1)\n",
            "Requirement already satisfied: cycler>=0.10 in /usr/local/lib/python3.10/dist-packages (from matplotlib->stable-baselines3==2.0.0a5) (0.12.1)\n",
            "Requirement already satisfied: fonttools>=4.22.0 in /usr/local/lib/python3.10/dist-packages (from matplotlib->stable-baselines3==2.0.0a5) (4.55.0)\n",
            "Requirement already satisfied: kiwisolver>=1.0.1 in /usr/local/lib/python3.10/dist-packages (from matplotlib->stable-baselines3==2.0.0a5) (1.4.7)\n",
            "Requirement already satisfied: pyparsing>=2.3.1 in /usr/local/lib/python3.10/dist-packages (from matplotlib->stable-baselines3==2.0.0a5) (3.2.0)\n",
            "Requirement already satisfied: python-dateutil>=2.7 in /usr/local/lib/python3.10/dist-packages (from matplotlib->stable-baselines3==2.0.0a5) (2.8.2)\n",
            "Requirement already satisfied: pytz>=2020.1 in /usr/local/lib/python3.10/dist-packages (from pandas->stable-baselines3==2.0.0a5) (2024.2)\n",
            "Requirement already satisfied: tzdata>=2022.7 in /usr/local/lib/python3.10/dist-packages (from pandas->stable-baselines3==2.0.0a5) (2024.2)\n",
            "Requirement already satisfied: six>=1.5 in /usr/local/lib/python3.10/dist-packages (from python-dateutil>=2.7->matplotlib->stable-baselines3==2.0.0a5) (1.16.0)\n",
            "Requirement already satisfied: MarkupSafe>=2.0 in /usr/local/lib/python3.10/dist-packages (from jinja2->torch>=1.11->stable-baselines3==2.0.0a5) (3.0.2)\n",
            "Requirement already satisfied: charset-normalizer<4,>=2 in /usr/local/lib/python3.10/dist-packages (from requests->huggingface-hub~=0.8->huggingface_sb3) (3.4.0)\n",
            "Requirement already satisfied: idna<4,>=2.5 in /usr/local/lib/python3.10/dist-packages (from requests->huggingface-hub~=0.8->huggingface_sb3) (3.10)\n",
            "Requirement already satisfied: urllib3<3,>=1.21.1 in /usr/local/lib/python3.10/dist-packages (from requests->huggingface-hub~=0.8->huggingface_sb3) (2.2.3)\n",
            "Requirement already satisfied: certifi>=2017.4.17 in /usr/local/lib/python3.10/dist-packages (from requests->huggingface-hub~=0.8->huggingface_sb3) (2024.8.30)\n",
            "Downloading stable_baselines3-2.0.0a5-py3-none-any.whl (177 kB)\n",
            "\u001b[2K   \u001b[90m━━━━━━━━━━━━━━━━━━━━━━━━━━━━━━━━━━━━━━━━\u001b[0m \u001b[32m177.5/177.5 kB\u001b[0m \u001b[31m10.0 MB/s\u001b[0m eta \u001b[36m0:00:00\u001b[0m\n",
            "\u001b[?25hDownloading gymnasium-0.28.1-py3-none-any.whl (925 kB)\n",
            "\u001b[2K   \u001b[90m━━━━━━━━━━━━━━━━━━━━━━━━━━━━━━━━━━━━━━━━\u001b[0m \u001b[32m925.5/925.5 kB\u001b[0m \u001b[31m57.6 MB/s\u001b[0m eta \u001b[36m0:00:00\u001b[0m\n",
            "\u001b[?25hDownloading pygame-2.1.3-cp310-cp310-manylinux_2_17_x86_64.manylinux2014_x86_64.whl (13.7 MB)\n",
            "\u001b[2K   \u001b[90m━━━━━━━━━━━━━━━━━━━━━━━━━━━━━━━━━━━━━━━━\u001b[0m \u001b[32m13.7/13.7 MB\u001b[0m \u001b[31m62.2 MB/s\u001b[0m eta \u001b[36m0:00:00\u001b[0m\n",
            "\u001b[?25hDownloading swig-4.3.0-py2.py3-none-manylinux_2_5_x86_64.manylinux1_x86_64.whl (1.9 MB)\n",
            "\u001b[2K   \u001b[90m━━━━━━━━━━━━━━━━━━━━━━━━━━━━━━━━━━━━━━━━\u001b[0m \u001b[32m1.9/1.9 MB\u001b[0m \u001b[31m45.3 MB/s\u001b[0m eta \u001b[36m0:00:00\u001b[0m\n",
            "\u001b[?25hDownloading huggingface_sb3-3.0-py3-none-any.whl (9.7 kB)\n",
            "Downloading PyVirtualDisplay-3.0-py3-none-any.whl (15 kB)\n",
            "Downloading Farama_Notifications-0.0.4-py3-none-any.whl (2.5 kB)\n",
            "Downloading jax_jumpy-1.0.0-py3-none-any.whl (20 kB)\n",
            "Building wheels for collected packages: box2d-py\n",
            "  Building wheel for box2d-py (setup.py) ... \u001b[?25l\u001b[?25hdone\n",
            "  Created wheel for box2d-py: filename=box2d_py-2.3.5-cp310-cp310-linux_x86_64.whl size=2349115 sha256=fec46712ad6c9416e2cafeb38153f657a06e8426f5edfc794b2646e188faf9ae\n",
            "  Stored in directory: /root/.cache/pip/wheels/db/8f/6a/eaaadf056fba10a98d986f6dce954e6201ba3126926fc5ad9e\n",
            "Successfully built box2d-py\n",
            "Installing collected packages: swig, pyvirtualdisplay, farama-notifications, box2d-py, pygame, jax-jumpy, gymnasium, stable-baselines3, huggingface_sb3\n",
            "  Attempting uninstall: pygame\n",
            "    Found existing installation: pygame 2.6.1\n",
            "    Uninstalling pygame-2.6.1:\n",
            "      Successfully uninstalled pygame-2.6.1\n",
            "Successfully installed box2d-py-2.3.5 farama-notifications-0.0.4 gymnasium-0.28.1 huggingface_sb3-3.0 jax-jumpy-1.0.0 pygame-2.1.3 pyvirtualdisplay-3.0 stable-baselines3-2.0.0a5 swig-4.3.0\n"
          ]
        }
      ],
      "source": [
        "# Install necessary packages\n",
        "!apt install swig cmake ffmpeg xvfb python3-opengl\n",
        "!pip install stable-baselines3==2.0.0a5 gymnasium[box2d] huggingface_sb3 pyvirtualdisplay imageio[ffmpeg]"
      ]
    },
    {
      "cell_type": "markdown",
      "source": [
        "The Next Cell will force the notebook runtime to restart. This is to ensure all the new libraries installed will be used."
      ],
      "metadata": {
        "id": "-v81BfAd7yWc"
      }
    },
    {
      "cell_type": "code",
      "source": [
        "import os\n",
        "##os.kill(os.getpid(), 9)"
      ],
      "metadata": {
        "id": "FaiyY-Fn_EZg"
      },
      "execution_count": null,
      "outputs": []
    },
    {
      "cell_type": "markdown",
      "source": [
        "### **Start Virtual Display**"
      ],
      "metadata": {
        "id": "DAlous3h_OrZ"
      }
    },
    {
      "cell_type": "code",
      "source": [
        "from pyvirtualdisplay import Display\n",
        "virtual_display = Display(visible=0, size=(1400, 900))\n",
        "virtual_display.start()"
      ],
      "metadata": {
        "id": "xblUYFLM_ZGr",
        "colab": {
          "base_uri": "https://localhost:8080/"
        },
        "outputId": "345d9290-d1ec-43c7-9871-67be5c12c52c"
      },
      "execution_count": null,
      "outputs": [
        {
          "output_type": "execute_result",
          "data": {
            "text/plain": [
              "<pyvirtualdisplay.display.Display at 0x7fb3ca6f86d0>"
            ]
          },
          "metadata": {},
          "execution_count": 4
        }
      ]
    },
    {
      "cell_type": "markdown",
      "source": [
        "### **Setup Environment**"
      ],
      "metadata": {
        "id": "cG91Uw14_9-W"
      }
    },
    {
      "cell_type": "markdown",
      "source": [
        "### **Observation Space**\n",
        "Observation Space Shape (24,) vector of size 24, where each value contains different information about the walker:\n",
        "\n",
        "- **Hull Angle Speed**: The speed at which the main body of the walker is rotating.\n",
        "- **Angular Velocity**: The rate of change of the angular position of the walker.\n",
        "- **Horizontal Speed**: The speed at which the walker is moving horizontally.\n",
        "- **Vertical Speed**: The speed at which the walker is moving vertically.\n",
        "- **Position of Joints**: The positions (angles) of the walker's joints. Given that the walker has 4 joints, this take up 4 values.\n",
        "- **Joints Angular Speed**: The rate of change of the angular position for each joint. Again, this would be 4 values for the 4 joints.\n",
        "- **Legs Contact with Ground**: Indicating whether each leg is in contact with the ground. Given two legs, this contains 2 values.\n",
        "- **10 Lidar Rangefinder Measurements**: These are distance measurements to detect obstacles or terrain features around the walker. There are 10 of these values.\n"
      ],
      "metadata": {
        "id": "xr8LRvHOLxIx"
      }
    },
    {
      "cell_type": "code",
      "source": [
        "import gymnasium as gym\n",
        "##\n",
        "\n",
        "env = gym.make(\"BipedalWalker-v3\", hardcore=False)\n",
        "env.reset()\n"
      ],
      "metadata": {
        "colab": {
          "base_uri": "https://localhost:8080/"
        },
        "id": "Ji2uZaL4NkBy",
        "outputId": "0058cdab-8623-437e-aef4-717d0cc00481"
      },
      "execution_count": null,
      "outputs": [
        {
          "output_type": "execute_result",
          "data": {
            "text/plain": [
              "(array([ 2.7474712e-03, -7.6440219e-06,  5.9462700e-04, -1.5999947e-02,\n",
              "         9.2045233e-02, -7.8470557e-04,  8.6021996e-01,  1.9829841e-03,\n",
              "         1.0000000e+00,  3.2449778e-02, -7.8464852e-04,  8.5377127e-01,\n",
              "         5.5494910e-04,  1.0000000e+00,  4.4081402e-01,  4.4582012e-01,\n",
              "         4.6142277e-01,  4.8955020e-01,  5.3410280e-01,  6.0246104e-01,\n",
              "         7.0914888e-01,  8.8593185e-01,  1.0000000e+00,  1.0000000e+00],\n",
              "       dtype=float32),\n",
              " {})"
            ]
          },
          "metadata": {},
          "execution_count": 5
        }
      ]
    },
    {
      "cell_type": "markdown",
      "source": [
        "### **Action Space**\n",
        "\n",
        " Actions are motor speed values in the [-1, 1] range for each of the 4 joints at both hips and knees."
      ],
      "metadata": {
        "id": "aS3kPiz8I7OH"
      }
    },
    {
      "cell_type": "code",
      "source": [
        "print(\"\\n _____ACTION SPACE_____ \\n\")\n",
        "print(\"Action Space Shape\", env.action_space.shape)\n",
        "print(\"Action Space Sample\", env.action_space.sample()) # Take a random action"
      ],
      "metadata": {
        "id": "r8-of2O-KXe_",
        "colab": {
          "base_uri": "https://localhost:8080/"
        },
        "outputId": "1d535448-a104-4db4-809f-44ebe7f7b611"
      },
      "execution_count": null,
      "outputs": [
        {
          "output_type": "stream",
          "name": "stdout",
          "text": [
            "\n",
            " _____ACTION SPACE_____ \n",
            "\n",
            "Action Space Shape (4,)\n",
            "Action Space Sample [ 0.16420257  0.31622553 -0.48271242 -0.5036436 ]\n"
          ]
        }
      ]
    },
    {
      "cell_type": "markdown",
      "source": [
        "### **Vectorized Environment**\n",
        "Create a vectorized environment (a method for stacking multiple independent environments into a single environment) of 16 environments to have more diverse experiences."
      ],
      "metadata": {
        "id": "WFheIWeIMR8F"
      }
    },
    {
      "cell_type": "code",
      "source": [
        "\n",
        "\n",
        "from stable_baselines3.common.env_util import make_vec_env\n",
        "from stable_baselines3.common.vec_env import VecNormalize\n",
        "from stable_baselines3.common.evaluation import evaluate_policy\n",
        "import numpy as np"
      ],
      "metadata": {
        "id": "G9LsgYvuMqTB"
      },
      "execution_count": null,
      "outputs": []
    },
    {
      "cell_type": "code",
      "source": [
        "class FastWalkerEnv(gym.Wrapper):\n",
        "   def __init__(self, env, max_steps=800):\n",
        "       super().__init__(env)\n",
        "       self.max_steps = max_steps\n",
        "       self.steps = 0\n",
        "       self.start_pos = None\n",
        "       self.last_pos = None\n",
        "\n",
        "   def reset(self, **kwargs):\n",
        "       obs, info = super().reset(**kwargs)\n",
        "       self.steps = 0\n",
        "       self.start_pos = self.env.unwrapped.hull.position[0]\n",
        "       self.last_pos = self.start_pos\n",
        "       return obs, info\n",
        "\n",
        "\n",
        "   def step(self, action):\n",
        "       obs, reward, terminated, truncated, info = super().step(action)\n",
        "       self.steps += 1\n",
        "\n",
        "       # current position and angle\n",
        "       current_pos = self.env.unwrapped.hull.position[0]\n",
        "\n",
        "       # reward calculation\n",
        "       distance_reward = (current_pos - self.start_pos) * 2.0\n",
        "       velocity_reward = self.env.unwrapped.hull.linearVelocity.x * 1.0\n",
        "       modified_reward = distance_reward + velocity_reward\n",
        "\n",
        "       # terminate if stuck for too long\n",
        "       if abs(current_pos - self.last_pos) < 0.01 and self.steps > 100:\n",
        "           terminated = True\n",
        "\n",
        "       self.last_pos = current_pos\n",
        "\n",
        "       # Terminate after max steps\n",
        "       if self.steps >= self.max_steps:\n",
        "           truncated = True\n",
        "\n",
        "       info['distance'] = current_pos - self.start_pos\n",
        "       return obs, modified_reward, terminated, truncated, info"
      ],
      "metadata": {
        "id": "UxxE-LpY1VUv"
      },
      "execution_count": null,
      "outputs": []
    },
    {
      "cell_type": "markdown",
      "source": [
        "# **2. Building the Model**"
      ],
      "metadata": {
        "id": "Ho3QSAXWNOxF"
      }
    },
    {
      "cell_type": "code",
      "source": [
        "from stable_baselines3 import PPO\n",
        "from stable_baselines3.common.env_util import make_vec_env\n",
        "from stable_baselines3.common.utils import set_random_seed\n",
        "\n",
        "\n",
        "SEED = 42\n",
        "set_random_seed(SEED)\n",
        "\n",
        "\n",
        "env = make_vec_env('BipedalWalker-v3', n_envs=4)\n",
        "\n",
        "\n",
        "model = PPO(\n",
        "    policy=\"MlpPolicy\",\n",
        "    env=env,\n",
        "    n_steps=2048,\n",
        "    batch_size=128,\n",
        "    n_epochs=6,\n",
        "    gamma=0.99,\n",
        "    gae_lambda=0.95,\n",
        "    ent_coef=0.01,\n",
        "    verbose=1)"
      ],
      "metadata": {
        "id": "n5amWvjFNt93",
        "colab": {
          "base_uri": "https://localhost:8080/"
        },
        "outputId": "7df7aac2-fb03-423e-98fb-e775e13e51ed"
      },
      "execution_count": null,
      "outputs": [
        {
          "output_type": "stream",
          "name": "stdout",
          "text": [
            "Using cuda device\n"
          ]
        }
      ]
    },
    {
      "cell_type": "markdown",
      "source": [
        "# 3.**Video Generation**"
      ],
      "metadata": {
        "id": "LyYbio5uOiHb"
      }
    },
    {
      "cell_type": "code",
      "source": [
        "from wasabi import Printer\n",
        "import numpy as np\n",
        "from stable_baselines3.common.base_class import BaseAlgorithm\n",
        "from pathlib import Path\n",
        "import tempfile\n",
        "from stable_baselines3.common.monitor import Monitor\n",
        "from stable_baselines3.common.vec_env import (\n",
        "    DummyVecEnv,\n",
        "    VecEnv,\n",
        "    VecVideoRecorder,\n",
        ")"
      ],
      "metadata": {
        "id": "bZpJ_3yHOhce"
      },
      "execution_count": null,
      "outputs": []
    },
    {
      "cell_type": "code",
      "source": [
        "msg = Printer()"
      ],
      "metadata": {
        "id": "r0XIO_k5PBPc"
      },
      "execution_count": null,
      "outputs": []
    },
    {
      "cell_type": "code",
      "source": [
        "def generate_replay(\n",
        "    model: BaseAlgorithm,\n",
        "    eval_env: VecEnv,\n",
        "    video_length: int,\n",
        "    is_deterministic: bool,\n",
        "    local_path: Path,\n",
        "):\n",
        "    \"\"\"\n",
        "    Generate a replay video of the agent\n",
        "    :param model: trained model\n",
        "    :param eval_env: environment used to evaluate the agent\n",
        "    :param video_length: length of the video (in timesteps)\n",
        "    :param is_deterministic: use deterministic or stochastic actions\n",
        "    :param local_path: path of the local repository\n",
        "    \"\"\"\n",
        "    with tempfile.TemporaryDirectory() as tmpdirname:\n",
        "        env = VecVideoRecorder(\n",
        "            eval_env,\n",
        "            tmpdirname,\n",
        "            record_video_trigger=lambda x: x == 0,\n",
        "            video_length=video_length,\n",
        "            name_prefix=\"\",\n",
        "        )\n",
        "\n",
        "        try:\n",
        "            obs, info = env.reset()\n",
        "        except ValueError:\n",
        "            obs = env.reset()\n",
        "            info = {}\n",
        "\n",
        "        lstm_states = None\n",
        "        episode_starts = np.ones((env.num_envs,), dtype=bool)\n",
        "\n",
        "        try:\n",
        "\n",
        "            max_steps = min(800, video_length)\n",
        "            for step in range(max_steps):\n",
        "                action, lstm_states = model.predict(\n",
        "                    obs,\n",
        "                    state=lstm_states,\n",
        "                    episode_start=episode_starts,\n",
        "                    deterministic=is_deterministic,\n",
        "                )\n",
        "                try:\n",
        "                    obs, rewards, terminated, truncated, info = env.step(action)\n",
        "                except ValueError:\n",
        "                    obs, rewards, done, info = env.step(action)\n",
        "                    terminated = done\n",
        "                    truncated = False\n",
        "\n",
        "                episode_starts = terminated if isinstance(terminated, np.ndarray) else np.array([terminated])\n",
        "\n",
        "\n",
        "                if any(terminated):\n",
        "                    break\n",
        "\n",
        "            env.close()\n",
        "\n",
        "\n",
        "            inp = env.video_recorder.path\n",
        "            out = local_path\n",
        "            os.system(f\"ffmpeg -y -i {inp} -vcodec h264 {out}\")\n",
        "            print(f\"Video saved to: {out}\")\n",
        "\n",
        "        except KeyboardInterrupt:\n",
        "            pass\n",
        "        except Exception as e:\n",
        "            msg.fail(str(e))\n",
        "            msg.fail(\"We are unable to generate a replay of your agent\")"
      ],
      "metadata": {
        "id": "TbXxg6viPC-u"
      },
      "execution_count": null,
      "outputs": []
    },
    {
      "cell_type": "markdown",
      "source": [
        "# **4. Training, Saving and Record the Videos**"
      ],
      "metadata": {
        "id": "7FSBntjZWBZC"
      }
    },
    {
      "cell_type": "code",
      "source": [
        "import os\n",
        "import numpy as np\n",
        "\n",
        "env_id = \"BipedalWalker-v3\"\n",
        "\n",
        "\n",
        "best_distance = -float(\"inf\")\n",
        "best_video_name = \"best_replay.mp4\"\n",
        "\n",
        "\n",
        "def make_env():\n",
        "    base_env = gym.make(env_id, render_mode=\"rgb_array\")\n",
        "    env = FastWalkerEnv(base_env, max_steps=800)\n",
        "    return Monitor(env)\n",
        "\n",
        "# list to contain distances\n",
        "distances = []\n",
        "\n",
        "# basic settings\n",
        "max_episode = 2000000\n",
        "makevid = 5000\n",
        "\n",
        "for i in range(0, max_episode, makevid):\n",
        "    model.learn(total_timesteps=1000)\n",
        "    model_name = \"a2c-FastWalker-v3\"\n",
        "    model.save(model_name)\n",
        "\n",
        "    # test episode\n",
        "    eval_env = make_env()\n",
        "    obs, info = eval_env.reset()\n",
        "    done = False\n",
        "    while not done:\n",
        "        action, _ = model.predict(obs, deterministic=True)\n",
        "        obs, reward, terminated, truncated, info = eval_env.step(action)\n",
        "        done = terminated or truncated\n",
        "\n",
        "    final_distance = info['distance']\n",
        "    distances.append(final_distance)\n",
        "\n",
        "    print(f\"Episode {i + makevid}: Distance traveled = {final_distance:.2f}\")\n",
        "\n",
        "    # best score update\n",
        "    if final_distance > best_distance:\n",
        "        best_distance = final_distance\n",
        "        generate_replay(\n",
        "            model=model,\n",
        "            eval_env=DummyVecEnv([make_env]),\n",
        "            video_length=800,\n",
        "            is_deterministic=True,\n",
        "            local_path=os.path.join(video_dir, best_video_name)\n",
        "        )\n",
        "\n",
        "    # 비디오만들기\n",
        "    video_name = f\"replay_{i + makevid}.mp4\"\n",
        "    generate_replay(\n",
        "        model=model,\n",
        "        eval_env=DummyVecEnv([make_env]),\n",
        "        video_length=800,\n",
        "        is_deterministic=True,\n",
        "        local_path=os.path.join(video_dir, video_name)\n",
        "    )\n",
        "\n",
        "# final model save\n",
        "model_name = \"a2c-FastWalker-v3\"\n",
        "model.save(model_name)\n",
        "\n",
        "\n",
        "print(\"\\nDistance Statistics:\")\n",
        "print(f\"Mean distance: {np.mean(distances):.2f}\")\n",
        "print(f\"Max distance: {np.max(distances):.2f}\")\n",
        "print(f\"Min distance: {np.min(distances):.2f}\")\n",
        "print(\"\\nAll distances:\", distances)\n"
      ],
      "metadata": {
        "id": "vh3qOQq5QGlH",
        "colab": {
          "base_uri": "https://localhost:8080/"
        },
        "outputId": "d03a8bef-6fe9-4e6b-db1d-d5ed6e7eba02"
      },
      "execution_count": null,
      "outputs": [
        {
          "output_type": "stream",
          "name": "stdout",
          "text": [
            "---------------------------------\n",
            "| rollout/           |          |\n",
            "|    ep_len_mean     | 921      |\n",
            "|    ep_rew_mean     | 240      |\n",
            "| time/              |          |\n",
            "|    fps             | 1544     |\n",
            "|    iterations      | 1        |\n",
            "|    time_elapsed    | 5        |\n",
            "|    total_timesteps | 8192     |\n",
            "---------------------------------\n",
            "Episode 1870000: Distance traveled = 79.96\n",
            "Moviepy - Building video /tmp/tmpvxco0472/-step-0-to-step-800.mp4.\n",
            "Moviepy - Writing video /tmp/tmpvxco0472/-step-0-to-step-800.mp4\n",
            "\n"
          ]
        },
        {
          "output_type": "stream",
          "name": "stderr",
          "text": [
            "                                                  "
          ]
        },
        {
          "output_type": "stream",
          "name": "stdout",
          "text": [
            "Moviepy - Done !\n",
            "Moviepy - video ready /tmp/tmpvxco0472/-step-0-to-step-800.mp4\n"
          ]
        },
        {
          "output_type": "stream",
          "name": "stderr",
          "text": [
            "\r"
          ]
        },
        {
          "output_type": "stream",
          "name": "stdout",
          "text": [
            "Saving video to /tmp/tmpvxco0472/-step-0-to-step-800.mp4\n",
            "Moviepy - Building video /tmp/tmpvxco0472/-step-0-to-step-800.mp4.\n",
            "Moviepy - Writing video /tmp/tmpvxco0472/-step-0-to-step-800.mp4\n",
            "\n"
          ]
        },
        {
          "output_type": "stream",
          "name": "stderr",
          "text": []
        },
        {
          "output_type": "stream",
          "name": "stdout",
          "text": [
            "Moviepy - Done !\n",
            "Moviepy - video ready /tmp/tmpvxco0472/-step-0-to-step-800.mp4\n",
            "Video saved to: /content/drive/MyDrive/ppo_final/best_replay.mp4\n",
            "Moviepy - Building video /tmp/tmpdbfb7ic3/-step-0-to-step-800.mp4.\n",
            "Moviepy - Writing video /tmp/tmpdbfb7ic3/-step-0-to-step-800.mp4\n",
            "\n"
          ]
        },
        {
          "output_type": "stream",
          "name": "stderr",
          "text": [
            "                                                  "
          ]
        },
        {
          "output_type": "stream",
          "name": "stdout",
          "text": [
            "Moviepy - Done !\n",
            "Moviepy - video ready /tmp/tmpdbfb7ic3/-step-0-to-step-800.mp4\n"
          ]
        },
        {
          "output_type": "stream",
          "name": "stderr",
          "text": [
            "\r"
          ]
        },
        {
          "output_type": "stream",
          "name": "stdout",
          "text": [
            "Saving video to /tmp/tmpdbfb7ic3/-step-0-to-step-800.mp4\n",
            "Moviepy - Building video /tmp/tmpdbfb7ic3/-step-0-to-step-800.mp4.\n",
            "Moviepy - Writing video /tmp/tmpdbfb7ic3/-step-0-to-step-800.mp4\n",
            "\n"
          ]
        },
        {
          "output_type": "stream",
          "name": "stderr",
          "text": []
        },
        {
          "output_type": "stream",
          "name": "stdout",
          "text": [
            "Moviepy - Done !\n",
            "Moviepy - video ready /tmp/tmpdbfb7ic3/-step-0-to-step-800.mp4\n",
            "Video saved to: /content/drive/MyDrive/ppo_final/replay_1870000.mp4\n",
            "---------------------------------\n",
            "| rollout/           |          |\n",
            "|    ep_len_mean     | 979      |\n",
            "|    ep_rew_mean     | 274      |\n",
            "| time/              |          |\n",
            "|    fps             | 1422     |\n",
            "|    iterations      | 1        |\n",
            "|    time_elapsed    | 5        |\n",
            "|    total_timesteps | 8192     |\n",
            "---------------------------------\n",
            "Episode 1875000: Distance traveled = 77.88\n",
            "Moviepy - Building video /tmp/tmp4e_0z_9y/-step-0-to-step-800.mp4.\n",
            "Moviepy - Writing video /tmp/tmp4e_0z_9y/-step-0-to-step-800.mp4\n",
            "\n"
          ]
        },
        {
          "output_type": "stream",
          "name": "stderr",
          "text": [
            "                                                  "
          ]
        },
        {
          "output_type": "stream",
          "name": "stdout",
          "text": [
            "Moviepy - Done !\n",
            "Moviepy - video ready /tmp/tmp4e_0z_9y/-step-0-to-step-800.mp4\n"
          ]
        },
        {
          "output_type": "stream",
          "name": "stderr",
          "text": [
            "\r"
          ]
        },
        {
          "output_type": "stream",
          "name": "stdout",
          "text": [
            "Saving video to /tmp/tmp4e_0z_9y/-step-0-to-step-800.mp4\n",
            "Moviepy - Building video /tmp/tmp4e_0z_9y/-step-0-to-step-800.mp4.\n",
            "Moviepy - Writing video /tmp/tmp4e_0z_9y/-step-0-to-step-800.mp4\n",
            "\n"
          ]
        },
        {
          "output_type": "stream",
          "name": "stderr",
          "text": []
        },
        {
          "output_type": "stream",
          "name": "stdout",
          "text": [
            "Moviepy - Done !\n",
            "Moviepy - video ready /tmp/tmp4e_0z_9y/-step-0-to-step-800.mp4\n",
            "Video saved to: /content/drive/MyDrive/ppo_final/replay_1875000.mp4\n",
            "---------------------------------\n",
            "| rollout/           |          |\n",
            "|    ep_len_mean     | 988      |\n",
            "|    ep_rew_mean     | 273      |\n",
            "| time/              |          |\n",
            "|    fps             | 1868     |\n",
            "|    iterations      | 1        |\n",
            "|    time_elapsed    | 4        |\n",
            "|    total_timesteps | 8192     |\n",
            "---------------------------------\n",
            "Episode 1880000: Distance traveled = 78.81\n",
            "Moviepy - Building video /tmp/tmpvxukth8h/-step-0-to-step-800.mp4.\n",
            "Moviepy - Writing video /tmp/tmpvxukth8h/-step-0-to-step-800.mp4\n",
            "\n"
          ]
        },
        {
          "output_type": "stream",
          "name": "stderr",
          "text": [
            "                                                  "
          ]
        },
        {
          "output_type": "stream",
          "name": "stdout",
          "text": [
            "Moviepy - Done !\n",
            "Moviepy - video ready /tmp/tmpvxukth8h/-step-0-to-step-800.mp4\n"
          ]
        },
        {
          "output_type": "stream",
          "name": "stderr",
          "text": [
            "\r"
          ]
        },
        {
          "output_type": "stream",
          "name": "stdout",
          "text": [
            "Saving video to /tmp/tmpvxukth8h/-step-0-to-step-800.mp4\n",
            "Moviepy - Building video /tmp/tmpvxukth8h/-step-0-to-step-800.mp4.\n",
            "Moviepy - Writing video /tmp/tmpvxukth8h/-step-0-to-step-800.mp4\n",
            "\n"
          ]
        },
        {
          "output_type": "stream",
          "name": "stderr",
          "text": []
        },
        {
          "output_type": "stream",
          "name": "stdout",
          "text": [
            "Moviepy - Done !\n",
            "Moviepy - video ready /tmp/tmpvxukth8h/-step-0-to-step-800.mp4\n",
            "Video saved to: /content/drive/MyDrive/ppo_final/replay_1880000.mp4\n",
            "---------------------------------\n",
            "| rollout/           |          |\n",
            "|    ep_len_mean     | 982      |\n",
            "|    ep_rew_mean     | 274      |\n",
            "| time/              |          |\n",
            "|    fps             | 1731     |\n",
            "|    iterations      | 1        |\n",
            "|    time_elapsed    | 4        |\n",
            "|    total_timesteps | 8192     |\n",
            "---------------------------------\n",
            "Episode 1885000: Distance traveled = 78.08\n",
            "Moviepy - Building video /tmp/tmplut5_ap1/-step-0-to-step-800.mp4.\n",
            "Moviepy - Writing video /tmp/tmplut5_ap1/-step-0-to-step-800.mp4\n",
            "\n"
          ]
        },
        {
          "output_type": "stream",
          "name": "stderr",
          "text": [
            "                                                  "
          ]
        },
        {
          "output_type": "stream",
          "name": "stdout",
          "text": [
            "Moviepy - Done !\n",
            "Moviepy - video ready /tmp/tmplut5_ap1/-step-0-to-step-800.mp4\n"
          ]
        },
        {
          "output_type": "stream",
          "name": "stderr",
          "text": [
            "\r"
          ]
        },
        {
          "output_type": "stream",
          "name": "stdout",
          "text": [
            "Saving video to /tmp/tmplut5_ap1/-step-0-to-step-800.mp4\n",
            "Moviepy - Building video /tmp/tmplut5_ap1/-step-0-to-step-800.mp4.\n",
            "Moviepy - Writing video /tmp/tmplut5_ap1/-step-0-to-step-800.mp4\n",
            "\n"
          ]
        },
        {
          "output_type": "stream",
          "name": "stderr",
          "text": []
        },
        {
          "output_type": "stream",
          "name": "stdout",
          "text": [
            "Moviepy - Done !\n",
            "Moviepy - video ready /tmp/tmplut5_ap1/-step-0-to-step-800.mp4\n",
            "Video saved to: /content/drive/MyDrive/ppo_final/replay_1885000.mp4\n",
            "---------------------------------\n",
            "| rollout/           |          |\n",
            "|    ep_len_mean     | 976      |\n",
            "|    ep_rew_mean     | 274      |\n",
            "| time/              |          |\n",
            "|    fps             | 1460     |\n",
            "|    iterations      | 1        |\n",
            "|    time_elapsed    | 5        |\n",
            "|    total_timesteps | 8192     |\n",
            "---------------------------------\n",
            "Episode 1890000: Distance traveled = 83.31\n",
            "Moviepy - Building video /tmp/tmp35hljjl0/-step-0-to-step-800.mp4.\n",
            "Moviepy - Writing video /tmp/tmp35hljjl0/-step-0-to-step-800.mp4\n",
            "\n"
          ]
        },
        {
          "output_type": "stream",
          "name": "stderr",
          "text": [
            "                                                  "
          ]
        },
        {
          "output_type": "stream",
          "name": "stdout",
          "text": [
            "Moviepy - Done !\n",
            "Moviepy - video ready /tmp/tmp35hljjl0/-step-0-to-step-800.mp4\n"
          ]
        },
        {
          "output_type": "stream",
          "name": "stderr",
          "text": [
            "\r"
          ]
        },
        {
          "output_type": "stream",
          "name": "stdout",
          "text": [
            "Saving video to /tmp/tmp35hljjl0/-step-0-to-step-800.mp4\n",
            "Moviepy - Building video /tmp/tmp35hljjl0/-step-0-to-step-800.mp4.\n",
            "Moviepy - Writing video /tmp/tmp35hljjl0/-step-0-to-step-800.mp4\n",
            "\n"
          ]
        },
        {
          "output_type": "stream",
          "name": "stderr",
          "text": []
        },
        {
          "output_type": "stream",
          "name": "stdout",
          "text": [
            "Moviepy - Done !\n",
            "Moviepy - video ready /tmp/tmp35hljjl0/-step-0-to-step-800.mp4\n",
            "Video saved to: /content/drive/MyDrive/ppo_final/best_replay.mp4\n",
            "Moviepy - Building video /tmp/tmp72iwxkgy/-step-0-to-step-800.mp4.\n",
            "Moviepy - Writing video /tmp/tmp72iwxkgy/-step-0-to-step-800.mp4\n",
            "\n"
          ]
        },
        {
          "output_type": "stream",
          "name": "stderr",
          "text": [
            "                                                  "
          ]
        },
        {
          "output_type": "stream",
          "name": "stdout",
          "text": [
            "Moviepy - Done !\n",
            "Moviepy - video ready /tmp/tmp72iwxkgy/-step-0-to-step-800.mp4\n"
          ]
        },
        {
          "output_type": "stream",
          "name": "stderr",
          "text": [
            "\r"
          ]
        },
        {
          "output_type": "stream",
          "name": "stdout",
          "text": [
            "Saving video to /tmp/tmp72iwxkgy/-step-0-to-step-800.mp4\n",
            "Moviepy - Building video /tmp/tmp72iwxkgy/-step-0-to-step-800.mp4.\n",
            "Moviepy - Writing video /tmp/tmp72iwxkgy/-step-0-to-step-800.mp4\n",
            "\n"
          ]
        },
        {
          "output_type": "stream",
          "name": "stderr",
          "text": []
        },
        {
          "output_type": "stream",
          "name": "stdout",
          "text": [
            "Moviepy - Done !\n",
            "Moviepy - video ready /tmp/tmp72iwxkgy/-step-0-to-step-800.mp4\n",
            "Video saved to: /content/drive/MyDrive/ppo_final/replay_1890000.mp4\n",
            "---------------------------------\n",
            "| rollout/           |          |\n",
            "|    ep_len_mean     | 989      |\n",
            "|    ep_rew_mean     | 273      |\n",
            "| time/              |          |\n",
            "|    fps             | 1872     |\n",
            "|    iterations      | 1        |\n",
            "|    time_elapsed    | 4        |\n",
            "|    total_timesteps | 8192     |\n",
            "---------------------------------\n",
            "Episode 1895000: Distance traveled = 73.47\n",
            "Moviepy - Building video /tmp/tmpaznm1zoe/-step-0-to-step-800.mp4.\n",
            "Moviepy - Writing video /tmp/tmpaznm1zoe/-step-0-to-step-800.mp4\n",
            "\n"
          ]
        },
        {
          "output_type": "stream",
          "name": "stderr",
          "text": [
            "                                                  "
          ]
        },
        {
          "output_type": "stream",
          "name": "stdout",
          "text": [
            "Moviepy - Done !\n",
            "Moviepy - video ready /tmp/tmpaznm1zoe/-step-0-to-step-800.mp4\n"
          ]
        },
        {
          "output_type": "stream",
          "name": "stderr",
          "text": [
            "\r"
          ]
        },
        {
          "output_type": "stream",
          "name": "stdout",
          "text": [
            "Moviepy - Building video /tmp/tmpaznm1zoe/-step-0-to-step-800.mp4.\n",
            "Moviepy - Writing video /tmp/tmpaznm1zoe/-step-0-to-step-800.mp4\n",
            "\n"
          ]
        },
        {
          "output_type": "stream",
          "name": "stderr",
          "text": []
        },
        {
          "output_type": "stream",
          "name": "stdout",
          "text": [
            "Moviepy - Done !\n",
            "Moviepy - video ready /tmp/tmpaznm1zoe/-step-0-to-step-800.mp4\n",
            "Video saved to: /content/drive/MyDrive/ppo_final/replay_1895000.mp4\n",
            "---------------------------------\n",
            "| rollout/           |          |\n",
            "|    ep_len_mean     | 896      |\n",
            "|    ep_rew_mean     | 243      |\n",
            "| time/              |          |\n",
            "|    fps             | 1900     |\n",
            "|    iterations      | 1        |\n",
            "|    time_elapsed    | 4        |\n",
            "|    total_timesteps | 8192     |\n",
            "---------------------------------\n",
            "Episode 1900000: Distance traveled = 76.06\n",
            "Moviepy - Building video /tmp/tmp5qr5nwzy/-step-0-to-step-800.mp4.\n",
            "Moviepy - Writing video /tmp/tmp5qr5nwzy/-step-0-to-step-800.mp4\n",
            "\n"
          ]
        },
        {
          "output_type": "stream",
          "name": "stderr",
          "text": [
            "                                                  "
          ]
        },
        {
          "output_type": "stream",
          "name": "stdout",
          "text": [
            "Moviepy - Done !\n",
            "Moviepy - video ready /tmp/tmp5qr5nwzy/-step-0-to-step-800.mp4\n"
          ]
        },
        {
          "output_type": "stream",
          "name": "stderr",
          "text": [
            "\r"
          ]
        },
        {
          "output_type": "stream",
          "name": "stdout",
          "text": [
            "Saving video to /tmp/tmp5qr5nwzy/-step-0-to-step-800.mp4\n",
            "Moviepy - Building video /tmp/tmp5qr5nwzy/-step-0-to-step-800.mp4.\n",
            "Moviepy - Writing video /tmp/tmp5qr5nwzy/-step-0-to-step-800.mp4\n",
            "\n"
          ]
        },
        {
          "output_type": "stream",
          "name": "stderr",
          "text": []
        },
        {
          "output_type": "stream",
          "name": "stdout",
          "text": [
            "Moviepy - Done !\n",
            "Moviepy - video ready /tmp/tmp5qr5nwzy/-step-0-to-step-800.mp4\n",
            "Video saved to: /content/drive/MyDrive/ppo_final/replay_1900000.mp4\n",
            "---------------------------------\n",
            "| rollout/           |          |\n",
            "|    ep_len_mean     | 862      |\n",
            "|    ep_rew_mean     | 225      |\n",
            "| time/              |          |\n",
            "|    fps             | 1748     |\n",
            "|    iterations      | 1        |\n",
            "|    time_elapsed    | 4        |\n",
            "|    total_timesteps | 8192     |\n",
            "---------------------------------\n",
            "Episode 1905000: Distance traveled = 72.20\n",
            "Moviepy - Building video /tmp/tmpva_nbqpg/-step-0-to-step-800.mp4.\n",
            "Moviepy - Writing video /tmp/tmpva_nbqpg/-step-0-to-step-800.mp4\n",
            "\n"
          ]
        },
        {
          "output_type": "stream",
          "name": "stderr",
          "text": [
            "                                                  "
          ]
        },
        {
          "output_type": "stream",
          "name": "stdout",
          "text": [
            "Moviepy - Done !\n",
            "Moviepy - video ready /tmp/tmpva_nbqpg/-step-0-to-step-800.mp4\n"
          ]
        },
        {
          "output_type": "stream",
          "name": "stderr",
          "text": [
            "\r"
          ]
        },
        {
          "output_type": "stream",
          "name": "stdout",
          "text": [
            "Saving video to /tmp/tmpva_nbqpg/-step-0-to-step-800.mp4\n",
            "Moviepy - Building video /tmp/tmpva_nbqpg/-step-0-to-step-800.mp4.\n",
            "Moviepy - Writing video /tmp/tmpva_nbqpg/-step-0-to-step-800.mp4\n",
            "\n"
          ]
        },
        {
          "output_type": "stream",
          "name": "stderr",
          "text": []
        },
        {
          "output_type": "stream",
          "name": "stdout",
          "text": [
            "Moviepy - Done !\n",
            "Moviepy - video ready /tmp/tmpva_nbqpg/-step-0-to-step-800.mp4\n",
            "Video saved to: /content/drive/MyDrive/ppo_final/replay_1905000.mp4\n",
            "---------------------------------\n",
            "| rollout/           |          |\n",
            "|    ep_len_mean     | 866      |\n",
            "|    ep_rew_mean     | 225      |\n",
            "| time/              |          |\n",
            "|    fps             | 1542     |\n",
            "|    iterations      | 1        |\n",
            "|    time_elapsed    | 5        |\n",
            "|    total_timesteps | 8192     |\n",
            "---------------------------------\n",
            "Episode 1910000: Distance traveled = 48.52\n",
            "Moviepy - Building video /tmp/tmp7ex1ycw3/-step-0-to-step-800.mp4.\n",
            "Moviepy - Writing video /tmp/tmp7ex1ycw3/-step-0-to-step-800.mp4\n",
            "\n"
          ]
        },
        {
          "output_type": "stream",
          "name": "stderr",
          "text": [
            "                                                  "
          ]
        },
        {
          "output_type": "stream",
          "name": "stdout",
          "text": [
            "Moviepy - Done !\n",
            "Moviepy - video ready /tmp/tmp7ex1ycw3/-step-0-to-step-800.mp4\n"
          ]
        },
        {
          "output_type": "stream",
          "name": "stderr",
          "text": [
            "\r"
          ]
        },
        {
          "output_type": "stream",
          "name": "stdout",
          "text": [
            "Saving video to /tmp/tmp7ex1ycw3/-step-0-to-step-800.mp4\n",
            "Moviepy - Building video /tmp/tmp7ex1ycw3/-step-0-to-step-800.mp4.\n",
            "Moviepy - Writing video /tmp/tmp7ex1ycw3/-step-0-to-step-800.mp4\n",
            "\n"
          ]
        },
        {
          "output_type": "stream",
          "name": "stderr",
          "text": []
        },
        {
          "output_type": "stream",
          "name": "stdout",
          "text": [
            "Moviepy - Done !\n",
            "Moviepy - video ready /tmp/tmp7ex1ycw3/-step-0-to-step-800.mp4\n",
            "Video saved to: /content/drive/MyDrive/ppo_final/replay_1910000.mp4\n",
            "---------------------------------\n",
            "| rollout/           |          |\n",
            "|    ep_len_mean     | 829      |\n",
            "|    ep_rew_mean     | 211      |\n",
            "| time/              |          |\n",
            "|    fps             | 1897     |\n",
            "|    iterations      | 1        |\n",
            "|    time_elapsed    | 4        |\n",
            "|    total_timesteps | 8192     |\n",
            "---------------------------------\n",
            "Episode 1915000: Distance traveled = 77.03\n",
            "Moviepy - Building video /tmp/tmpzctgx32i/-step-0-to-step-800.mp4.\n",
            "Moviepy - Writing video /tmp/tmpzctgx32i/-step-0-to-step-800.mp4\n",
            "\n"
          ]
        },
        {
          "output_type": "stream",
          "name": "stderr",
          "text": [
            "                                                  "
          ]
        },
        {
          "output_type": "stream",
          "name": "stdout",
          "text": [
            "Moviepy - Done !\n",
            "Moviepy - video ready /tmp/tmpzctgx32i/-step-0-to-step-800.mp4\n"
          ]
        },
        {
          "output_type": "stream",
          "name": "stderr",
          "text": [
            "\r"
          ]
        },
        {
          "output_type": "stream",
          "name": "stdout",
          "text": [
            "Saving video to /tmp/tmpzctgx32i/-step-0-to-step-800.mp4\n",
            "Moviepy - Building video /tmp/tmpzctgx32i/-step-0-to-step-800.mp4.\n",
            "Moviepy - Writing video /tmp/tmpzctgx32i/-step-0-to-step-800.mp4\n",
            "\n"
          ]
        },
        {
          "output_type": "stream",
          "name": "stderr",
          "text": []
        },
        {
          "output_type": "stream",
          "name": "stdout",
          "text": [
            "Moviepy - Done !\n",
            "Moviepy - video ready /tmp/tmpzctgx32i/-step-0-to-step-800.mp4\n",
            "Video saved to: /content/drive/MyDrive/ppo_final/replay_1915000.mp4\n",
            "---------------------------------\n",
            "| rollout/           |          |\n",
            "|    ep_len_mean     | 976      |\n",
            "|    ep_rew_mean     | 273      |\n",
            "| time/              |          |\n",
            "|    fps             | 1636     |\n",
            "|    iterations      | 1        |\n",
            "|    time_elapsed    | 5        |\n",
            "|    total_timesteps | 8192     |\n",
            "---------------------------------\n",
            "Episode 1920000: Distance traveled = 76.94\n",
            "Moviepy - Building video /tmp/tmpo21nassr/-step-0-to-step-800.mp4.\n",
            "Moviepy - Writing video /tmp/tmpo21nassr/-step-0-to-step-800.mp4\n",
            "\n"
          ]
        },
        {
          "output_type": "stream",
          "name": "stderr",
          "text": [
            "                                                  "
          ]
        },
        {
          "output_type": "stream",
          "name": "stdout",
          "text": [
            "Moviepy - Done !\n",
            "Moviepy - video ready /tmp/tmpo21nassr/-step-0-to-step-800.mp4\n"
          ]
        },
        {
          "output_type": "stream",
          "name": "stderr",
          "text": [
            "\r"
          ]
        },
        {
          "output_type": "stream",
          "name": "stdout",
          "text": [
            "Saving video to /tmp/tmpo21nassr/-step-0-to-step-800.mp4\n",
            "Moviepy - Building video /tmp/tmpo21nassr/-step-0-to-step-800.mp4.\n",
            "Moviepy - Writing video /tmp/tmpo21nassr/-step-0-to-step-800.mp4\n",
            "\n"
          ]
        },
        {
          "output_type": "stream",
          "name": "stderr",
          "text": []
        },
        {
          "output_type": "stream",
          "name": "stdout",
          "text": [
            "Moviepy - Done !\n",
            "Moviepy - video ready /tmp/tmpo21nassr/-step-0-to-step-800.mp4\n",
            "Video saved to: /content/drive/MyDrive/ppo_final/replay_1920000.mp4\n",
            "---------------------------------\n",
            "| rollout/           |          |\n",
            "|    ep_len_mean     | 973      |\n",
            "|    ep_rew_mean     | 273      |\n",
            "| time/              |          |\n",
            "|    fps             | 1769     |\n",
            "|    iterations      | 1        |\n",
            "|    time_elapsed    | 4        |\n",
            "|    total_timesteps | 8192     |\n",
            "---------------------------------\n",
            "Episode 1925000: Distance traveled = 81.22\n",
            "Moviepy - Building video /tmp/tmp9_0fqd_x/-step-0-to-step-800.mp4.\n",
            "Moviepy - Writing video /tmp/tmp9_0fqd_x/-step-0-to-step-800.mp4\n",
            "\n"
          ]
        },
        {
          "output_type": "stream",
          "name": "stderr",
          "text": [
            "                                                  "
          ]
        },
        {
          "output_type": "stream",
          "name": "stdout",
          "text": [
            "Moviepy - Done !\n",
            "Moviepy - video ready /tmp/tmp9_0fqd_x/-step-0-to-step-800.mp4\n"
          ]
        },
        {
          "output_type": "stream",
          "name": "stderr",
          "text": [
            "\r"
          ]
        },
        {
          "output_type": "stream",
          "name": "stdout",
          "text": [
            "Saving video to /tmp/tmp9_0fqd_x/-step-0-to-step-800.mp4\n",
            "Moviepy - Building video /tmp/tmp9_0fqd_x/-step-0-to-step-800.mp4.\n",
            "Moviepy - Writing video /tmp/tmp9_0fqd_x/-step-0-to-step-800.mp4\n",
            "\n"
          ]
        },
        {
          "output_type": "stream",
          "name": "stderr",
          "text": []
        },
        {
          "output_type": "stream",
          "name": "stdout",
          "text": [
            "Moviepy - Done !\n",
            "Moviepy - video ready /tmp/tmp9_0fqd_x/-step-0-to-step-800.mp4\n",
            "Video saved to: /content/drive/MyDrive/ppo_final/replay_1925000.mp4\n",
            "---------------------------------\n",
            "| rollout/           |          |\n",
            "|    ep_len_mean     | 768      |\n",
            "|    ep_rew_mean     | 188      |\n",
            "| time/              |          |\n",
            "|    fps             | 1864     |\n",
            "|    iterations      | 1        |\n",
            "|    time_elapsed    | 4        |\n",
            "|    total_timesteps | 8192     |\n",
            "---------------------------------\n",
            "Episode 1930000: Distance traveled = 81.69\n",
            "Moviepy - Building video /tmp/tmpmrqobfyj/-step-0-to-step-800.mp4.\n",
            "Moviepy - Writing video /tmp/tmpmrqobfyj/-step-0-to-step-800.mp4\n",
            "\n"
          ]
        },
        {
          "output_type": "stream",
          "name": "stderr",
          "text": [
            "                                                  "
          ]
        },
        {
          "output_type": "stream",
          "name": "stdout",
          "text": [
            "Moviepy - Done !\n",
            "Moviepy - video ready /tmp/tmpmrqobfyj/-step-0-to-step-800.mp4\n"
          ]
        },
        {
          "output_type": "stream",
          "name": "stderr",
          "text": [
            "\r"
          ]
        },
        {
          "output_type": "stream",
          "name": "stdout",
          "text": [
            "Saving video to /tmp/tmpmrqobfyj/-step-0-to-step-800.mp4\n",
            "Moviepy - Building video /tmp/tmpmrqobfyj/-step-0-to-step-800.mp4.\n",
            "Moviepy - Writing video /tmp/tmpmrqobfyj/-step-0-to-step-800.mp4\n",
            "\n"
          ]
        },
        {
          "output_type": "stream",
          "name": "stderr",
          "text": []
        },
        {
          "output_type": "stream",
          "name": "stdout",
          "text": [
            "Moviepy - Done !\n",
            "Moviepy - video ready /tmp/tmpmrqobfyj/-step-0-to-step-800.mp4\n",
            "Video saved to: /content/drive/MyDrive/ppo_final/replay_1930000.mp4\n",
            "---------------------------------\n",
            "| rollout/           |          |\n",
            "|    ep_len_mean     | 955      |\n",
            "|    ep_rew_mean     | 275      |\n",
            "| time/              |          |\n",
            "|    fps             | 1488     |\n",
            "|    iterations      | 1        |\n",
            "|    time_elapsed    | 5        |\n",
            "|    total_timesteps | 8192     |\n",
            "---------------------------------\n",
            "Episode 1935000: Distance traveled = 80.75\n",
            "Moviepy - Building video /tmp/tmp9c64ci7r/-step-0-to-step-800.mp4.\n",
            "Moviepy - Writing video /tmp/tmp9c64ci7r/-step-0-to-step-800.mp4\n",
            "\n"
          ]
        },
        {
          "output_type": "stream",
          "name": "stderr",
          "text": [
            "                                                  "
          ]
        },
        {
          "output_type": "stream",
          "name": "stdout",
          "text": [
            "Moviepy - Done !\n",
            "Moviepy - video ready /tmp/tmp9c64ci7r/-step-0-to-step-800.mp4\n"
          ]
        },
        {
          "output_type": "stream",
          "name": "stderr",
          "text": [
            "\r"
          ]
        },
        {
          "output_type": "stream",
          "name": "stdout",
          "text": [
            "Saving video to /tmp/tmp9c64ci7r/-step-0-to-step-800.mp4\n",
            "Moviepy - Building video /tmp/tmp9c64ci7r/-step-0-to-step-800.mp4.\n",
            "Moviepy - Writing video /tmp/tmp9c64ci7r/-step-0-to-step-800.mp4\n",
            "\n"
          ]
        },
        {
          "output_type": "stream",
          "name": "stderr",
          "text": []
        },
        {
          "output_type": "stream",
          "name": "stdout",
          "text": [
            "Moviepy - Done !\n",
            "Moviepy - video ready /tmp/tmp9c64ci7r/-step-0-to-step-800.mp4\n",
            "Video saved to: /content/drive/MyDrive/ppo_final/replay_1935000.mp4\n",
            "---------------------------------\n",
            "| rollout/           |          |\n",
            "|    ep_len_mean     | 697      |\n",
            "|    ep_rew_mean     | 143      |\n",
            "| time/              |          |\n",
            "|    fps             | 1807     |\n",
            "|    iterations      | 1        |\n",
            "|    time_elapsed    | 4        |\n",
            "|    total_timesteps | 8192     |\n",
            "---------------------------------\n",
            "Episode 1940000: Distance traveled = 78.33\n",
            "Moviepy - Building video /tmp/tmpeu889ezf/-step-0-to-step-800.mp4.\n",
            "Moviepy - Writing video /tmp/tmpeu889ezf/-step-0-to-step-800.mp4\n",
            "\n"
          ]
        },
        {
          "output_type": "stream",
          "name": "stderr",
          "text": [
            "                                                  "
          ]
        },
        {
          "output_type": "stream",
          "name": "stdout",
          "text": [
            "Moviepy - Done !\n",
            "Moviepy - video ready /tmp/tmpeu889ezf/-step-0-to-step-800.mp4\n"
          ]
        },
        {
          "output_type": "stream",
          "name": "stderr",
          "text": [
            "\r"
          ]
        },
        {
          "output_type": "stream",
          "name": "stdout",
          "text": [
            "Saving video to /tmp/tmpeu889ezf/-step-0-to-step-800.mp4\n",
            "Moviepy - Building video /tmp/tmpeu889ezf/-step-0-to-step-800.mp4.\n",
            "Moviepy - Writing video /tmp/tmpeu889ezf/-step-0-to-step-800.mp4\n",
            "\n"
          ]
        },
        {
          "output_type": "stream",
          "name": "stderr",
          "text": []
        },
        {
          "output_type": "stream",
          "name": "stdout",
          "text": [
            "Moviepy - Done !\n",
            "Moviepy - video ready /tmp/tmpeu889ezf/-step-0-to-step-800.mp4\n",
            "Video saved to: /content/drive/MyDrive/ppo_final/replay_1940000.mp4\n",
            "---------------------------------\n",
            "| rollout/           |          |\n",
            "|    ep_len_mean     | 864      |\n",
            "|    ep_rew_mean     | 225      |\n",
            "| time/              |          |\n",
            "|    fps             | 1882     |\n",
            "|    iterations      | 1        |\n",
            "|    time_elapsed    | 4        |\n",
            "|    total_timesteps | 8192     |\n",
            "---------------------------------\n",
            "Episode 1945000: Distance traveled = 82.26\n",
            "Moviepy - Building video /tmp/tmpual47z8r/-step-0-to-step-800.mp4.\n",
            "Moviepy - Writing video /tmp/tmpual47z8r/-step-0-to-step-800.mp4\n",
            "\n"
          ]
        },
        {
          "output_type": "stream",
          "name": "stderr",
          "text": [
            "                                                  "
          ]
        },
        {
          "output_type": "stream",
          "name": "stdout",
          "text": [
            "Moviepy - Done !\n",
            "Moviepy - video ready /tmp/tmpual47z8r/-step-0-to-step-800.mp4\n"
          ]
        },
        {
          "output_type": "stream",
          "name": "stderr",
          "text": [
            "\r"
          ]
        },
        {
          "output_type": "stream",
          "name": "stdout",
          "text": [
            "Saving video to /tmp/tmpual47z8r/-step-0-to-step-800.mp4\n",
            "Moviepy - Building video /tmp/tmpual47z8r/-step-0-to-step-800.mp4.\n",
            "Moviepy - Writing video /tmp/tmpual47z8r/-step-0-to-step-800.mp4\n",
            "\n"
          ]
        },
        {
          "output_type": "stream",
          "name": "stderr",
          "text": []
        },
        {
          "output_type": "stream",
          "name": "stdout",
          "text": [
            "Moviepy - Done !\n",
            "Moviepy - video ready /tmp/tmpual47z8r/-step-0-to-step-800.mp4\n",
            "Video saved to: /content/drive/MyDrive/ppo_final/replay_1945000.mp4\n",
            "---------------------------------\n",
            "| rollout/           |          |\n",
            "|    ep_len_mean     | 853      |\n",
            "|    ep_rew_mean     | 219      |\n",
            "| time/              |          |\n",
            "|    fps             | 1464     |\n",
            "|    iterations      | 1        |\n",
            "|    time_elapsed    | 5        |\n",
            "|    total_timesteps | 8192     |\n",
            "---------------------------------\n",
            "Episode 1950000: Distance traveled = -1.84\n",
            "Moviepy - Building video /tmp/tmppuindonq/-step-0-to-step-800.mp4.\n",
            "Moviepy - Writing video /tmp/tmppuindonq/-step-0-to-step-800.mp4\n",
            "\n"
          ]
        },
        {
          "output_type": "stream",
          "name": "stderr",
          "text": [
            "                                                  "
          ]
        },
        {
          "output_type": "stream",
          "name": "stdout",
          "text": [
            "Moviepy - Done !\n",
            "Moviepy - video ready /tmp/tmppuindonq/-step-0-to-step-800.mp4\n"
          ]
        },
        {
          "output_type": "stream",
          "name": "stderr",
          "text": [
            "\r"
          ]
        },
        {
          "output_type": "stream",
          "name": "stdout",
          "text": [
            "Saving video to /tmp/tmppuindonq/-step-0-to-step-800.mp4\n",
            "Moviepy - Building video /tmp/tmppuindonq/-step-0-to-step-800.mp4.\n",
            "Moviepy - Writing video /tmp/tmppuindonq/-step-0-to-step-800.mp4\n",
            "\n"
          ]
        },
        {
          "output_type": "stream",
          "name": "stderr",
          "text": []
        },
        {
          "output_type": "stream",
          "name": "stdout",
          "text": [
            "Moviepy - Done !\n",
            "Moviepy - video ready /tmp/tmppuindonq/-step-0-to-step-800.mp4\n",
            "Video saved to: /content/drive/MyDrive/ppo_final/replay_1950000.mp4\n",
            "---------------------------------\n",
            "| rollout/           |          |\n",
            "|    ep_len_mean     | 892      |\n",
            "|    ep_rew_mean     | 244      |\n",
            "| time/              |          |\n",
            "|    fps             | 1870     |\n",
            "|    iterations      | 1        |\n",
            "|    time_elapsed    | 4        |\n",
            "|    total_timesteps | 8192     |\n",
            "---------------------------------\n",
            "Episode 1955000: Distance traveled = 82.60\n",
            "Moviepy - Building video /tmp/tmp4pw2f1f5/-step-0-to-step-800.mp4.\n",
            "Moviepy - Writing video /tmp/tmp4pw2f1f5/-step-0-to-step-800.mp4\n",
            "\n"
          ]
        },
        {
          "output_type": "stream",
          "name": "stderr",
          "text": [
            "                                                  "
          ]
        },
        {
          "output_type": "stream",
          "name": "stdout",
          "text": [
            "Moviepy - Done !\n",
            "Moviepy - video ready /tmp/tmp4pw2f1f5/-step-0-to-step-800.mp4\n"
          ]
        },
        {
          "output_type": "stream",
          "name": "stderr",
          "text": [
            "\r"
          ]
        },
        {
          "output_type": "stream",
          "name": "stdout",
          "text": [
            "Saving video to /tmp/tmp4pw2f1f5/-step-0-to-step-800.mp4\n",
            "Moviepy - Building video /tmp/tmp4pw2f1f5/-step-0-to-step-800.mp4.\n",
            "Moviepy - Writing video /tmp/tmp4pw2f1f5/-step-0-to-step-800.mp4\n",
            "\n"
          ]
        },
        {
          "output_type": "stream",
          "name": "stderr",
          "text": []
        },
        {
          "output_type": "stream",
          "name": "stdout",
          "text": [
            "Moviepy - Done !\n",
            "Moviepy - video ready /tmp/tmp4pw2f1f5/-step-0-to-step-800.mp4\n",
            "Video saved to: /content/drive/MyDrive/ppo_final/replay_1955000.mp4\n",
            "---------------------------------\n",
            "| rollout/           |          |\n",
            "|    ep_len_mean     | 840      |\n",
            "|    ep_rew_mean     | 217      |\n",
            "| time/              |          |\n",
            "|    fps             | 1668     |\n",
            "|    iterations      | 1        |\n",
            "|    time_elapsed    | 4        |\n",
            "|    total_timesteps | 8192     |\n",
            "---------------------------------\n",
            "Episode 1960000: Distance traveled = 41.17\n",
            "Moviepy - Building video /tmp/tmp2dny1ule/-step-0-to-step-800.mp4.\n",
            "Moviepy - Writing video /tmp/tmp2dny1ule/-step-0-to-step-800.mp4\n",
            "\n"
          ]
        },
        {
          "output_type": "stream",
          "name": "stderr",
          "text": [
            "                                                  "
          ]
        },
        {
          "output_type": "stream",
          "name": "stdout",
          "text": [
            "Moviepy - Done !\n",
            "Moviepy - video ready /tmp/tmp2dny1ule/-step-0-to-step-800.mp4\n"
          ]
        },
        {
          "output_type": "stream",
          "name": "stderr",
          "text": [
            "\r"
          ]
        },
        {
          "output_type": "stream",
          "name": "stdout",
          "text": [
            "Saving video to /tmp/tmp2dny1ule/-step-0-to-step-800.mp4\n",
            "Moviepy - Building video /tmp/tmp2dny1ule/-step-0-to-step-800.mp4.\n",
            "Moviepy - Writing video /tmp/tmp2dny1ule/-step-0-to-step-800.mp4\n",
            "\n"
          ]
        },
        {
          "output_type": "stream",
          "name": "stderr",
          "text": []
        },
        {
          "output_type": "stream",
          "name": "stdout",
          "text": [
            "Moviepy - Done !\n",
            "Moviepy - video ready /tmp/tmp2dny1ule/-step-0-to-step-800.mp4\n",
            "Video saved to: /content/drive/MyDrive/ppo_final/replay_1960000.mp4\n",
            "---------------------------------\n",
            "| rollout/           |          |\n",
            "|    ep_len_mean     | 775      |\n",
            "|    ep_rew_mean     | 187      |\n",
            "| time/              |          |\n",
            "|    fps             | 1628     |\n",
            "|    iterations      | 1        |\n",
            "|    time_elapsed    | 5        |\n",
            "|    total_timesteps | 8192     |\n",
            "---------------------------------\n",
            "Episode 1965000: Distance traveled = 80.00\n",
            "Moviepy - Building video /tmp/tmpsjlha5q1/-step-0-to-step-800.mp4.\n",
            "Moviepy - Writing video /tmp/tmpsjlha5q1/-step-0-to-step-800.mp4\n",
            "\n"
          ]
        },
        {
          "output_type": "stream",
          "name": "stderr",
          "text": [
            "                                                  "
          ]
        },
        {
          "output_type": "stream",
          "name": "stdout",
          "text": [
            "Moviepy - Done !\n",
            "Moviepy - video ready /tmp/tmpsjlha5q1/-step-0-to-step-800.mp4\n"
          ]
        },
        {
          "output_type": "stream",
          "name": "stderr",
          "text": [
            "\r"
          ]
        },
        {
          "output_type": "stream",
          "name": "stdout",
          "text": [
            "Saving video to /tmp/tmpsjlha5q1/-step-0-to-step-800.mp4\n",
            "Moviepy - Building video /tmp/tmpsjlha5q1/-step-0-to-step-800.mp4.\n",
            "Moviepy - Writing video /tmp/tmpsjlha5q1/-step-0-to-step-800.mp4\n",
            "\n"
          ]
        },
        {
          "output_type": "stream",
          "name": "stderr",
          "text": []
        },
        {
          "output_type": "stream",
          "name": "stdout",
          "text": [
            "Moviepy - Done !\n",
            "Moviepy - video ready /tmp/tmpsjlha5q1/-step-0-to-step-800.mp4\n",
            "Video saved to: /content/drive/MyDrive/ppo_final/replay_1965000.mp4\n",
            "---------------------------------\n",
            "| rollout/           |          |\n",
            "|    ep_len_mean     | 862      |\n",
            "|    ep_rew_mean     | 220      |\n",
            "| time/              |          |\n",
            "|    fps             | 1882     |\n",
            "|    iterations      | 1        |\n",
            "|    time_elapsed    | 4        |\n",
            "|    total_timesteps | 8192     |\n",
            "---------------------------------\n",
            "Episode 1970000: Distance traveled = 83.20\n",
            "Moviepy - Building video /tmp/tmpi6d82t_6/-step-0-to-step-800.mp4.\n",
            "Moviepy - Writing video /tmp/tmpi6d82t_6/-step-0-to-step-800.mp4\n",
            "\n"
          ]
        },
        {
          "output_type": "stream",
          "name": "stderr",
          "text": [
            "                                                  "
          ]
        },
        {
          "output_type": "stream",
          "name": "stdout",
          "text": [
            "Moviepy - Done !\n",
            "Moviepy - video ready /tmp/tmpi6d82t_6/-step-0-to-step-800.mp4\n"
          ]
        },
        {
          "output_type": "stream",
          "name": "stderr",
          "text": [
            "\r"
          ]
        },
        {
          "output_type": "stream",
          "name": "stdout",
          "text": [
            "Saving video to /tmp/tmpi6d82t_6/-step-0-to-step-800.mp4\n",
            "Moviepy - Building video /tmp/tmpi6d82t_6/-step-0-to-step-800.mp4.\n",
            "Moviepy - Writing video /tmp/tmpi6d82t_6/-step-0-to-step-800.mp4\n",
            "\n"
          ]
        },
        {
          "output_type": "stream",
          "name": "stderr",
          "text": []
        },
        {
          "output_type": "stream",
          "name": "stdout",
          "text": [
            "Moviepy - Done !\n",
            "Moviepy - video ready /tmp/tmpi6d82t_6/-step-0-to-step-800.mp4\n",
            "Video saved to: /content/drive/MyDrive/ppo_final/replay_1970000.mp4\n",
            "---------------------------------\n",
            "| rollout/           |          |\n",
            "|    ep_len_mean     | 737      |\n",
            "|    ep_rew_mean     | 152      |\n",
            "| time/              |          |\n",
            "|    fps             | 1616     |\n",
            "|    iterations      | 1        |\n",
            "|    time_elapsed    | 5        |\n",
            "|    total_timesteps | 8192     |\n",
            "---------------------------------\n",
            "Episode 1975000: Distance traveled = 82.17\n",
            "Moviepy - Building video /tmp/tmp3_yp_33c/-step-0-to-step-800.mp4.\n",
            "Moviepy - Writing video /tmp/tmp3_yp_33c/-step-0-to-step-800.mp4\n",
            "\n"
          ]
        },
        {
          "output_type": "stream",
          "name": "stderr",
          "text": [
            "                                                  "
          ]
        },
        {
          "output_type": "stream",
          "name": "stdout",
          "text": [
            "Moviepy - Done !\n",
            "Moviepy - video ready /tmp/tmp3_yp_33c/-step-0-to-step-800.mp4\n"
          ]
        },
        {
          "output_type": "stream",
          "name": "stderr",
          "text": [
            "\r"
          ]
        },
        {
          "output_type": "stream",
          "name": "stdout",
          "text": [
            "Saving video to /tmp/tmp3_yp_33c/-step-0-to-step-800.mp4\n",
            "Moviepy - Building video /tmp/tmp3_yp_33c/-step-0-to-step-800.mp4.\n",
            "Moviepy - Writing video /tmp/tmp3_yp_33c/-step-0-to-step-800.mp4\n",
            "\n"
          ]
        },
        {
          "output_type": "stream",
          "name": "stderr",
          "text": []
        },
        {
          "output_type": "stream",
          "name": "stdout",
          "text": [
            "Moviepy - Done !\n",
            "Moviepy - video ready /tmp/tmp3_yp_33c/-step-0-to-step-800.mp4\n",
            "Video saved to: /content/drive/MyDrive/ppo_final/replay_1975000.mp4\n",
            "---------------------------------\n",
            "| rollout/           |          |\n",
            "|    ep_len_mean     | 792      |\n",
            "|    ep_rew_mean     | 198      |\n",
            "| time/              |          |\n",
            "|    fps             | 1614     |\n",
            "|    iterations      | 1        |\n",
            "|    time_elapsed    | 5        |\n",
            "|    total_timesteps | 8192     |\n",
            "---------------------------------\n",
            "Episode 1980000: Distance traveled = 83.30\n",
            "Moviepy - Building video /tmp/tmpuy7kkzp8/-step-0-to-step-800.mp4.\n",
            "Moviepy - Writing video /tmp/tmpuy7kkzp8/-step-0-to-step-800.mp4\n",
            "\n"
          ]
        },
        {
          "output_type": "stream",
          "name": "stderr",
          "text": [
            "                                                  "
          ]
        },
        {
          "output_type": "stream",
          "name": "stdout",
          "text": [
            "Moviepy - Done !\n",
            "Moviepy - video ready /tmp/tmpuy7kkzp8/-step-0-to-step-800.mp4\n"
          ]
        },
        {
          "output_type": "stream",
          "name": "stderr",
          "text": [
            "\r"
          ]
        },
        {
          "output_type": "stream",
          "name": "stdout",
          "text": [
            "Saving video to /tmp/tmpuy7kkzp8/-step-0-to-step-800.mp4\n",
            "Moviepy - Building video /tmp/tmpuy7kkzp8/-step-0-to-step-800.mp4.\n",
            "Moviepy - Writing video /tmp/tmpuy7kkzp8/-step-0-to-step-800.mp4\n",
            "\n"
          ]
        },
        {
          "output_type": "stream",
          "name": "stderr",
          "text": []
        },
        {
          "output_type": "stream",
          "name": "stdout",
          "text": [
            "Moviepy - Done !\n",
            "Moviepy - video ready /tmp/tmpuy7kkzp8/-step-0-to-step-800.mp4\n",
            "Video saved to: /content/drive/MyDrive/ppo_final/replay_1980000.mp4\n",
            "---------------------------------\n",
            "| rollout/           |          |\n",
            "|    ep_len_mean     | 834      |\n",
            "|    ep_rew_mean     | 215      |\n",
            "| time/              |          |\n",
            "|    fps             | 1904     |\n",
            "|    iterations      | 1        |\n",
            "|    time_elapsed    | 4        |\n",
            "|    total_timesteps | 8192     |\n",
            "---------------------------------\n",
            "Episode 1985000: Distance traveled = 83.41\n",
            "Moviepy - Building video /tmp/tmpsmsvne35/-step-0-to-step-800.mp4.\n",
            "Moviepy - Writing video /tmp/tmpsmsvne35/-step-0-to-step-800.mp4\n",
            "\n"
          ]
        },
        {
          "output_type": "stream",
          "name": "stderr",
          "text": [
            "                                                  "
          ]
        },
        {
          "output_type": "stream",
          "name": "stdout",
          "text": [
            "Moviepy - Done !\n",
            "Moviepy - video ready /tmp/tmpsmsvne35/-step-0-to-step-800.mp4\n"
          ]
        },
        {
          "output_type": "stream",
          "name": "stderr",
          "text": [
            "\r"
          ]
        },
        {
          "output_type": "stream",
          "name": "stdout",
          "text": [
            "Saving video to /tmp/tmpsmsvne35/-step-0-to-step-800.mp4\n",
            "Moviepy - Building video /tmp/tmpsmsvne35/-step-0-to-step-800.mp4.\n",
            "Moviepy - Writing video /tmp/tmpsmsvne35/-step-0-to-step-800.mp4\n",
            "\n"
          ]
        },
        {
          "output_type": "stream",
          "name": "stderr",
          "text": []
        },
        {
          "output_type": "stream",
          "name": "stdout",
          "text": [
            "Moviepy - Done !\n",
            "Moviepy - video ready /tmp/tmpsmsvne35/-step-0-to-step-800.mp4\n",
            "Video saved to: /content/drive/MyDrive/ppo_final/best_replay.mp4\n",
            "Moviepy - Building video /tmp/tmpc0zh0u0r/-step-0-to-step-800.mp4.\n",
            "Moviepy - Writing video /tmp/tmpc0zh0u0r/-step-0-to-step-800.mp4\n",
            "\n"
          ]
        },
        {
          "output_type": "stream",
          "name": "stderr",
          "text": [
            "                                                  "
          ]
        },
        {
          "output_type": "stream",
          "name": "stdout",
          "text": [
            "Moviepy - Done !\n",
            "Moviepy - video ready /tmp/tmpc0zh0u0r/-step-0-to-step-800.mp4\n"
          ]
        },
        {
          "output_type": "stream",
          "name": "stderr",
          "text": [
            "\r"
          ]
        },
        {
          "output_type": "stream",
          "name": "stdout",
          "text": [
            "Saving video to /tmp/tmpc0zh0u0r/-step-0-to-step-800.mp4\n",
            "Moviepy - Building video /tmp/tmpc0zh0u0r/-step-0-to-step-800.mp4.\n",
            "Moviepy - Writing video /tmp/tmpc0zh0u0r/-step-0-to-step-800.mp4\n",
            "\n"
          ]
        },
        {
          "output_type": "stream",
          "name": "stderr",
          "text": []
        },
        {
          "output_type": "stream",
          "name": "stdout",
          "text": [
            "Moviepy - Done !\n",
            "Moviepy - video ready /tmp/tmpc0zh0u0r/-step-0-to-step-800.mp4\n",
            "Video saved to: /content/drive/MyDrive/ppo_final/replay_1985000.mp4\n",
            "---------------------------------\n",
            "| rollout/           |          |\n",
            "|    ep_len_mean     | 938      |\n",
            "|    ep_rew_mean     | 275      |\n",
            "| time/              |          |\n",
            "|    fps             | 1893     |\n",
            "|    iterations      | 1        |\n",
            "|    time_elapsed    | 4        |\n",
            "|    total_timesteps | 8192     |\n",
            "---------------------------------\n",
            "Episode 1990000: Distance traveled = 81.91\n",
            "Moviepy - Building video /tmp/tmppi9yhjnq/-step-0-to-step-800.mp4.\n",
            "Moviepy - Writing video /tmp/tmppi9yhjnq/-step-0-to-step-800.mp4\n",
            "\n"
          ]
        },
        {
          "output_type": "stream",
          "name": "stderr",
          "text": [
            "                                                  "
          ]
        },
        {
          "output_type": "stream",
          "name": "stdout",
          "text": [
            "Moviepy - Done !\n",
            "Moviepy - video ready /tmp/tmppi9yhjnq/-step-0-to-step-800.mp4\n"
          ]
        },
        {
          "output_type": "stream",
          "name": "stderr",
          "text": [
            "\r"
          ]
        },
        {
          "output_type": "stream",
          "name": "stdout",
          "text": [
            "Saving video to /tmp/tmppi9yhjnq/-step-0-to-step-800.mp4\n",
            "Moviepy - Building video /tmp/tmppi9yhjnq/-step-0-to-step-800.mp4.\n",
            "Moviepy - Writing video /tmp/tmppi9yhjnq/-step-0-to-step-800.mp4\n",
            "\n"
          ]
        },
        {
          "output_type": "stream",
          "name": "stderr",
          "text": []
        },
        {
          "output_type": "stream",
          "name": "stdout",
          "text": [
            "Moviepy - Done !\n",
            "Moviepy - video ready /tmp/tmppi9yhjnq/-step-0-to-step-800.mp4\n",
            "Video saved to: /content/drive/MyDrive/ppo_final/replay_1990000.mp4\n",
            "---------------------------------\n",
            "| rollout/           |          |\n",
            "|    ep_len_mean     | 920      |\n",
            "|    ep_rew_mean     | 261      |\n",
            "| time/              |          |\n",
            "|    fps             | 1446     |\n",
            "|    iterations      | 1        |\n",
            "|    time_elapsed    | 5        |\n",
            "|    total_timesteps | 8192     |\n",
            "---------------------------------\n",
            "Episode 1995000: Distance traveled = 80.34\n",
            "Moviepy - Building video /tmp/tmp44l1u6gb/-step-0-to-step-800.mp4.\n",
            "Moviepy - Writing video /tmp/tmp44l1u6gb/-step-0-to-step-800.mp4\n",
            "\n"
          ]
        },
        {
          "output_type": "stream",
          "name": "stderr",
          "text": [
            "                                                  "
          ]
        },
        {
          "output_type": "stream",
          "name": "stdout",
          "text": [
            "Moviepy - Done !\n",
            "Moviepy - video ready /tmp/tmp44l1u6gb/-step-0-to-step-800.mp4\n"
          ]
        },
        {
          "output_type": "stream",
          "name": "stderr",
          "text": [
            "\r"
          ]
        },
        {
          "output_type": "stream",
          "name": "stdout",
          "text": [
            "Saving video to /tmp/tmp44l1u6gb/-step-0-to-step-800.mp4\n",
            "Moviepy - Building video /tmp/tmp44l1u6gb/-step-0-to-step-800.mp4.\n",
            "Moviepy - Writing video /tmp/tmp44l1u6gb/-step-0-to-step-800.mp4\n",
            "\n"
          ]
        },
        {
          "output_type": "stream",
          "name": "stderr",
          "text": []
        },
        {
          "output_type": "stream",
          "name": "stdout",
          "text": [
            "Moviepy - Done !\n",
            "Moviepy - video ready /tmp/tmp44l1u6gb/-step-0-to-step-800.mp4\n",
            "Video saved to: /content/drive/MyDrive/ppo_final/replay_1995000.mp4\n",
            "---------------------------------\n",
            "| rollout/           |          |\n",
            "|    ep_len_mean     | 942      |\n",
            "|    ep_rew_mean     | 260      |\n",
            "| time/              |          |\n",
            "|    fps             | 1895     |\n",
            "|    iterations      | 1        |\n",
            "|    time_elapsed    | 4        |\n",
            "|    total_timesteps | 8192     |\n",
            "---------------------------------\n",
            "Episode 2000000: Distance traveled = 82.71\n",
            "Moviepy - Building video /tmp/tmpmcg_mfhf/-step-0-to-step-800.mp4.\n",
            "Moviepy - Writing video /tmp/tmpmcg_mfhf/-step-0-to-step-800.mp4\n",
            "\n"
          ]
        },
        {
          "output_type": "stream",
          "name": "stderr",
          "text": [
            "                                                  "
          ]
        },
        {
          "output_type": "stream",
          "name": "stdout",
          "text": [
            "Moviepy - Done !\n",
            "Moviepy - video ready /tmp/tmpmcg_mfhf/-step-0-to-step-800.mp4\n"
          ]
        },
        {
          "output_type": "stream",
          "name": "stderr",
          "text": [
            "\r"
          ]
        },
        {
          "output_type": "stream",
          "name": "stdout",
          "text": [
            "Saving video to /tmp/tmpmcg_mfhf/-step-0-to-step-800.mp4\n",
            "Moviepy - Building video /tmp/tmpmcg_mfhf/-step-0-to-step-800.mp4.\n",
            "Moviepy - Writing video /tmp/tmpmcg_mfhf/-step-0-to-step-800.mp4\n",
            "\n"
          ]
        },
        {
          "output_type": "stream",
          "name": "stderr",
          "text": []
        },
        {
          "output_type": "stream",
          "name": "stdout",
          "text": [
            "Moviepy - Done !\n",
            "Moviepy - video ready /tmp/tmpmcg_mfhf/-step-0-to-step-800.mp4\n",
            "Video saved to: /content/drive/MyDrive/ppo_final/replay_2000000.mp4\n",
            "\n",
            "Distance Statistics:\n",
            "Mean distance: 50.28\n",
            "Max distance: 83.41\n",
            "Min distance: -2.27\n",
            "\n",
            "All distances: [0.08688879013061523, -1.7410907745361328, 1.9615211486816406, 1.9326138496398926, -2.2666373252868652, -2.2084527015686035, 1.8197484016418457, 0.06525373458862305, 1.8092098236083984, 0.4446754455566406, -0.390380859375, -0.8958065509796143, -2.2080767154693604, 2.379378318786621, -2.054288864135742, -2.197418689727783, 0.5445117950439453, -0.5279831886291504, -0.11712646484375, -0.6771390438079834, -1.2934463024139404, -2.190276622772217, -1.6361417770385742, 1.743699073791504, 0.15299272537231445, -0.4367828369140625, 1.8741850852966309, 2.0043139457702637, 2.302316188812256, 0.409482479095459, -0.3852691650390625, -2.139423131942749, 0.393552303314209, 1.027273178100586, 0.7957353591918945, 4.048017501831055, 2.250730514526367, 1.8660755157470703, 1.9169034957885742, 4.776925563812256, 4.6514363288879395, 2.5842909812927246, 1.5372796058654785, 3.9446563720703125, -1.5251266956329346, 2.5252041816711426, 2.7291979789733887, 3.061217784881592, 1.7446908950805664, 3.3603029251098633, 3.186969757080078, 2.6085376739501953, 1.6167607307434082, 9.714020729064941, 19.312622547149658, 2.150092601776123, 2.269693374633789, 14.808910846710205, 24.961967945098877, 17.410268306732178, 19.119619846343994, 9.600888729095459, 9.734426975250244, 7.502560615539551, 6.5373759269714355, 7.118754863739014, 7.779545783996582, 4.476405143737793, 13.529988288879395, 6.612210273742676, 42.158480644226074, 24.24240493774414, 41.02418565750122, 41.55787229537964, 41.099276542663574, 34.15095138549805, 40.11393928527832, 27.56238317489624, 6.468593597412109, 7.041656970977783, 18.026212215423584, 7.181794166564941, 6.689986705780029, 43.54815196990967, 44.672261238098145, 48.86065340042114, 49.773754596710205, 48.91840934753418, 43.629122734069824, 47.91556262969971, 44.93757915496826, 45.44023847579956, 44.041561126708984, 42.46659517288208, 43.978660106658936, 46.99678325653076, 46.23052930831909, 46.35645389556885, 49.93060922622681, 47.85829830169678, 5.822604179382324, 48.48155689239502, 48.789724349975586, 37.184507846832275, 46.64831733703613, 48.779380798339844, 46.97498416900635, 49.13640213012695, 46.54230308532715, 43.25873136520386, 44.71454048156738, 46.02274465560913, 47.410852909088135, 44.692219257354736, 46.48880195617676, 45.14469003677368, 47.28363227844238, 47.792423725128174, 45.051186084747314, 45.83915042877197, 46.769690990448, 45.3419771194458, 46.153130531311035, 47.18260383605957, 44.08238744735718, 45.12233877182007, 45.19169473648071, 47.076961517333984, 46.76277256011963, 20.77140522003174, 45.741825580596924, 33.53740644454956, 48.589595794677734, 48.53296995162964, 48.8778510093689, 49.943888664245605, 50.60642719268799, 49.56804895401001, 51.033851623535156, 49.8342022895813, 50.447139263153076, 48.59649419784546, 52.12858819961548, 51.521427154541016, 51.474743366241455, 51.220683097839355, 52.07615566253662, 50.29898500442505, 47.871325969696045, 52.624757289886475, 51.67814922332764, 52.920104026794434, -1.4649300575256348, 52.53466176986694, 3.9385013580322266, 50.42936992645264, 42.4192328453064, 36.56976079940796, 54.67314863204956, 6.052863121032715, 53.31719923019409, 52.946457862854004, 51.96146535873413, 51.83392381668091, 51.18335819244385, 53.221131324768066, 52.44018268585205, 50.058788776397705, 58.46550178527832, 54.97390556335449, 54.25176429748535, 58.16173458099365, 53.73494100570679, 56.16302251815796, 48.95574188232422, 50.3312931060791, 53.978145599365234, 52.74445676803589, 26.858168601989746, 54.788723945617676, 50.613656997680664, 52.23501396179199, 49.80132865905762, 55.13393020629883, 58.17106008529663, 55.80765771865845, 57.219942569732666, 58.86355400085449, 58.063366413116455, 59.32834053039551, 5.111569404602051, 60.87532711029053, 61.175490379333496, 58.841174602508545, 62.56767559051514, 60.98034954071045, 61.21061706542969, 61.32253408432007, 59.54881572723389, 57.80531406402588, 39.37076187133789, 40.29140090942383, 3.459488868713379, 22.61497735977173, 23.125832080841064, 60.216773986816406, 63.201796531677246, 63.18107748031616, 61.81824064254761, 64.55634117126465, 4.070284843444824, 63.98291301727295, 66.83239221572876, 63.50810623168945, 66.57330560684204, 61.13000440597534, 63.34260892868042, 62.553308963775635, 61.213162899017334, 62.52258110046387, 5.936402797698975, 65.01378774642944, 65.1672830581665, 65.8769383430481, 65.92361354827881, 5.541680812835693, 66.06293725967407, 67.86064672470093, 67.69176387786865, 68.84800100326538, 69.88055276870728, 3.2770442962646484, 5.0547356605529785, 68.94565343856812, 68.48049974441528, 70.17767095565796, 72.03744745254517, 70.60481262207031, 67.89437675476074, 70.87396097183228, 69.20144844055176, 68.1628623008728, 72.15795087814331, 70.12334442138672, 71.8237533569336, 71.01525211334229, 71.11804914474487, 68.65525150299072, 67.75125026702881, 67.86741828918457, 69.34069395065308, 69.77210998535156, 69.64128351211548, 70.05522537231445, 72.60207176208496, 72.87100124359131, 72.60317897796631, 73.05636024475098, 71.45609951019287, 68.62875366210938, 69.83241701126099, 70.37446880340576, 69.12593841552734, 71.87398672103882, 72.90328550338745, 71.04949378967285, 72.84288501739502, 74.07656192779541, 72.88441896438599, 71.87586259841919, 74.59598112106323, 72.08296251296997, 70.02190113067627, 70.36831951141357, 71.37289047241211, 69.97538614273071, 71.35640716552734, 70.68389177322388, 72.63686656951904, 72.68280363082886, 72.8071780204773, 72.52427339553833, 72.88565444946289, 73.14618492126465, 70.11839008331299, 70.8230037689209, 70.10931873321533, 73.31739902496338, 73.37336683273315, 71.12737321853638, 72.08792543411255, 73.2488899230957, 72.37595081329346, 74.18524122238159, 72.54620361328125, 71.21280479431152, 69.92634582519531, 74.73165512084961, 71.8088173866272, 74.15995979309082, 73.489417552948, 71.15624332427979, 73.39937448501587, 74.3516755104065, 73.79639148712158, 71.71002101898193, 71.31920194625854, 74.15244722366333, 71.12822008132935, 74.07843399047852, 73.97450733184814, 74.54508543014526, 74.22064447402954, 74.73194885253906, 73.07512474060059, 72.79922008514404, 74.69067525863647, 73.35448884963989, 72.86180830001831, 73.25954008102417, 73.58300828933716, 73.02314615249634, 73.6404013633728, 72.57982015609741, 76.01323556900024, 77.41654586791992, 75.76810836791992, 75.31130170822144, 77.44797945022583, 75.43850421905518, 77.13410806655884, 75.45905542373657, 75.71151113510132, 77.27326440811157, 75.7234239578247, 75.84346294403076, 78.0376501083374, 78.04517269134521, 78.65391731262207, 77.90417766571045, 77.21966600418091, 72.80157279968262, 78.23270320892334, 78.54369401931763, 78.61202049255371, 75.86567497253418, 78.55628824234009, 78.1003646850586, 79.39305543899536, 75.51066589355469, 77.41218042373657, 78.5784502029419, 77.53878021240234, 75.81732130050659, 78.69553756713867, 78.34200477600098, 75.57897424697876, 79.25503969192505, 77.9225869178772, 79.42813348770142, 77.92395639419556, 77.51350450515747, 76.06242847442627, 78.00497627258301, 76.64151430130005, 78.01928997039795, 78.5303430557251, 76.96453857421875, 75.69173240661621, 76.68980646133423, 76.78174257278442, 78.15681409835815, 79.50462675094604, 79.9601902961731, 77.88020420074463, 78.81380033493042, 78.07540130615234, 83.31486892700195, 73.47197437286377, 76.06234455108643, 72.20091915130615, 48.52015733718872, 77.03032541275024, 76.93894577026367, 81.21612310409546, 81.68815660476685, 80.74526691436768, 78.32993841171265, 82.2558274269104, -1.8414556980133057, 82.60430669784546, 41.16840982437134, 79.99619102478027, 83.20421981811523, 82.16610813140869, 83.29530143737793, 83.4134840965271, 81.91000699996948, 80.3367075920105, 82.70926809310913]\n"
          ]
        }
      ]
    },
    {
      "cell_type": "code",
      "source": [
        "print(distances)"
      ],
      "metadata": {
        "colab": {
          "base_uri": "https://localhost:8080/"
        },
        "id": "S_FG2TPDcAVt",
        "outputId": "f7813897-48fd-4c0e-8de9-c5416178b2ec"
      },
      "execution_count": null,
      "outputs": [
        {
          "output_type": "stream",
          "name": "stdout",
          "text": [
            "[0.08688879013061523, -1.7410907745361328, 1.9615211486816406, 1.9326138496398926, -2.2666373252868652, -2.2084527015686035, 1.8197484016418457, 0.06525373458862305, 1.8092098236083984, 0.4446754455566406, -0.390380859375, -0.8958065509796143, -2.2080767154693604, 2.379378318786621, -2.054288864135742, -2.197418689727783, 0.5445117950439453, -0.5279831886291504, -0.11712646484375, -0.6771390438079834, -1.2934463024139404, -2.190276622772217, -1.6361417770385742, 1.743699073791504, 0.15299272537231445, -0.4367828369140625, 1.8741850852966309, 2.0043139457702637, 2.302316188812256, 0.409482479095459, -0.3852691650390625, -2.139423131942749, 0.393552303314209, 1.027273178100586, 0.7957353591918945, 4.048017501831055, 2.250730514526367, 1.8660755157470703, 1.9169034957885742, 4.776925563812256, 4.6514363288879395, 2.5842909812927246, 1.5372796058654785, 3.9446563720703125, -1.5251266956329346, 2.5252041816711426, 2.7291979789733887, 3.061217784881592, 1.7446908950805664, 3.3603029251098633, 3.186969757080078, 2.6085376739501953, 1.6167607307434082, 9.714020729064941, 19.312622547149658, 2.150092601776123, 2.269693374633789, 14.808910846710205, 24.961967945098877, 17.410268306732178, 19.119619846343994, 9.600888729095459, 9.734426975250244, 7.502560615539551, 6.5373759269714355, 7.118754863739014, 7.779545783996582, 4.476405143737793, 13.529988288879395, 6.612210273742676, 42.158480644226074, 24.24240493774414, 41.02418565750122, 41.55787229537964, 41.099276542663574, 34.15095138549805, 40.11393928527832, 27.56238317489624, 6.468593597412109, 7.041656970977783, 18.026212215423584, 7.181794166564941, 6.689986705780029, 43.54815196990967, 44.672261238098145, 48.86065340042114, 49.773754596710205, 48.91840934753418, 43.629122734069824, 47.91556262969971, 44.93757915496826, 45.44023847579956, 44.041561126708984, 42.46659517288208, 43.978660106658936, 46.99678325653076, 46.23052930831909, 46.35645389556885, 49.93060922622681, 47.85829830169678, 5.822604179382324, 48.48155689239502, 48.789724349975586, 37.184507846832275, 46.64831733703613, 48.779380798339844, 46.97498416900635, 49.13640213012695, 46.54230308532715, 43.25873136520386, 44.71454048156738, 46.02274465560913, 47.410852909088135, 44.692219257354736, 46.48880195617676, 45.14469003677368, 47.28363227844238, 47.792423725128174, 45.051186084747314, 45.83915042877197, 46.769690990448, 45.3419771194458, 46.153130531311035, 47.18260383605957, 44.08238744735718, 45.12233877182007, 45.19169473648071, 47.076961517333984, 46.76277256011963, 20.77140522003174, 45.741825580596924, 33.53740644454956, 48.589595794677734, 48.53296995162964, 48.8778510093689, 49.943888664245605, 50.60642719268799, 49.56804895401001, 51.033851623535156, 49.8342022895813, 50.447139263153076, 48.59649419784546, 52.12858819961548, 51.521427154541016, 51.474743366241455, 51.220683097839355, 52.07615566253662, 50.29898500442505, 47.871325969696045, 52.624757289886475, 51.67814922332764, 52.920104026794434, -1.4649300575256348, 52.53466176986694, 3.9385013580322266, 50.42936992645264, 42.4192328453064, 36.56976079940796, 54.67314863204956, 6.052863121032715, 53.31719923019409, 52.946457862854004, 51.96146535873413, 51.83392381668091, 51.18335819244385, 53.221131324768066, 52.44018268585205, 50.058788776397705, 58.46550178527832, 54.97390556335449, 54.25176429748535, 58.16173458099365, 53.73494100570679, 56.16302251815796, 48.95574188232422, 50.3312931060791, 53.978145599365234, 52.74445676803589, 26.858168601989746, 54.788723945617676, 50.613656997680664, 52.23501396179199, 49.80132865905762, 55.13393020629883, 58.17106008529663, 55.80765771865845, 57.219942569732666, 58.86355400085449, 58.063366413116455, 59.32834053039551, 5.111569404602051, 60.87532711029053, 61.175490379333496, 58.841174602508545, 62.56767559051514, 60.98034954071045, 61.21061706542969, 61.32253408432007, 59.54881572723389, 57.80531406402588, 39.37076187133789, 40.29140090942383, 3.459488868713379, 22.61497735977173, 23.125832080841064, 60.216773986816406, 63.201796531677246, 63.18107748031616, 61.81824064254761, 64.55634117126465, 4.070284843444824, 63.98291301727295, 66.83239221572876, 63.50810623168945, 66.57330560684204, 61.13000440597534, 63.34260892868042, 62.553308963775635, 61.213162899017334, 62.52258110046387, 5.936402797698975, 65.01378774642944, 65.1672830581665, 65.8769383430481, 65.92361354827881, 5.541680812835693, 66.06293725967407, 67.86064672470093, 67.69176387786865, 68.84800100326538, 69.88055276870728, 3.2770442962646484, 5.0547356605529785, 68.94565343856812, 68.48049974441528, 70.17767095565796, 72.03744745254517, 70.60481262207031, 67.89437675476074, 70.87396097183228, 69.20144844055176, 68.1628623008728, 72.15795087814331, 70.12334442138672, 71.8237533569336, 71.01525211334229, 71.11804914474487, 68.65525150299072, 67.75125026702881, 67.86741828918457, 69.34069395065308, 69.77210998535156, 69.64128351211548, 70.05522537231445, 72.60207176208496, 72.87100124359131, 72.60317897796631, 73.05636024475098, 71.45609951019287, 68.62875366210938, 69.83241701126099, 70.37446880340576, 69.12593841552734, 71.87398672103882, 72.90328550338745, 71.04949378967285, 72.84288501739502, 74.07656192779541, 72.88441896438599, 71.87586259841919, 74.59598112106323, 72.08296251296997, 70.02190113067627, 70.36831951141357, 71.37289047241211, 69.97538614273071, 71.35640716552734, 70.68389177322388, 72.63686656951904, 72.68280363082886, 72.8071780204773, 72.52427339553833, 72.88565444946289, 73.14618492126465, 70.11839008331299, 70.8230037689209, 70.10931873321533, 73.31739902496338, 73.37336683273315, 71.12737321853638, 72.08792543411255, 73.2488899230957, 72.37595081329346, 74.18524122238159, 72.54620361328125, 71.21280479431152, 69.92634582519531, 74.73165512084961, 71.8088173866272, 74.15995979309082, 73.489417552948, 71.15624332427979, 73.39937448501587, 74.3516755104065, 73.79639148712158, 71.71002101898193, 71.31920194625854, 74.15244722366333, 71.12822008132935, 74.07843399047852, 73.97450733184814, 74.54508543014526, 74.22064447402954, 74.73194885253906, 73.07512474060059, 72.79922008514404, 74.69067525863647, 73.35448884963989, 72.86180830001831, 73.25954008102417, 73.58300828933716, 73.02314615249634, 73.6404013633728, 72.57982015609741, 76.01323556900024, 77.41654586791992, 75.76810836791992, 75.31130170822144, 77.44797945022583, 75.43850421905518, 77.13410806655884, 75.45905542373657, 75.71151113510132, 77.27326440811157, 75.7234239578247, 75.84346294403076, 78.0376501083374, 78.04517269134521, 78.65391731262207, 77.90417766571045, 77.21966600418091, 72.80157279968262, 78.23270320892334, 78.54369401931763, 78.61202049255371, 75.86567497253418, 78.55628824234009, 78.1003646850586, 79.39305543899536, 75.51066589355469, 77.41218042373657, 78.5784502029419, 77.53878021240234, 75.81732130050659, 78.69553756713867, 78.34200477600098, 75.57897424697876, 79.25503969192505, 77.9225869178772, 79.42813348770142, 77.92395639419556, 77.51350450515747, 76.06242847442627, 78.00497627258301, 76.64151430130005, 78.01928997039795, 78.5303430557251, 76.96453857421875, 75.69173240661621, 76.68980646133423, 76.78174257278442, 78.15681409835815, 79.50462675094604, 79.9601902961731, 77.88020420074463, 78.81380033493042, 78.07540130615234, 83.31486892700195, 73.47197437286377, 76.06234455108643, 72.20091915130615, 48.52015733718872, 77.03032541275024, 76.93894577026367, 81.21612310409546, 81.68815660476685, 80.74526691436768, 78.32993841171265, 82.2558274269104, -1.8414556980133057, 82.60430669784546, 41.16840982437134, 79.99619102478027, 83.20421981811523, 82.16610813140869, 83.29530143737793, 83.4134840965271, 81.91000699996948, 80.3367075920105, 82.70926809310913]\n"
          ]
        },
        {
          "output_type": "stream",
          "name": "stderr",
          "text": [
            "/usr/local/lib/python3.10/dist-packages/ipykernel/ipkernel.py:283: DeprecationWarning: `should_run_async` will not call `transform_cell` automatically in the future. Please pass the result to `transformed_cell` argument and any exception that happen during thetransform in `preprocessing_exc_tuple` in IPython 7.17 and above.\n",
            "  and should_run_async(code)\n"
          ]
        }
      ]
    },
    {
      "cell_type": "code",
      "source": [
        "#print(distances)\n",
        "import numpy as np\n",
        "print(f\"Mean distance: {np.mean(distances):.2f}\")\n",
        "print(f\"Max distance: {np.max(distances):.2f}\")\n",
        "print(f\"Min distance: {np.min(distances):.2f}\")\n",
        "\n",
        "lst_dist = np.round(distances,2)\n",
        "print(lst_dist)"
      ],
      "metadata": {
        "id": "W-1m0N6mjIRI",
        "colab": {
          "base_uri": "https://localhost:8080/"
        },
        "outputId": "574cdf71-25e8-47a5-807d-f22dfb5e6c42"
      },
      "execution_count": null,
      "outputs": [
        {
          "output_type": "stream",
          "name": "stdout",
          "text": [
            "Mean distance: 50.28\n",
            "Max distance: 83.41\n",
            "Min distance: -2.27\n",
            "[ 9.000e-02 -1.740e+00  1.960e+00  1.930e+00 -2.270e+00 -2.210e+00\n",
            "  1.820e+00  7.000e-02  1.810e+00  4.400e-01 -3.900e-01 -9.000e-01\n",
            " -2.210e+00  2.380e+00 -2.050e+00 -2.200e+00  5.400e-01 -5.300e-01\n",
            " -1.200e-01 -6.800e-01 -1.290e+00 -2.190e+00 -1.640e+00  1.740e+00\n",
            "  1.500e-01 -4.400e-01  1.870e+00  2.000e+00  2.300e+00  4.100e-01\n",
            " -3.900e-01 -2.140e+00  3.900e-01  1.030e+00  8.000e-01  4.050e+00\n",
            "  2.250e+00  1.870e+00  1.920e+00  4.780e+00  4.650e+00  2.580e+00\n",
            "  1.540e+00  3.940e+00 -1.530e+00  2.530e+00  2.730e+00  3.060e+00\n",
            "  1.740e+00  3.360e+00  3.190e+00  2.610e+00  1.620e+00  9.710e+00\n",
            "  1.931e+01  2.150e+00  2.270e+00  1.481e+01  2.496e+01  1.741e+01\n",
            "  1.912e+01  9.600e+00  9.730e+00  7.500e+00  6.540e+00  7.120e+00\n",
            "  7.780e+00  4.480e+00  1.353e+01  6.610e+00  4.216e+01  2.424e+01\n",
            "  4.102e+01  4.156e+01  4.110e+01  3.415e+01  4.011e+01  2.756e+01\n",
            "  6.470e+00  7.040e+00  1.803e+01  7.180e+00  6.690e+00  4.355e+01\n",
            "  4.467e+01  4.886e+01  4.977e+01  4.892e+01  4.363e+01  4.792e+01\n",
            "  4.494e+01  4.544e+01  4.404e+01  4.247e+01  4.398e+01  4.700e+01\n",
            "  4.623e+01  4.636e+01  4.993e+01  4.786e+01  5.820e+00  4.848e+01\n",
            "  4.879e+01  3.718e+01  4.665e+01  4.878e+01  4.697e+01  4.914e+01\n",
            "  4.654e+01  4.326e+01  4.471e+01  4.602e+01  4.741e+01  4.469e+01\n",
            "  4.649e+01  4.514e+01  4.728e+01  4.779e+01  4.505e+01  4.584e+01\n",
            "  4.677e+01  4.534e+01  4.615e+01  4.718e+01  4.408e+01  4.512e+01\n",
            "  4.519e+01  4.708e+01  4.676e+01  2.077e+01  4.574e+01  3.354e+01\n",
            "  4.859e+01  4.853e+01  4.888e+01  4.994e+01  5.061e+01  4.957e+01\n",
            "  5.103e+01  4.983e+01  5.045e+01  4.860e+01  5.213e+01  5.152e+01\n",
            "  5.147e+01  5.122e+01  5.208e+01  5.030e+01  4.787e+01  5.262e+01\n",
            "  5.168e+01  5.292e+01 -1.460e+00  5.253e+01  3.940e+00  5.043e+01\n",
            "  4.242e+01  3.657e+01  5.467e+01  6.050e+00  5.332e+01  5.295e+01\n",
            "  5.196e+01  5.183e+01  5.118e+01  5.322e+01  5.244e+01  5.006e+01\n",
            "  5.847e+01  5.497e+01  5.425e+01  5.816e+01  5.373e+01  5.616e+01\n",
            "  4.896e+01  5.033e+01  5.398e+01  5.274e+01  2.686e+01  5.479e+01\n",
            "  5.061e+01  5.224e+01  4.980e+01  5.513e+01  5.817e+01  5.581e+01\n",
            "  5.722e+01  5.886e+01  5.806e+01  5.933e+01  5.110e+00  6.088e+01\n",
            "  6.118e+01  5.884e+01  6.257e+01  6.098e+01  6.121e+01  6.132e+01\n",
            "  5.955e+01  5.781e+01  3.937e+01  4.029e+01  3.460e+00  2.261e+01\n",
            "  2.313e+01  6.022e+01  6.320e+01  6.318e+01  6.182e+01  6.456e+01\n",
            "  4.070e+00  6.398e+01  6.683e+01  6.351e+01  6.657e+01  6.113e+01\n",
            "  6.334e+01  6.255e+01  6.121e+01  6.252e+01  5.940e+00  6.501e+01\n",
            "  6.517e+01  6.588e+01  6.592e+01  5.540e+00  6.606e+01  6.786e+01\n",
            "  6.769e+01  6.885e+01  6.988e+01  3.280e+00  5.050e+00  6.895e+01\n",
            "  6.848e+01  7.018e+01  7.204e+01  7.060e+01  6.789e+01  7.087e+01\n",
            "  6.920e+01  6.816e+01  7.216e+01  7.012e+01  7.182e+01  7.102e+01\n",
            "  7.112e+01  6.866e+01  6.775e+01  6.787e+01  6.934e+01  6.977e+01\n",
            "  6.964e+01  7.006e+01  7.260e+01  7.287e+01  7.260e+01  7.306e+01\n",
            "  7.146e+01  6.863e+01  6.983e+01  7.037e+01  6.913e+01  7.187e+01\n",
            "  7.290e+01  7.105e+01  7.284e+01  7.408e+01  7.288e+01  7.188e+01\n",
            "  7.460e+01  7.208e+01  7.002e+01  7.037e+01  7.137e+01  6.998e+01\n",
            "  7.136e+01  7.068e+01  7.264e+01  7.268e+01  7.281e+01  7.252e+01\n",
            "  7.289e+01  7.315e+01  7.012e+01  7.082e+01  7.011e+01  7.332e+01\n",
            "  7.337e+01  7.113e+01  7.209e+01  7.325e+01  7.238e+01  7.419e+01\n",
            "  7.255e+01  7.121e+01  6.993e+01  7.473e+01  7.181e+01  7.416e+01\n",
            "  7.349e+01  7.116e+01  7.340e+01  7.435e+01  7.380e+01  7.171e+01\n",
            "  7.132e+01  7.415e+01  7.113e+01  7.408e+01  7.397e+01  7.455e+01\n",
            "  7.422e+01  7.473e+01  7.308e+01  7.280e+01  7.469e+01  7.335e+01\n",
            "  7.286e+01  7.326e+01  7.358e+01  7.302e+01  7.364e+01  7.258e+01\n",
            "  7.601e+01  7.742e+01  7.577e+01  7.531e+01  7.745e+01  7.544e+01\n",
            "  7.713e+01  7.546e+01  7.571e+01  7.727e+01  7.572e+01  7.584e+01\n",
            "  7.804e+01  7.805e+01  7.865e+01  7.790e+01  7.722e+01  7.280e+01\n",
            "  7.823e+01  7.854e+01  7.861e+01  7.587e+01  7.856e+01  7.810e+01\n",
            "  7.939e+01  7.551e+01  7.741e+01  7.858e+01  7.754e+01  7.582e+01\n",
            "  7.870e+01  7.834e+01  7.558e+01  7.926e+01  7.792e+01  7.943e+01\n",
            "  7.792e+01  7.751e+01  7.606e+01  7.800e+01  7.664e+01  7.802e+01\n",
            "  7.853e+01  7.696e+01  7.569e+01  7.669e+01  7.678e+01  7.816e+01\n",
            "  7.950e+01  7.996e+01  7.788e+01  7.881e+01  7.808e+01  8.331e+01\n",
            "  7.347e+01  7.606e+01  7.220e+01  4.852e+01  7.703e+01  7.694e+01\n",
            "  8.122e+01  8.169e+01  8.075e+01  7.833e+01  8.226e+01 -1.840e+00\n",
            "  8.260e+01  4.117e+01  8.000e+01  8.320e+01  8.217e+01  8.330e+01\n",
            "  8.341e+01  8.191e+01  8.034e+01  8.271e+01]\n"
          ]
        }
      ]
    },
    {
      "cell_type": "code",
      "source": [
        "\n",
        "\n",
        "import matplotlib.pyplot as plt\n",
        "import numpy as np\n",
        "\n",
        "\n",
        "# moving average - 10\n",
        "window_size = 10\n",
        "moving_average = np.convolve(lst_dist, np.ones(window_size), 'valid') / window_size\n",
        "\n",
        "# bar plot\n",
        "plt.figure(figsize=(12, 6))\n",
        "plt.bar(range(len(lst_dist)), lst_dist, label='Distance')\n",
        "\n",
        "plt.plot(range(window_size - 1, len(lst_dist)), moving_average, color='red', label=f'{window_size}-Episode Moving Average')\n",
        "\n",
        "plt.xlabel('Episode')\n",
        "plt.ylabel('Distance')\n",
        "plt.title('Distance Traveled per Episode with Moving Average')\n",
        "plt.legend()\n",
        "plt.grid(True)\n",
        "plt.show()"
      ],
      "metadata": {
        "id": "cyGDA3_Ej1md",
        "colab": {
          "base_uri": "https://localhost:8080/",
          "height": 564
        },
        "outputId": "55b6f6b6-8109-4807-9be6-0fcc922fdf2d"
      },
      "execution_count": null,
      "outputs": [
        {
          "output_type": "display_data",
          "data": {
            "text/plain": [
              "<Figure size 1200x600 with 1 Axes>"
            ],
            "image/png": "[encoded data removed]"
          },
          "metadata": {}
        }
      ]
    }
  ]
}