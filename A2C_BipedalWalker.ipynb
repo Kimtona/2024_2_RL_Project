{
  "cells": [
    {
      "cell_type": "markdown",
      "metadata": {
        "id": "view-in-github"
      },
      "source": [
        "<a href=\"https://colab.research.google.com/github/BrutFab/ppo_BipedalWalker_v3/blob/main/ppo_BipedalWalker_v3.ipynb\" target=\"_parent\"><img src=\"https://colab.research.google.com/assets/colab-badge.svg\" alt=\"Open In Colab\"/></a>"
      ]
    },
    {
      "cell_type": "markdown",
      "metadata": {
        "id": "6MbMQP0b7zGg"
      },
      "source": [
        "# **1. Setup**\n"
      ]
    },
    {
      "cell_type": "markdown",
      "metadata": {
        "id": "gg4Vl1FH_yVm"
      },
      "source": [
        "### **Install Packages**"
      ]
    },
    {
      "cell_type": "code",
      "execution_count": null,
      "metadata": {
        "colab": {
          "base_uri": "https://localhost:8080/"
        },
        "collapsed": true,
        "id": "oyYkz0Vc7xNE",
        "outputId": "70795684-781f-42a1-cb48-9760a0b7215c"
      },
      "outputs": [
        {
          "output_type": "stream",
          "name": "stdout",
          "text": [
            "Reading package lists... Done\n",
            "Building dependency tree... Done\n",
            "Reading state information... Done\n",
            "cmake is already the newest version (3.22.1-1ubuntu1.22.04.2).\n",
            "ffmpeg is already the newest version (7:4.4.2-0ubuntu0.22.04.1).\n",
            "The following additional packages will be installed:\n",
            "  freeglut3 libfontenc1 libglu1-mesa libxfont2 libxkbfile1 swig4.0 x11-xkb-utils xfonts-base\n",
            "  xfonts-encodings xfonts-utils xserver-common\n",
            "Suggested packages:\n",
            "  libgle3 python3-numpy swig-doc swig-examples swig4.0-examples swig4.0-doc\n",
            "The following NEW packages will be installed:\n",
            "  freeglut3 libfontenc1 libglu1-mesa libxfont2 libxkbfile1 python3-opengl swig swig4.0\n",
            "  x11-xkb-utils xfonts-base xfonts-encodings xfonts-utils xserver-common xvfb\n",
            "0 upgraded, 14 newly installed, 0 to remove and 49 not upgraded.\n",
            "Need to get 9,755 kB of archives.\n",
            "After this operation, 25.6 MB of additional disk space will be used.\n",
            "Get:1 http://archive.ubuntu.com/ubuntu jammy/universe amd64 freeglut3 amd64 2.8.1-6 [74.0 kB]\n",
            "Get:2 http://archive.ubuntu.com/ubuntu jammy/main amd64 libfontenc1 amd64 1:1.1.4-1build3 [14.7 kB]\n",
            "Get:3 http://archive.ubuntu.com/ubuntu jammy/main amd64 libxfont2 amd64 1:2.0.5-1build1 [94.5 kB]\n",
            "Get:4 http://archive.ubuntu.com/ubuntu jammy/main amd64 libxkbfile1 amd64 1:1.1.0-1build3 [71.8 kB]\n",
            "Get:5 http://archive.ubuntu.com/ubuntu jammy/main amd64 libglu1-mesa amd64 9.0.2-1 [145 kB]\n",
            "Get:6 http://archive.ubuntu.com/ubuntu jammy/universe amd64 python3-opengl all 3.1.5+dfsg-1 [605 kB]\n",
            "Get:7 http://archive.ubuntu.com/ubuntu jammy/universe amd64 swig4.0 amd64 4.0.2-1ubuntu1 [1,110 kB]\n",
            "Get:8 http://archive.ubuntu.com/ubuntu jammy/universe amd64 swig all 4.0.2-1ubuntu1 [5,632 B]\n",
            "Get:9 http://archive.ubuntu.com/ubuntu jammy/main amd64 x11-xkb-utils amd64 7.7+5build4 [172 kB]\n",
            "Get:10 http://archive.ubuntu.com/ubuntu jammy/main amd64 xfonts-encodings all 1:1.0.5-0ubuntu2 [578 kB]\n",
            "Get:11 http://archive.ubuntu.com/ubuntu jammy/main amd64 xfonts-utils amd64 1:7.7+6build2 [94.6 kB]\n",
            "Get:12 http://archive.ubuntu.com/ubuntu jammy/main amd64 xfonts-base all 1:1.0.5 [5,896 kB]\n",
            "Get:13 http://archive.ubuntu.com/ubuntu jammy-updates/main amd64 xserver-common all 2:21.1.4-2ubuntu1.7~22.04.12 [28.7 kB]\n",
            "Get:14 http://archive.ubuntu.com/ubuntu jammy-updates/universe amd64 xvfb amd64 2:21.1.4-2ubuntu1.7~22.04.12 [864 kB]\n",
            "Fetched 9,755 kB in 1s (7,825 kB/s)\n",
            "Selecting previously unselected package freeglut3:amd64.\n",
            "(Reading database ... 123632 files and directories currently installed.)\n",
            "Preparing to unpack .../00-freeglut3_2.8.1-6_amd64.deb ...\n",
            "Unpacking freeglut3:amd64 (2.8.1-6) ...\n",
            "Selecting previously unselected package libfontenc1:amd64.\n",
            "Preparing to unpack .../01-libfontenc1_1%3a1.1.4-1build3_amd64.deb ...\n",
            "Unpacking libfontenc1:amd64 (1:1.1.4-1build3) ...\n",
            "Selecting previously unselected package libxfont2:amd64.\n",
            "Preparing to unpack .../02-libxfont2_1%3a2.0.5-1build1_amd64.deb ...\n",
            "Unpacking libxfont2:amd64 (1:2.0.5-1build1) ...\n",
            "Selecting previously unselected package libxkbfile1:amd64.\n",
            "Preparing to unpack .../03-libxkbfile1_1%3a1.1.0-1build3_amd64.deb ...\n",
            "Unpacking libxkbfile1:amd64 (1:1.1.0-1build3) ...\n",
            "Selecting previously unselected package libglu1-mesa:amd64.\n",
            "Preparing to unpack .../04-libglu1-mesa_9.0.2-1_amd64.deb ...\n",
            "Unpacking libglu1-mesa:amd64 (9.0.2-1) ...\n",
            "Selecting previously unselected package python3-opengl.\n",
            "Preparing to unpack .../05-python3-opengl_3.1.5+dfsg-1_all.deb ...\n",
            "Unpacking python3-opengl (3.1.5+dfsg-1) ...\n",
            "Selecting previously unselected package swig4.0.\n",
            "Preparing to unpack .../06-swig4.0_4.0.2-1ubuntu1_amd64.deb ...\n",
            "Unpacking swig4.0 (4.0.2-1ubuntu1) ...\n",
            "Selecting previously unselected package swig.\n",
            "Preparing to unpack .../07-swig_4.0.2-1ubuntu1_all.deb ...\n",
            "Unpacking swig (4.0.2-1ubuntu1) ...\n",
            "Selecting previously unselected package x11-xkb-utils.\n",
            "Preparing to unpack .../08-x11-xkb-utils_7.7+5build4_amd64.deb ...\n",
            "Unpacking x11-xkb-utils (7.7+5build4) ...\n",
            "Selecting previously unselected package xfonts-encodings.\n",
            "Preparing to unpack .../09-xfonts-encodings_1%3a1.0.5-0ubuntu2_all.deb ...\n",
            "Unpacking xfonts-encodings (1:1.0.5-0ubuntu2) ...\n",
            "Selecting previously unselected package xfonts-utils.\n",
            "Preparing to unpack .../10-xfonts-utils_1%3a7.7+6build2_amd64.deb ...\n",
            "Unpacking xfonts-utils (1:7.7+6build2) ...\n",
            "Selecting previously unselected package xfonts-base.\n",
            "Preparing to unpack .../11-xfonts-base_1%3a1.0.5_all.deb ...\n",
            "Unpacking xfonts-base (1:1.0.5) ...\n",
            "Selecting previously unselected package xserver-common.\n",
            "Preparing to unpack .../12-xserver-common_2%3a21.1.4-2ubuntu1.7~22.04.12_all.deb ...\n",
            "Unpacking xserver-common (2:21.1.4-2ubuntu1.7~22.04.12) ...\n",
            "Selecting previously unselected package xvfb.\n",
            "Preparing to unpack .../13-xvfb_2%3a21.1.4-2ubuntu1.7~22.04.12_amd64.deb ...\n",
            "Unpacking xvfb (2:21.1.4-2ubuntu1.7~22.04.12) ...\n",
            "Setting up freeglut3:amd64 (2.8.1-6) ...\n",
            "Setting up libfontenc1:amd64 (1:1.1.4-1build3) ...\n",
            "Setting up xfonts-encodings (1:1.0.5-0ubuntu2) ...\n",
            "Setting up libglu1-mesa:amd64 (9.0.2-1) ...\n",
            "Setting up libxkbfile1:amd64 (1:1.1.0-1build3) ...\n",
            "Setting up swig4.0 (4.0.2-1ubuntu1) ...\n",
            "Setting up libxfont2:amd64 (1:2.0.5-1build1) ...\n",
            "Setting up swig (4.0.2-1ubuntu1) ...\n",
            "Setting up x11-xkb-utils (7.7+5build4) ...\n",
            "Setting up python3-opengl (3.1.5+dfsg-1) ...\n",
            "Setting up xfonts-utils (1:7.7+6build2) ...\n",
            "Setting up xfonts-base (1:1.0.5) ...\n",
            "Setting up xserver-common (2:21.1.4-2ubuntu1.7~22.04.12) ...\n",
            "Setting up xvfb (2:21.1.4-2ubuntu1.7~22.04.12) ...\n",
            "Processing triggers for man-db (2.10.2-1) ...\n",
            "Processing triggers for fontconfig (2.13.1-4.2ubuntu5) ...\n",
            "Processing triggers for libc-bin (2.35-0ubuntu3.4) ...\n",
            "/sbin/ldconfig.real: /usr/local/lib/libhwloc.so.15 is not a symbolic link\n",
            "\n",
            "/sbin/ldconfig.real: /usr/local/lib/libtbbbind_2_5.so.3 is not a symbolic link\n",
            "\n",
            "/sbin/ldconfig.real: /usr/local/lib/libur_adapter_level_zero.so.0 is not a symbolic link\n",
            "\n",
            "/sbin/ldconfig.real: /usr/local/lib/libtbbbind.so.3 is not a symbolic link\n",
            "\n",
            "/sbin/ldconfig.real: /usr/local/lib/libtbbmalloc_proxy.so.2 is not a symbolic link\n",
            "\n",
            "/sbin/ldconfig.real: /usr/local/lib/libumf.so.0 is not a symbolic link\n",
            "\n",
            "/sbin/ldconfig.real: /usr/local/lib/libtcm_debug.so.1 is not a symbolic link\n",
            "\n",
            "/sbin/ldconfig.real: /usr/local/lib/libur_loader.so.0 is not a symbolic link\n",
            "\n",
            "/sbin/ldconfig.real: /usr/local/lib/libtcm.so.1 is not a symbolic link\n",
            "\n",
            "/sbin/ldconfig.real: /usr/local/lib/libtbbbind_2_0.so.3 is not a symbolic link\n",
            "\n",
            "/sbin/ldconfig.real: /usr/local/lib/libtbbmalloc.so.2 is not a symbolic link\n",
            "\n",
            "/sbin/ldconfig.real: /usr/local/lib/libur_adapter_opencl.so.0 is not a symbolic link\n",
            "\n",
            "/sbin/ldconfig.real: /usr/local/lib/libtbb.so.12 is not a symbolic link\n",
            "\n",
            "Collecting stable-baselines3==2.0.0a5\n",
            "  Downloading stable_baselines3-2.0.0a5-py3-none-any.whl.metadata (5.3 kB)\n",
            "Collecting huggingface_sb3\n",
            "  Downloading huggingface_sb3-3.0-py3-none-any.whl.metadata (6.3 kB)\n",
            "Collecting pyvirtualdisplay\n",
            "  Downloading PyVirtualDisplay-3.0-py3-none-any.whl.metadata (943 bytes)\n",
            "Collecting gymnasium[box2d]\n",
            "  Downloading gymnasium-1.0.0-py3-none-any.whl.metadata (9.5 kB)\n",
            "Requirement already satisfied: imageio[ffmpeg] in /usr/local/lib/python3.10/dist-packages (2.36.1)\n",
            "Collecting gymnasium==0.28.1 (from stable-baselines3==2.0.0a5)\n",
            "  Downloading gymnasium-0.28.1-py3-none-any.whl.metadata (9.2 kB)\n",
            "Requirement already satisfied: numpy in /usr/local/lib/python3.10/dist-packages (from stable-baselines3==2.0.0a5) (1.26.4)\n",
            "Requirement already satisfied: torch>=1.11 in /usr/local/lib/python3.10/dist-packages (from stable-baselines3==2.0.0a5) (2.5.1+cu121)\n",
            "Requirement already satisfied: cloudpickle in /usr/local/lib/python3.10/dist-packages (from stable-baselines3==2.0.0a5) (3.1.0)\n",
            "Requirement already satisfied: pandas in /usr/local/lib/python3.10/dist-packages (from stable-baselines3==2.0.0a5) (2.2.2)\n",
            "Requirement already satisfied: matplotlib in /usr/local/lib/python3.10/dist-packages (from stable-baselines3==2.0.0a5) (3.8.0)\n",
            "Collecting jax-jumpy>=1.0.0 (from gymnasium==0.28.1->stable-baselines3==2.0.0a5)\n",
            "  Downloading jax_jumpy-1.0.0-py3-none-any.whl.metadata (15 kB)\n",
            "Requirement already satisfied: typing-extensions>=4.3.0 in /usr/local/lib/python3.10/dist-packages (from gymnasium==0.28.1->stable-baselines3==2.0.0a5) (4.12.2)\n",
            "Collecting farama-notifications>=0.0.1 (from gymnasium==0.28.1->stable-baselines3==2.0.0a5)\n",
            "  Downloading Farama_Notifications-0.0.4-py3-none-any.whl.metadata (558 bytes)\n",
            "INFO: pip is looking at multiple versions of gymnasium[box2d] to determine which version is compatible with other requirements. This could take a while.\n",
            "Collecting gymnasium[box2d]\n",
            "  Downloading gymnasium-0.29.1-py3-none-any.whl.metadata (10 kB)\n",
            "  Downloading gymnasium-0.29.0-py3-none-any.whl.metadata (10 kB)\n",
            "Collecting box2d-py==2.3.5 (from gymnasium[box2d])\n",
            "  Downloading box2d-py-2.3.5.tar.gz (374 kB)\n",
            "\u001b[2K     \u001b[90m━━━━━━━━━━━━━━━━━━━━━━━━━━━━━━━━━━━━━━━━\u001b[0m \u001b[32m374.4/374.4 kB\u001b[0m \u001b[31m7.3 MB/s\u001b[0m eta \u001b[36m0:00:00\u001b[0m\n",
            "\u001b[?25h  Preparing metadata (setup.py) ... \u001b[?25l\u001b[?25hdone\n",
            "Collecting pygame==2.1.3 (from gymnasium[box2d])\n",
            "  Downloading pygame-2.1.3-cp310-cp310-manylinux_2_17_x86_64.manylinux2014_x86_64.whl.metadata (9.3 kB)\n",
            "Collecting swig==4.* (from gymnasium[box2d])\n",
            "  Downloading swig-4.3.0-py2.py3-none-manylinux_2_5_x86_64.manylinux1_x86_64.whl.metadata (3.5 kB)\n",
            "Requirement already satisfied: huggingface-hub~=0.8 in /usr/local/lib/python3.10/dist-packages (from huggingface_sb3) (0.26.3)\n",
            "Requirement already satisfied: pyyaml~=6.0 in /usr/local/lib/python3.10/dist-packages (from huggingface_sb3) (6.0.2)\n",
            "Requirement already satisfied: wasabi in /usr/local/lib/python3.10/dist-packages (from huggingface_sb3) (1.1.3)\n",
            "Requirement already satisfied: pillow>=8.3.2 in /usr/local/lib/python3.10/dist-packages (from imageio[ffmpeg]) (11.0.0)\n",
            "Requirement already satisfied: imageio-ffmpeg in /usr/local/lib/python3.10/dist-packages (from imageio[ffmpeg]) (0.5.1)\n",
            "Requirement already satisfied: psutil in /usr/local/lib/python3.10/dist-packages (from imageio[ffmpeg]) (5.9.5)\n",
            "Requirement already satisfied: filelock in /usr/local/lib/python3.10/dist-packages (from huggingface-hub~=0.8->huggingface_sb3) (3.16.1)\n",
            "Requirement already satisfied: fsspec>=2023.5.0 in /usr/local/lib/python3.10/dist-packages (from huggingface-hub~=0.8->huggingface_sb3) (2024.10.0)\n",
            "Requirement already satisfied: packaging>=20.9 in /usr/local/lib/python3.10/dist-packages (from huggingface-hub~=0.8->huggingface_sb3) (24.2)\n",
            "Requirement already satisfied: requests in /usr/local/lib/python3.10/dist-packages (from huggingface-hub~=0.8->huggingface_sb3) (2.32.3)\n",
            "Requirement already satisfied: tqdm>=4.42.1 in /usr/local/lib/python3.10/dist-packages (from huggingface-hub~=0.8->huggingface_sb3) (4.66.6)\n",
            "Requirement already satisfied: networkx in /usr/local/lib/python3.10/dist-packages (from torch>=1.11->stable-baselines3==2.0.0a5) (3.4.2)\n",
            "Requirement already satisfied: jinja2 in /usr/local/lib/python3.10/dist-packages (from torch>=1.11->stable-baselines3==2.0.0a5) (3.1.4)\n",
            "Requirement already satisfied: sympy==1.13.1 in /usr/local/lib/python3.10/dist-packages (from torch>=1.11->stable-baselines3==2.0.0a5) (1.13.1)\n",
            "Requirement already satisfied: mpmath<1.4,>=1.1.0 in /usr/local/lib/python3.10/dist-packages (from sympy==1.13.1->torch>=1.11->stable-baselines3==2.0.0a5) (1.3.0)\n",
            "Requirement already satisfied: setuptools in /usr/local/lib/python3.10/dist-packages (from imageio-ffmpeg->imageio[ffmpeg]) (75.1.0)\n",
            "Requirement already satisfied: contourpy>=1.0.1 in /usr/local/lib/python3.10/dist-packages (from matplotlib->stable-baselines3==2.0.0a5) (1.3.1)\n",
            "Requirement already satisfied: cycler>=0.10 in /usr/local/lib/python3.10/dist-packages (from matplotlib->stable-baselines3==2.0.0a5) (0.12.1)\n",
            "Requirement already satisfied: fonttools>=4.22.0 in /usr/local/lib/python3.10/dist-packages (from matplotlib->stable-baselines3==2.0.0a5) (4.55.1)\n",
            "Requirement already satisfied: kiwisolver>=1.0.1 in /usr/local/lib/python3.10/dist-packages (from matplotlib->stable-baselines3==2.0.0a5) (1.4.7)\n",
            "Requirement already satisfied: pyparsing>=2.3.1 in /usr/local/lib/python3.10/dist-packages (from matplotlib->stable-baselines3==2.0.0a5) (3.2.0)\n",
            "Requirement already satisfied: python-dateutil>=2.7 in /usr/local/lib/python3.10/dist-packages (from matplotlib->stable-baselines3==2.0.0a5) (2.8.2)\n",
            "Requirement already satisfied: pytz>=2020.1 in /usr/local/lib/python3.10/dist-packages (from pandas->stable-baselines3==2.0.0a5) (2024.2)\n",
            "Requirement already satisfied: tzdata>=2022.7 in /usr/local/lib/python3.10/dist-packages (from pandas->stable-baselines3==2.0.0a5) (2024.2)\n",
            "Requirement already satisfied: six>=1.5 in /usr/local/lib/python3.10/dist-packages (from python-dateutil>=2.7->matplotlib->stable-baselines3==2.0.0a5) (1.16.0)\n",
            "Requirement already satisfied: MarkupSafe>=2.0 in /usr/local/lib/python3.10/dist-packages (from jinja2->torch>=1.11->stable-baselines3==2.0.0a5) (3.0.2)\n",
            "Requirement already satisfied: charset-normalizer<4,>=2 in /usr/local/lib/python3.10/dist-packages (from requests->huggingface-hub~=0.8->huggingface_sb3) (3.4.0)\n",
            "Requirement already satisfied: idna<4,>=2.5 in /usr/local/lib/python3.10/dist-packages (from requests->huggingface-hub~=0.8->huggingface_sb3) (3.10)\n",
            "Requirement already satisfied: urllib3<3,>=1.21.1 in /usr/local/lib/python3.10/dist-packages (from requests->huggingface-hub~=0.8->huggingface_sb3) (2.2.3)\n",
            "Requirement already satisfied: certifi>=2017.4.17 in /usr/local/lib/python3.10/dist-packages (from requests->huggingface-hub~=0.8->huggingface_sb3) (2024.8.30)\n",
            "Downloading stable_baselines3-2.0.0a5-py3-none-any.whl (177 kB)\n",
            "\u001b[2K   \u001b[90m━━━━━━━━━━━━━━━━━━━━━━━━━━━━━━━━━━━━━━━━\u001b[0m \u001b[32m177.5/177.5 kB\u001b[0m \u001b[31m12.7 MB/s\u001b[0m eta \u001b[36m0:00:00\u001b[0m\n",
            "\u001b[?25hDownloading gymnasium-0.28.1-py3-none-any.whl (925 kB)\n",
            "\u001b[2K   \u001b[90m━━━━━━━━━━━━━━━━━━━━━━━━━━━━━━━━━━━━━━━━\u001b[0m \u001b[32m925.5/925.5 kB\u001b[0m \u001b[31m32.3 MB/s\u001b[0m eta \u001b[36m0:00:00\u001b[0m\n",
            "\u001b[?25hDownloading pygame-2.1.3-cp310-cp310-manylinux_2_17_x86_64.manylinux2014_x86_64.whl (13.7 MB)\n",
            "\u001b[2K   \u001b[90m━━━━━━━━━━━━━━━━━━━━━━━━━━━━━━━━━━━━━━━━\u001b[0m \u001b[32m13.7/13.7 MB\u001b[0m \u001b[31m55.3 MB/s\u001b[0m eta \u001b[36m0:00:00\u001b[0m\n",
            "\u001b[?25hDownloading swig-4.3.0-py2.py3-none-manylinux_2_5_x86_64.manylinux1_x86_64.whl (1.9 MB)\n",
            "\u001b[2K   \u001b[90m━━━━━━━━━━━━━━━━━━━━━━━━━━━━━━━━━━━━━━━━\u001b[0m \u001b[32m1.9/1.9 MB\u001b[0m \u001b[31m50.7 MB/s\u001b[0m eta \u001b[36m0:00:00\u001b[0m\n",
            "\u001b[?25hDownloading huggingface_sb3-3.0-py3-none-any.whl (9.7 kB)\n",
            "Downloading PyVirtualDisplay-3.0-py3-none-any.whl (15 kB)\n",
            "Downloading Farama_Notifications-0.0.4-py3-none-any.whl (2.5 kB)\n",
            "Downloading jax_jumpy-1.0.0-py3-none-any.whl (20 kB)\n",
            "Building wheels for collected packages: box2d-py\n",
            "  Building wheel for box2d-py (setup.py) ... \u001b[?25l\u001b[?25hdone\n",
            "  Created wheel for box2d-py: filename=box2d_py-2.3.5-cp310-cp310-linux_x86_64.whl size=2349115 sha256=5e1c6e44a3dc01f00ecdab80a073ade4886db48befe7679b21c7e52885251fe8\n",
            "  Stored in directory: /root/.cache/pip/wheels/db/8f/6a/eaaadf056fba10a98d986f6dce954e6201ba3126926fc5ad9e\n",
            "Successfully built box2d-py\n",
            "Installing collected packages: swig, pyvirtualdisplay, farama-notifications, box2d-py, pygame, jax-jumpy, gymnasium, stable-baselines3, huggingface_sb3\n",
            "  Attempting uninstall: pygame\n",
            "    Found existing installation: pygame 2.6.1\n",
            "    Uninstalling pygame-2.6.1:\n",
            "      Successfully uninstalled pygame-2.6.1\n",
            "Successfully installed box2d-py-2.3.5 farama-notifications-0.0.4 gymnasium-0.28.1 huggingface_sb3-3.0 jax-jumpy-1.0.0 pygame-2.1.3 pyvirtualdisplay-3.0 stable-baselines3-2.0.0a5 swig-4.3.0\n"
          ]
        }
      ],
      "source": [
        "!apt install swig cmake ffmpeg xvfb python3-opengl\n",
        "!pip install stable-baselines3==2.0.0a5 gymnasium[box2d] huggingface_sb3 pyvirtualdisplay imageio[ffmpeg]"
      ]
    },
    {
      "cell_type": "markdown",
      "metadata": {
        "id": "-v81BfAd7yWc"
      },
      "source": [
        "The Next Cell will force the notebook runtime to restart. This is to ensure all the new libraries installed will be used."
      ]
    },
    {
      "cell_type": "code",
      "execution_count": null,
      "metadata": {
        "id": "FaiyY-Fn_EZg"
      },
      "outputs": [],
      "source": [
        "import os\n",
        "os.kill(os.getpid(), 9)"
      ]
    },
    {
      "cell_type": "markdown",
      "metadata": {
        "id": "cG91Uw14_9-W"
      },
      "source": [
        "### **Setup Environment**"
      ]
    },
    {
      "cell_type": "code",
      "source": [
        "import gymnasium as gym\n",
        "from stable_baselines3.common.utils import set_random_seed\n",
        "from stable_baselines3.common.env_util import make_vec_env\n",
        "from stable_baselines3.common.vec_env import DummyVecEnv\n",
        "from stable_baselines3.common.monitor import Monitor"
      ],
      "metadata": {
        "id": "YnNnr74ecJzy"
      },
      "execution_count": null,
      "outputs": []
    },
    {
      "cell_type": "code",
      "execution_count": null,
      "metadata": {
        "id": "KLOiJMCPh38B"
      },
      "outputs": [],
      "source": [
        "class FastWalkerEnv(gym.Wrapper):\n",
        "    def __init__(self, env, max_steps=1600, switch_threshold=800):\n",
        "        super().__init__(env)\n",
        "        self.max_steps = max_steps  # Max steps per episode\n",
        "        self.steps = 0\n",
        "        self.start_pos = None\n",
        "        self.last_pos = None\n",
        "        self.switch_threshold = switch_threshold  # After how many steps to switch logic\n",
        "        self.use_custom_logic = False  # Flag to switch to custom logic\n",
        "\n",
        "    def reset(self, **kwargs):\n",
        "        obs, info = super().reset(**kwargs)\n",
        "        self.steps = 0\n",
        "        self.start_pos = self.env.unwrapped.hull.position[0]  # Initial position\n",
        "        self.last_pos = self.start_pos\n",
        "        self.use_custom_logic = False  # Start with default logic\n",
        "        return obs, info\n",
        "\n",
        "    def step(self, action):\n",
        "        obs, reward, terminated, truncated, info = super().step(action)\n",
        "        self.steps += 1\n",
        "\n",
        "        current_pos = self.env.unwrapped.hull.position[0]\n",
        "        distance = current_pos - self.start_pos\n",
        "\n",
        "        # After switch_threshold steps, start using custom logic\n",
        "        if self.steps >= self.switch_threshold:\n",
        "            self.use_custom_logic = True\n",
        "\n",
        "        if self.use_custom_logic:\n",
        "            # 1. Custom Reward Logic (based on distance and velocity)\n",
        "            velocity = self.env.unwrapped.hull.linearVelocity.x  # Horizontal speed\n",
        "            distance_reward = distance * 0.25  # Reward for distance\n",
        "            velocity_reward = velocity * 0.5  # Reward for speed\n",
        "\n",
        "            # Combining rewards\n",
        "            modified_reward = distance_reward + velocity_reward + reward\n",
        "            reward = modified_reward\n",
        "\n",
        "            # 2. Custom logic for stuck condition\n",
        "            if abs(current_pos - self.last_pos) < 0.01 :\n",
        "                terminated = True\n",
        "\n",
        "            # 3. Apply custom max steps logic\n",
        "            if self.steps >= self.max_steps:\n",
        "                truncated = True\n",
        "\n",
        "        # Otherwise, use the default logic (before threshold)\n",
        "        else:\n",
        "            pass\n",
        "\n",
        "        info['distance'] = distance\n",
        "        self.last_pos = current_pos\n",
        "\n",
        "        return obs, reward, terminated, truncated, info"
      ]
    },
    {
      "cell_type": "code",
      "source": [
        "def make_env():\n",
        "    env = gym.make('BipedalWalker-v3', hardcore=False, render_mode=\"rgb_array\")\n",
        "    env = FastWalkerEnv(env, max_steps=1600) # Custom Env\n",
        "    return Monitor(env)"
      ],
      "metadata": {
        "id": "31pK_IyoeFxx"
      },
      "execution_count": null,
      "outputs": []
    },
    {
      "cell_type": "code",
      "source": [
        "SEED = 42  # Ensures reproducibility across parallel environments\n",
        "\n",
        "env_train = make_vec_env(\n",
        "    make_env,   # Environment creation function\n",
        "    n_envs=4,   # Number of parallel environments\n",
        "    seed=SEED\n",
        ")"
      ],
      "metadata": {
        "id": "eIFGOqh2hhUq"
      },
      "execution_count": null,
      "outputs": []
    },
    {
      "cell_type": "markdown",
      "metadata": {
        "id": "xr8LRvHOLxIx"
      },
      "source": [
        "### **Observation Space**\n",
        "Observation Space Shape (24,) vector of size 24, where each value contains different information about the walker:\n",
        "\n",
        "- **Hull Angle Speed**: The speed at which the main body of the walker is rotating.\n",
        "- **Angular Velocity**: The rate of change of the angular position of the walker.\n",
        "- **Horizontal Speed**: The speed at which the walker is moving horizontally.\n",
        "- **Vertical Speed**: The speed at which the walker is moving vertically.\n",
        "- **Position of Joints**: The positions (angles) of the walker's joints. Given that the walker has 4 joints, this take up 4 values.\n",
        "- **Joints Angular Speed**: The rate of change of the angular position for each joint. Again, this would be 4 values for the 4 joints.\n",
        "- **Legs Contact with Ground**: Indicating whether each leg is in contact with the ground. Given two legs, this contains 2 values.\n",
        "- **10 Lidar Rangefinder Measurements**: These are distance measurements to detect obstacles or terrain features around the walker. There are 10 of these values.\n"
      ]
    },
    {
      "cell_type": "code",
      "execution_count": null,
      "metadata": {
        "colab": {
          "base_uri": "https://localhost:8080/"
        },
        "id": "l23gcNuzLr4h",
        "outputId": "67909ae5-32d1-48cf-82b2-d3ee00d79d93"
      },
      "outputs": [
        {
          "output_type": "stream",
          "name": "stdout",
          "text": [
            "_____OBSERVATION SPACE_____ \n",
            "\n",
            "Observation Space Shape (24,)\n",
            "Sample observation [ 0.2006335   1.5893735  -1.3399588   3.3080277   0.3055347  -2.7162728\n",
            " -1.9315122   2.8864806   3.947239   -0.5277454   4.8524895   2.4722133\n",
            " -2.8191514   0.32722342 -0.71175134  0.8383089  -0.9938027  -0.63582444\n",
            "  0.6287187  -0.3576082  -0.80304885 -0.67655563  0.96649766  0.4879449 ]\n"
          ]
        }
      ],
      "source": [
        "print(\"_____OBSERVATION SPACE_____ \\n\")\n",
        "print(\"Observation Space Shape\", env_train.observation_space.shape)\n",
        "print(\"Sample observation\", env_train.observation_space.sample()) # Take a random observation"
      ]
    },
    {
      "cell_type": "markdown",
      "metadata": {
        "id": "aS3kPiz8I7OH"
      },
      "source": [
        "### **Action Space**\n",
        "\n",
        " Actions are motor speed values in the [-1, 1] range for each of the 4 joints at both hips and knees."
      ]
    },
    {
      "cell_type": "code",
      "execution_count": null,
      "metadata": {
        "colab": {
          "base_uri": "https://localhost:8080/"
        },
        "id": "r8-of2O-KXe_",
        "outputId": "286265fc-ea9c-40fd-cca6-75c763792f62"
      },
      "outputs": [
        {
          "output_type": "stream",
          "name": "stdout",
          "text": [
            "\n",
            " _____ACTION SPACE_____ \n",
            "\n",
            "Action Space Shape (4,)\n",
            "Action Space Sample [ 0.5479121  -0.12224312  0.71719587  0.39473605]\n"
          ]
        }
      ],
      "source": [
        "print(\"\\n _____ACTION SPACE_____ \\n\")\n",
        "print(\"Action Space Shape\", env_train.action_space.shape)\n",
        "print(\"Action Space Sample\", env_train.action_space.sample()) # Take a random action"
      ]
    },
    {
      "cell_type": "markdown",
      "metadata": {
        "id": "Ho3QSAXWNOxF"
      },
      "source": [
        "# **2. Building the Model**"
      ]
    },
    {
      "cell_type": "code",
      "source": [
        "from stable_baselines3 import A2C"
      ],
      "metadata": {
        "id": "W-3y2NmYjPot"
      },
      "execution_count": null,
      "outputs": []
    },
    {
      "cell_type": "code",
      "execution_count": null,
      "metadata": {
        "id": "n5amWvjFNt93"
      },
      "outputs": [],
      "source": [
        "model = A2C(\n",
        "    policy=\"MlpPolicy\",  # Neural network type (MLP).\n",
        "    env=env_train,       # Training environment.\n",
        "    gamma=0.99,          # Discount factor for rewards.\n",
        "    n_steps=35,          # Steps per update.\n",
        "    vf_coef=0.1,         # Value function loss weight.\n",
        "    ent_coef=0.01,       # Entropy loss weight (exploration).\n",
        "    max_grad_norm=0.5,   # Gradient clipping threshold.\n",
        "    learning_rate=5e-4,  # Learning rate for optimization.\n",
        "    verbose=0            # Verbosity level (0 = silent).\n",
        ")"
      ]
    },
    {
      "cell_type": "markdown",
      "metadata": {
        "id": "LyYbio5uOiHb"
      },
      "source": [
        "# **3. Video Generation**"
      ]
    },
    {
      "cell_type": "code",
      "execution_count": null,
      "metadata": {
        "id": "bZpJ_3yHOhce"
      },
      "outputs": [],
      "source": [
        "import os\n",
        "import numpy as np\n",
        "from wasabi import Printer\n",
        "from stable_baselines3.common.base_class import BaseAlgorithm\n",
        "from pathlib import Path\n",
        "import tempfile\n",
        "from stable_baselines3.common.monitor import Monitor\n",
        "from stable_baselines3.common.vec_env import (\n",
        "    DummyVecEnv,\n",
        "    VecEnv,\n",
        "    VecVideoRecorder,\n",
        ")"
      ]
    },
    {
      "cell_type": "code",
      "execution_count": null,
      "metadata": {
        "id": "r0XIO_k5PBPc"
      },
      "outputs": [],
      "source": [
        "msg = Printer()"
      ]
    },
    {
      "cell_type": "code",
      "execution_count": null,
      "metadata": {
        "id": "TbXxg6viPC-u"
      },
      "outputs": [],
      "source": [
        "def generate_replay(\n",
        "    model: BaseAlgorithm,\n",
        "    eval_env: VecEnv,\n",
        "    video_length: int,\n",
        "    is_deterministic: bool,\n",
        "    local_path: Path,\n",
        "):\n",
        "    with tempfile.TemporaryDirectory() as tmpdirname:\n",
        "        # Set up VecVideoRecorder\n",
        "        env = VecVideoRecorder(\n",
        "            eval_env,\n",
        "            tmpdirname,\n",
        "            record_video_trigger=lambda x: x == 0,\n",
        "            video_length=video_length,\n",
        "            name_prefix=\"\",\n",
        "        )\n",
        "\n",
        "        # Adjust handling of reset() return values\n",
        "        try:\n",
        "            obs, info = env.reset()\n",
        "        except ValueError:\n",
        "            obs = env.reset()\n",
        "            info = {}\n",
        "\n",
        "        lstm_states = None\n",
        "        episode_starts = np.ones((env.num_envs,), dtype=bool)\n",
        "\n",
        "        try:\n",
        "            # Run for at most 1600 steps or video_length, whichever is smaller\n",
        "            max_steps = min(1600, video_length)\n",
        "            for step in range(max_steps):\n",
        "                action, lstm_states = model.predict(\n",
        "                    obs,\n",
        "                    state=lstm_states,\n",
        "                    episode_start=episode_starts,\n",
        "                    deterministic=is_deterministic,\n",
        "                )\n",
        "                try:\n",
        "                    obs, rewards, terminated, truncated, info = env.step(action)\n",
        "                except ValueError:\n",
        "                    obs, rewards, done, info = env.step(action)\n",
        "                    terminated = done\n",
        "                    truncated = False\n",
        "\n",
        "                episode_starts = terminated if isinstance(terminated, np.ndarray) else np.array([terminated])\n",
        "\n",
        "                # Stop video recording if agent falls or gets stuck\n",
        "                if any(terminated):\n",
        "                    break\n",
        "\n",
        "            env.close()\n",
        "\n",
        "            # Convert video to x264 codec\n",
        "            inp = env.video_recorder.path\n",
        "            out = local_path\n",
        "            os.system(f\"ffmpeg -y -i {inp} -vcodec h264 {out}\")\n",
        "            print(f\"Video saved to: {out}\")\n",
        "\n",
        "        except KeyboardInterrupt:\n",
        "            pass\n",
        "        except Exception as e:\n",
        "            msg.fail(str(e))\n",
        "            msg.fail(\"We are unable to generate a replay of your agent\")"
      ]
    },
    {
      "cell_type": "markdown",
      "metadata": {
        "id": "7FSBntjZWBZC"
      },
      "source": [
        "# **4. Training**"
      ]
    },
    {
      "cell_type": "code",
      "execution_count": null,
      "metadata": {
        "colab": {
          "base_uri": "https://localhost:8080/"
        },
        "id": "vh3qOQq5QGlH",
        "outputId": "206733e2-6945-4183-fd15-032698b019d5"
      },
      "outputs": [
        {
          "output_type": "stream",
          "name": "stdout",
          "text": [
            "Episode 5000: Distance traveled = -1.39\n",
            "Moviepy - Building video /tmp/tmpjvq4_mb7/-step-0-to-step-1600.mp4.\n",
            "Moviepy - Writing video /tmp/tmpjvq4_mb7/-step-0-to-step-1600.mp4\n",
            "\n"
          ]
        },
        {
          "output_type": "stream",
          "name": "stderr",
          "text": [
            "                                                  "
          ]
        },
        {
          "output_type": "stream",
          "name": "stdout",
          "text": [
            "Moviepy - Done !\n",
            "Moviepy - video ready /tmp/tmpjvq4_mb7/-step-0-to-step-1600.mp4\n"
          ]
        },
        {
          "output_type": "stream",
          "name": "stderr",
          "text": [
            "\r"
          ]
        },
        {
          "output_type": "stream",
          "name": "stdout",
          "text": [
            "Moviepy - Building video /tmp/tmpjvq4_mb7/-step-0-to-step-1600.mp4.\n",
            "Moviepy - Writing video /tmp/tmpjvq4_mb7/-step-0-to-step-1600.mp4\n",
            "\n"
          ]
        },
        {
          "output_type": "stream",
          "name": "stderr",
          "text": []
        },
        {
          "output_type": "stream",
          "name": "stdout",
          "text": [
            "Moviepy - Done !\n",
            "Moviepy - video ready /tmp/tmpjvq4_mb7/-step-0-to-step-1600.mp4\n",
            "Video saved to: replay_ep5000_dist-1.39.mp4\n",
            "\n",
            "Video updated and saved as: replay_ep5000_dist-1.39.mp4\n",
            "\n",
            "New best model, distance: -1.39\n",
            "\n",
            "Moviepy - Building video /tmp/tmpgk1qyg8p/-step-0-to-step-1600.mp4.\n",
            "Moviepy - Writing video /tmp/tmpgk1qyg8p/-step-0-to-step-1600.mp4\n",
            "\n"
          ]
        },
        {
          "output_type": "stream",
          "name": "stderr",
          "text": [
            "                                                  "
          ]
        },
        {
          "output_type": "stream",
          "name": "stdout",
          "text": [
            "Moviepy - Done !\n",
            "Moviepy - video ready /tmp/tmpgk1qyg8p/-step-0-to-step-1600.mp4\n"
          ]
        },
        {
          "output_type": "stream",
          "name": "stderr",
          "text": [
            "\r"
          ]
        },
        {
          "output_type": "stream",
          "name": "stdout",
          "text": [
            "Moviepy - Building video /tmp/tmpgk1qyg8p/-step-0-to-step-1600.mp4.\n",
            "Moviepy - Writing video /tmp/tmpgk1qyg8p/-step-0-to-step-1600.mp4\n",
            "\n"
          ]
        },
        {
          "output_type": "stream",
          "name": "stderr",
          "text": []
        },
        {
          "output_type": "stream",
          "name": "stdout",
          "text": [
            "Moviepy - Done !\n",
            "Moviepy - video ready /tmp/tmpgk1qyg8p/-step-0-to-step-1600.mp4\n",
            "Video saved to: best_replay_ep5000_dist-1.39.mp4\n",
            "\n",
            "Best video updated and saved as: best_replay_ep5000_dist-1.39.mp4\n",
            "\n",
            "Episode 10000: Distance traveled = -1.67\n",
            "Episode 15000: Distance traveled = -1.57\n",
            "Episode 20000: Distance traveled = -1.58\n",
            "Episode 25000: Distance traveled = 2.13\n",
            "New best model, distance: 2.13\n",
            "\n",
            "Moviepy - Building video /tmp/tmp706yprzc/-step-0-to-step-1600.mp4.\n",
            "Moviepy - Writing video /tmp/tmp706yprzc/-step-0-to-step-1600.mp4\n",
            "\n"
          ]
        },
        {
          "output_type": "stream",
          "name": "stderr",
          "text": [
            "                                                  "
          ]
        },
        {
          "output_type": "stream",
          "name": "stdout",
          "text": [
            "Moviepy - Done !\n",
            "Moviepy - video ready /tmp/tmp706yprzc/-step-0-to-step-1600.mp4\n"
          ]
        },
        {
          "output_type": "stream",
          "name": "stderr",
          "text": [
            "\r"
          ]
        },
        {
          "output_type": "stream",
          "name": "stdout",
          "text": [
            "Moviepy - Building video /tmp/tmp706yprzc/-step-0-to-step-1600.mp4.\n",
            "Moviepy - Writing video /tmp/tmp706yprzc/-step-0-to-step-1600.mp4\n",
            "\n"
          ]
        },
        {
          "output_type": "stream",
          "name": "stderr",
          "text": []
        },
        {
          "output_type": "stream",
          "name": "stdout",
          "text": [
            "Moviepy - Done !\n",
            "Moviepy - video ready /tmp/tmp706yprzc/-step-0-to-step-1600.mp4\n",
            "Video saved to: best_replay_ep25000_dist2.13.mp4\n",
            "\n",
            "Best video updated and saved as: best_replay_ep25000_dist2.13.mp4\n",
            "\n",
            "Episode 30000: Distance traveled = -2.27\n",
            "Episode 35000: Distance traveled = 1.76\n",
            "Episode 40000: Distance traveled = 2.33\n",
            "New best model, distance: 2.33\n",
            "\n",
            "Moviepy - Building video /tmp/tmp5xsj3sbl/-step-0-to-step-1600.mp4.\n",
            "Moviepy - Writing video /tmp/tmp5xsj3sbl/-step-0-to-step-1600.mp4\n",
            "\n"
          ]
        },
        {
          "output_type": "stream",
          "name": "stderr",
          "text": [
            "                                                  "
          ]
        },
        {
          "output_type": "stream",
          "name": "stdout",
          "text": [
            "Moviepy - Done !\n",
            "Moviepy - video ready /tmp/tmp5xsj3sbl/-step-0-to-step-1600.mp4\n"
          ]
        },
        {
          "output_type": "stream",
          "name": "stderr",
          "text": [
            "\r"
          ]
        },
        {
          "output_type": "stream",
          "name": "stdout",
          "text": [
            "Moviepy - Building video /tmp/tmp5xsj3sbl/-step-0-to-step-1600.mp4.\n",
            "Moviepy - Writing video /tmp/tmp5xsj3sbl/-step-0-to-step-1600.mp4\n",
            "\n"
          ]
        },
        {
          "output_type": "stream",
          "name": "stderr",
          "text": []
        },
        {
          "output_type": "stream",
          "name": "stdout",
          "text": [
            "Moviepy - Done !\n",
            "Moviepy - video ready /tmp/tmp5xsj3sbl/-step-0-to-step-1600.mp4\n",
            "Video saved to: best_replay_ep40000_dist2.33.mp4\n",
            "\n",
            "Best video updated and saved as: best_replay_ep40000_dist2.33.mp4\n",
            "\n",
            "Episode 45000: Distance traveled = 0.45\n",
            "Episode 50000: Distance traveled = -0.13\n",
            "Episode 55000: Distance traveled = 2.40\n",
            "New best model, distance: 2.40\n",
            "\n",
            "Moviepy - Building video /tmp/tmp9ejdvs0c/-step-0-to-step-1600.mp4.\n",
            "Moviepy - Writing video /tmp/tmp9ejdvs0c/-step-0-to-step-1600.mp4\n",
            "\n"
          ]
        },
        {
          "output_type": "stream",
          "name": "stderr",
          "text": [
            "                                                  "
          ]
        },
        {
          "output_type": "stream",
          "name": "stdout",
          "text": [
            "Moviepy - Done !\n",
            "Moviepy - video ready /tmp/tmp9ejdvs0c/-step-0-to-step-1600.mp4\n"
          ]
        },
        {
          "output_type": "stream",
          "name": "stderr",
          "text": [
            "\r"
          ]
        },
        {
          "output_type": "stream",
          "name": "stdout",
          "text": [
            "Moviepy - Building video /tmp/tmp9ejdvs0c/-step-0-to-step-1600.mp4.\n",
            "Moviepy - Writing video /tmp/tmp9ejdvs0c/-step-0-to-step-1600.mp4\n",
            "\n"
          ]
        },
        {
          "output_type": "stream",
          "name": "stderr",
          "text": []
        },
        {
          "output_type": "stream",
          "name": "stdout",
          "text": [
            "Moviepy - Done !\n",
            "Moviepy - video ready /tmp/tmp9ejdvs0c/-step-0-to-step-1600.mp4\n",
            "Video saved to: best_replay_ep55000_dist2.40.mp4\n",
            "\n",
            "Best video updated and saved as: best_replay_ep55000_dist2.40.mp4\n",
            "\n",
            "Episode 60000: Distance traveled = -1.00\n",
            "Episode 65000: Distance traveled = 2.19\n",
            "Episode 70000: Distance traveled = 2.40\n",
            "New best model, distance: 2.40\n",
            "\n",
            "Moviepy - Building video /tmp/tmp7c9qkgbj/-step-0-to-step-1600.mp4.\n",
            "Moviepy - Writing video /tmp/tmp7c9qkgbj/-step-0-to-step-1600.mp4\n",
            "\n"
          ]
        },
        {
          "output_type": "stream",
          "name": "stderr",
          "text": [
            "                                                  "
          ]
        },
        {
          "output_type": "stream",
          "name": "stdout",
          "text": [
            "Moviepy - Done !\n",
            "Moviepy - video ready /tmp/tmp7c9qkgbj/-step-0-to-step-1600.mp4\n"
          ]
        },
        {
          "output_type": "stream",
          "name": "stderr",
          "text": [
            "\r"
          ]
        },
        {
          "output_type": "stream",
          "name": "stdout",
          "text": [
            "Moviepy - Building video /tmp/tmp7c9qkgbj/-step-0-to-step-1600.mp4.\n",
            "Moviepy - Writing video /tmp/tmp7c9qkgbj/-step-0-to-step-1600.mp4\n",
            "\n"
          ]
        },
        {
          "output_type": "stream",
          "name": "stderr",
          "text": []
        },
        {
          "output_type": "stream",
          "name": "stdout",
          "text": [
            "Moviepy - Done !\n",
            "Moviepy - video ready /tmp/tmp7c9qkgbj/-step-0-to-step-1600.mp4\n",
            "Video saved to: best_replay_ep70000_dist2.40.mp4\n",
            "\n",
            "Best video updated and saved as: best_replay_ep70000_dist2.40.mp4\n",
            "\n",
            "Episode 75000: Distance traveled = -2.31\n",
            "Episode 80000: Distance traveled = -1.89\n",
            "Episode 85000: Distance traveled = 0.04\n",
            "Episode 90000: Distance traveled = -2.29\n",
            "Episode 95000: Distance traveled = -0.76\n",
            "Episode 100000: Distance traveled = -3.24\n",
            "Episode 105000: Distance traveled = 2.39\n",
            "Moviepy - Building video /tmp/tmpfh782dqh/-step-0-to-step-1600.mp4.\n",
            "Moviepy - Writing video /tmp/tmpfh782dqh/-step-0-to-step-1600.mp4\n",
            "\n"
          ]
        },
        {
          "output_type": "stream",
          "name": "stderr",
          "text": [
            "                                                  "
          ]
        },
        {
          "output_type": "stream",
          "name": "stdout",
          "text": [
            "Moviepy - Done !\n",
            "Moviepy - video ready /tmp/tmpfh782dqh/-step-0-to-step-1600.mp4\n"
          ]
        },
        {
          "output_type": "stream",
          "name": "stderr",
          "text": [
            "\r"
          ]
        },
        {
          "output_type": "stream",
          "name": "stdout",
          "text": [
            "Moviepy - Building video /tmp/tmpfh782dqh/-step-0-to-step-1600.mp4.\n",
            "Moviepy - Writing video /tmp/tmpfh782dqh/-step-0-to-step-1600.mp4\n",
            "\n"
          ]
        },
        {
          "output_type": "stream",
          "name": "stderr",
          "text": []
        },
        {
          "output_type": "stream",
          "name": "stdout",
          "text": [
            "Moviepy - Done !\n",
            "Moviepy - video ready /tmp/tmpfh782dqh/-step-0-to-step-1600.mp4\n",
            "Video saved to: replay_ep105000_dist2.39.mp4\n",
            "\n",
            "Video updated and saved as: replay_ep105000_dist2.39.mp4\n",
            "\n",
            "Episode 110000: Distance traveled = 2.19\n",
            "Episode 115000: Distance traveled = -0.69\n",
            "Episode 120000: Distance traveled = -0.60\n",
            "Episode 125000: Distance traveled = -2.31\n",
            "Episode 130000: Distance traveled = -0.42\n",
            "Episode 135000: Distance traveled = 1.20\n",
            "Episode 140000: Distance traveled = -2.20\n",
            "Episode 145000: Distance traveled = -0.73\n",
            "Episode 150000: Distance traveled = 2.90\n",
            "New best model, distance: 2.90\n",
            "\n",
            "Moviepy - Building video /tmp/tmpc6hvyb98/-step-0-to-step-1600.mp4.\n",
            "Moviepy - Writing video /tmp/tmpc6hvyb98/-step-0-to-step-1600.mp4\n",
            "\n"
          ]
        },
        {
          "output_type": "stream",
          "name": "stderr",
          "text": [
            "                                                  "
          ]
        },
        {
          "output_type": "stream",
          "name": "stdout",
          "text": [
            "Moviepy - Done !\n",
            "Moviepy - video ready /tmp/tmpc6hvyb98/-step-0-to-step-1600.mp4\n"
          ]
        },
        {
          "output_type": "stream",
          "name": "stderr",
          "text": [
            "\r"
          ]
        },
        {
          "output_type": "stream",
          "name": "stdout",
          "text": [
            "Moviepy - Building video /tmp/tmpc6hvyb98/-step-0-to-step-1600.mp4.\n",
            "Moviepy - Writing video /tmp/tmpc6hvyb98/-step-0-to-step-1600.mp4\n",
            "\n"
          ]
        },
        {
          "output_type": "stream",
          "name": "stderr",
          "text": []
        },
        {
          "output_type": "stream",
          "name": "stdout",
          "text": [
            "Moviepy - Done !\n",
            "Moviepy - video ready /tmp/tmpc6hvyb98/-step-0-to-step-1600.mp4\n",
            "Video saved to: best_replay_ep150000_dist2.90.mp4\n",
            "\n",
            "Best video updated and saved as: best_replay_ep150000_dist2.90.mp4\n",
            "\n",
            "Episode 155000: Distance traveled = 3.05\n",
            "New best model, distance: 3.05\n",
            "\n",
            "Moviepy - Building video /tmp/tmp9hjajof9/-step-0-to-step-1600.mp4.\n",
            "Moviepy - Writing video /tmp/tmp9hjajof9/-step-0-to-step-1600.mp4\n",
            "\n"
          ]
        },
        {
          "output_type": "stream",
          "name": "stderr",
          "text": [
            "                                                  "
          ]
        },
        {
          "output_type": "stream",
          "name": "stdout",
          "text": [
            "Moviepy - Done !\n",
            "Moviepy - video ready /tmp/tmp9hjajof9/-step-0-to-step-1600.mp4\n"
          ]
        },
        {
          "output_type": "stream",
          "name": "stderr",
          "text": [
            "\r"
          ]
        },
        {
          "output_type": "stream",
          "name": "stdout",
          "text": [
            "Moviepy - Building video /tmp/tmp9hjajof9/-step-0-to-step-1600.mp4.\n",
            "Moviepy - Writing video /tmp/tmp9hjajof9/-step-0-to-step-1600.mp4\n",
            "\n"
          ]
        },
        {
          "output_type": "stream",
          "name": "stderr",
          "text": []
        },
        {
          "output_type": "stream",
          "name": "stdout",
          "text": [
            "Moviepy - Done !\n",
            "Moviepy - video ready /tmp/tmp9hjajof9/-step-0-to-step-1600.mp4\n",
            "Video saved to: best_replay_ep155000_dist3.05.mp4\n",
            "\n",
            "Best video updated and saved as: best_replay_ep155000_dist3.05.mp4\n",
            "\n",
            "Episode 160000: Distance traveled = 0.56\n",
            "Episode 165000: Distance traveled = 0.70\n",
            "Episode 170000: Distance traveled = -0.32\n",
            "Episode 175000: Distance traveled = -0.34\n",
            "Episode 180000: Distance traveled = -0.32\n",
            "Episode 185000: Distance traveled = -0.74\n",
            "Episode 190000: Distance traveled = 0.83\n",
            "Episode 195000: Distance traveled = -0.18\n",
            "Episode 200000: Distance traveled = -1.60\n",
            "Episode 205000: Distance traveled = -0.34\n",
            "Moviepy - Building video /tmp/tmprn_nlxxm/-step-0-to-step-1600.mp4.\n",
            "Moviepy - Writing video /tmp/tmprn_nlxxm/-step-0-to-step-1600.mp4\n",
            "\n"
          ]
        },
        {
          "output_type": "stream",
          "name": "stderr",
          "text": [
            "                                                  "
          ]
        },
        {
          "output_type": "stream",
          "name": "stdout",
          "text": [
            "Moviepy - Done !\n",
            "Moviepy - video ready /tmp/tmprn_nlxxm/-step-0-to-step-1600.mp4\n"
          ]
        },
        {
          "output_type": "stream",
          "name": "stderr",
          "text": [
            "\r"
          ]
        },
        {
          "output_type": "stream",
          "name": "stdout",
          "text": [
            "Saving video to /tmp/tmprn_nlxxm/-step-0-to-step-1600.mp4\n",
            "Moviepy - Building video /tmp/tmprn_nlxxm/-step-0-to-step-1600.mp4.\n",
            "Moviepy - Writing video /tmp/tmprn_nlxxm/-step-0-to-step-1600.mp4\n",
            "\n"
          ]
        },
        {
          "output_type": "stream",
          "name": "stderr",
          "text": []
        },
        {
          "output_type": "stream",
          "name": "stdout",
          "text": [
            "Moviepy - Done !\n",
            "Moviepy - video ready /tmp/tmprn_nlxxm/-step-0-to-step-1600.mp4\n",
            "Video saved to: replay_ep205000_dist-0.34.mp4\n",
            "\n",
            "Video updated and saved as: replay_ep205000_dist-0.34.mp4\n",
            "\n",
            "Episode 210000: Distance traveled = 1.87\n",
            "Episode 215000: Distance traveled = -0.15\n",
            "Episode 220000: Distance traveled = 1.21\n",
            "Episode 225000: Distance traveled = -0.03\n",
            "Episode 230000: Distance traveled = -0.06\n",
            "Episode 235000: Distance traveled = -0.27\n",
            "Episode 240000: Distance traveled = -0.43\n",
            "Episode 245000: Distance traveled = -0.14\n",
            "Episode 250000: Distance traveled = 0.40\n",
            "Episode 255000: Distance traveled = -0.32\n",
            "Episode 260000: Distance traveled = -1.07\n",
            "Episode 265000: Distance traveled = -1.37\n",
            "Episode 270000: Distance traveled = -0.91\n",
            "Episode 275000: Distance traveled = -0.76\n",
            "Episode 280000: Distance traveled = -0.17\n",
            "Episode 285000: Distance traveled = -0.84\n",
            "Episode 290000: Distance traveled = 2.37\n",
            "Episode 295000: Distance traveled = -0.11\n",
            "Episode 300000: Distance traveled = 1.60\n",
            "Episode 305000: Distance traveled = 1.98\n",
            "Moviepy - Building video /tmp/tmpfwrzs_x7/-step-0-to-step-1600.mp4.\n",
            "Moviepy - Writing video /tmp/tmpfwrzs_x7/-step-0-to-step-1600.mp4\n",
            "\n"
          ]
        },
        {
          "output_type": "stream",
          "name": "stderr",
          "text": [
            "                                                  "
          ]
        },
        {
          "output_type": "stream",
          "name": "stdout",
          "text": [
            "Moviepy - Done !\n",
            "Moviepy - video ready /tmp/tmpfwrzs_x7/-step-0-to-step-1600.mp4\n"
          ]
        },
        {
          "output_type": "stream",
          "name": "stderr",
          "text": [
            "\r"
          ]
        },
        {
          "output_type": "stream",
          "name": "stdout",
          "text": [
            "Moviepy - Building video /tmp/tmpfwrzs_x7/-step-0-to-step-1600.mp4.\n",
            "Moviepy - Writing video /tmp/tmpfwrzs_x7/-step-0-to-step-1600.mp4\n",
            "\n"
          ]
        },
        {
          "output_type": "stream",
          "name": "stderr",
          "text": []
        },
        {
          "output_type": "stream",
          "name": "stdout",
          "text": [
            "Moviepy - Done !\n",
            "Moviepy - video ready /tmp/tmpfwrzs_x7/-step-0-to-step-1600.mp4\n",
            "Video saved to: replay_ep305000_dist1.98.mp4\n",
            "\n",
            "Video updated and saved as: replay_ep305000_dist1.98.mp4\n",
            "\n",
            "Episode 310000: Distance traveled = 1.45\n",
            "Episode 315000: Distance traveled = 1.89\n",
            "Episode 320000: Distance traveled = 2.13\n",
            "Episode 325000: Distance traveled = 1.95\n",
            "Episode 330000: Distance traveled = 4.95\n",
            "New best model, distance: 4.95\n",
            "\n",
            "Moviepy - Building video /tmp/tmpuuwavlc0/-step-0-to-step-1600.mp4.\n",
            "Moviepy - Writing video /tmp/tmpuuwavlc0/-step-0-to-step-1600.mp4\n",
            "\n"
          ]
        },
        {
          "output_type": "stream",
          "name": "stderr",
          "text": [
            "                                                  "
          ]
        },
        {
          "output_type": "stream",
          "name": "stdout",
          "text": [
            "Moviepy - Done !\n",
            "Moviepy - video ready /tmp/tmpuuwavlc0/-step-0-to-step-1600.mp4\n"
          ]
        },
        {
          "output_type": "stream",
          "name": "stderr",
          "text": [
            "\r"
          ]
        },
        {
          "output_type": "stream",
          "name": "stdout",
          "text": [
            "Moviepy - Building video /tmp/tmpuuwavlc0/-step-0-to-step-1600.mp4.\n",
            "Moviepy - Writing video /tmp/tmpuuwavlc0/-step-0-to-step-1600.mp4\n",
            "\n"
          ]
        },
        {
          "output_type": "stream",
          "name": "stderr",
          "text": []
        },
        {
          "output_type": "stream",
          "name": "stdout",
          "text": [
            "Moviepy - Done !\n",
            "Moviepy - video ready /tmp/tmpuuwavlc0/-step-0-to-step-1600.mp4\n",
            "Video saved to: best_replay_ep330000_dist4.95.mp4\n",
            "\n",
            "Best video updated and saved as: best_replay_ep330000_dist4.95.mp4\n",
            "\n",
            "Episode 335000: Distance traveled = 4.95\n",
            "Episode 340000: Distance traveled = -0.53\n",
            "Episode 345000: Distance traveled = 1.25\n",
            "Episode 350000: Distance traveled = 1.78\n",
            "Episode 355000: Distance traveled = 20.48\n",
            "New best model, distance: 20.48\n",
            "\n",
            "Moviepy - Building video /tmp/tmpqgai45br/-step-0-to-step-1600.mp4.\n",
            "Moviepy - Writing video /tmp/tmpqgai45br/-step-0-to-step-1600.mp4\n",
            "\n"
          ]
        },
        {
          "output_type": "stream",
          "name": "stderr",
          "text": [
            "                                                  "
          ]
        },
        {
          "output_type": "stream",
          "name": "stdout",
          "text": [
            "Moviepy - Done !\n",
            "Moviepy - video ready /tmp/tmpqgai45br/-step-0-to-step-1600.mp4\n"
          ]
        },
        {
          "output_type": "stream",
          "name": "stderr",
          "text": [
            "\r"
          ]
        },
        {
          "output_type": "stream",
          "name": "stdout",
          "text": [
            "Moviepy - Building video /tmp/tmpqgai45br/-step-0-to-step-1600.mp4.\n",
            "Moviepy - Writing video /tmp/tmpqgai45br/-step-0-to-step-1600.mp4\n",
            "\n"
          ]
        },
        {
          "output_type": "stream",
          "name": "stderr",
          "text": []
        },
        {
          "output_type": "stream",
          "name": "stdout",
          "text": [
            "Moviepy - Done !\n",
            "Moviepy - video ready /tmp/tmpqgai45br/-step-0-to-step-1600.mp4\n",
            "Video saved to: best_replay_ep355000_dist20.48.mp4\n",
            "\n",
            "Best video updated and saved as: best_replay_ep355000_dist20.48.mp4\n",
            "\n",
            "Episode 360000: Distance traveled = 1.84\n",
            "Episode 365000: Distance traveled = 13.56\n",
            "Episode 370000: Distance traveled = -1.75\n",
            "Episode 375000: Distance traveled = 8.86\n",
            "Episode 380000: Distance traveled = 20.55\n",
            "New best model, distance: 20.55\n",
            "\n",
            "Moviepy - Building video /tmp/tmpvwhau5c0/-step-0-to-step-1600.mp4.\n",
            "Moviepy - Writing video /tmp/tmpvwhau5c0/-step-0-to-step-1600.mp4\n",
            "\n"
          ]
        },
        {
          "output_type": "stream",
          "name": "stderr",
          "text": [
            "                                                  "
          ]
        },
        {
          "output_type": "stream",
          "name": "stdout",
          "text": [
            "Moviepy - Done !\n",
            "Moviepy - video ready /tmp/tmpvwhau5c0/-step-0-to-step-1600.mp4\n"
          ]
        },
        {
          "output_type": "stream",
          "name": "stderr",
          "text": [
            "\r"
          ]
        },
        {
          "output_type": "stream",
          "name": "stdout",
          "text": [
            "Moviepy - Building video /tmp/tmpvwhau5c0/-step-0-to-step-1600.mp4.\n",
            "Moviepy - Writing video /tmp/tmpvwhau5c0/-step-0-to-step-1600.mp4\n",
            "\n"
          ]
        },
        {
          "output_type": "stream",
          "name": "stderr",
          "text": []
        },
        {
          "output_type": "stream",
          "name": "stdout",
          "text": [
            "Moviepy - Done !\n",
            "Moviepy - video ready /tmp/tmpvwhau5c0/-step-0-to-step-1600.mp4\n",
            "Video saved to: best_replay_ep380000_dist20.55.mp4\n",
            "\n",
            "Best video updated and saved as: best_replay_ep380000_dist20.55.mp4\n",
            "\n",
            "Episode 385000: Distance traveled = 28.74\n",
            "New best model, distance: 28.74\n",
            "\n",
            "Moviepy - Building video /tmp/tmpn035izze/-step-0-to-step-1600.mp4.\n",
            "Moviepy - Writing video /tmp/tmpn035izze/-step-0-to-step-1600.mp4\n",
            "\n"
          ]
        },
        {
          "output_type": "stream",
          "name": "stderr",
          "text": [
            "                                                  "
          ]
        },
        {
          "output_type": "stream",
          "name": "stdout",
          "text": [
            "Moviepy - Done !\n",
            "Moviepy - video ready /tmp/tmpn035izze/-step-0-to-step-1600.mp4\n"
          ]
        },
        {
          "output_type": "stream",
          "name": "stderr",
          "text": [
            "\r"
          ]
        },
        {
          "output_type": "stream",
          "name": "stdout",
          "text": [
            "Moviepy - Building video /tmp/tmpn035izze/-step-0-to-step-1600.mp4.\n",
            "Moviepy - Writing video /tmp/tmpn035izze/-step-0-to-step-1600.mp4\n",
            "\n"
          ]
        },
        {
          "output_type": "stream",
          "name": "stderr",
          "text": []
        },
        {
          "output_type": "stream",
          "name": "stdout",
          "text": [
            "Moviepy - Done !\n",
            "Moviepy - video ready /tmp/tmpn035izze/-step-0-to-step-1600.mp4\n",
            "Video saved to: best_replay_ep385000_dist28.74.mp4\n",
            "\n",
            "Best video updated and saved as: best_replay_ep385000_dist28.74.mp4\n",
            "\n",
            "Episode 390000: Distance traveled = 29.21\n",
            "New best model, distance: 29.21\n",
            "\n",
            "Moviepy - Building video /tmp/tmpd1e8waiv/-step-0-to-step-1600.mp4.\n",
            "Moviepy - Writing video /tmp/tmpd1e8waiv/-step-0-to-step-1600.mp4\n",
            "\n"
          ]
        },
        {
          "output_type": "stream",
          "name": "stderr",
          "text": [
            "                                                  "
          ]
        },
        {
          "output_type": "stream",
          "name": "stdout",
          "text": [
            "Moviepy - Done !\n",
            "Moviepy - video ready /tmp/tmpd1e8waiv/-step-0-to-step-1600.mp4\n"
          ]
        },
        {
          "output_type": "stream",
          "name": "stderr",
          "text": [
            "\r"
          ]
        },
        {
          "output_type": "stream",
          "name": "stdout",
          "text": [
            "Moviepy - Building video /tmp/tmpd1e8waiv/-step-0-to-step-1600.mp4.\n",
            "Moviepy - Writing video /tmp/tmpd1e8waiv/-step-0-to-step-1600.mp4\n",
            "\n"
          ]
        },
        {
          "output_type": "stream",
          "name": "stderr",
          "text": []
        },
        {
          "output_type": "stream",
          "name": "stdout",
          "text": [
            "Moviepy - Done !\n",
            "Moviepy - video ready /tmp/tmpd1e8waiv/-step-0-to-step-1600.mp4\n",
            "Video saved to: best_replay_ep390000_dist29.21.mp4\n",
            "\n",
            "Best video updated and saved as: best_replay_ep390000_dist29.21.mp4\n",
            "\n",
            "Episode 395000: Distance traveled = -4.69\n",
            "Episode 400000: Distance traveled = 24.91\n",
            "Episode 405000: Distance traveled = 33.78\n",
            "Moviepy - Building video /tmp/tmpqaeaojn9/-step-0-to-step-1600.mp4.\n",
            "Moviepy - Writing video /tmp/tmpqaeaojn9/-step-0-to-step-1600.mp4\n",
            "\n"
          ]
        },
        {
          "output_type": "stream",
          "name": "stderr",
          "text": [
            "                                                  "
          ]
        },
        {
          "output_type": "stream",
          "name": "stdout",
          "text": [
            "Moviepy - Done !\n",
            "Moviepy - video ready /tmp/tmpqaeaojn9/-step-0-to-step-1600.mp4\n"
          ]
        },
        {
          "output_type": "stream",
          "name": "stderr",
          "text": [
            "\r"
          ]
        },
        {
          "output_type": "stream",
          "name": "stdout",
          "text": [
            "Saving video to /tmp/tmpqaeaojn9/-step-0-to-step-1600.mp4\n",
            "Moviepy - Building video /tmp/tmpqaeaojn9/-step-0-to-step-1600.mp4.\n",
            "Moviepy - Writing video /tmp/tmpqaeaojn9/-step-0-to-step-1600.mp4\n",
            "\n"
          ]
        },
        {
          "output_type": "stream",
          "name": "stderr",
          "text": []
        },
        {
          "output_type": "stream",
          "name": "stdout",
          "text": [
            "Moviepy - Done !\n",
            "Moviepy - video ready /tmp/tmpqaeaojn9/-step-0-to-step-1600.mp4\n",
            "Video saved to: replay_ep405000_dist33.78.mp4\n",
            "\n",
            "Video updated and saved as: replay_ep405000_dist33.78.mp4\n",
            "\n",
            "New best model, distance: 33.78\n",
            "\n",
            "Moviepy - Building video /tmp/tmp03wi7nez/-step-0-to-step-1600.mp4.\n",
            "Moviepy - Writing video /tmp/tmp03wi7nez/-step-0-to-step-1600.mp4\n",
            "\n"
          ]
        },
        {
          "output_type": "stream",
          "name": "stderr",
          "text": [
            "                                                  "
          ]
        },
        {
          "output_type": "stream",
          "name": "stdout",
          "text": [
            "Moviepy - Done !\n",
            "Moviepy - video ready /tmp/tmp03wi7nez/-step-0-to-step-1600.mp4\n"
          ]
        },
        {
          "output_type": "stream",
          "name": "stderr",
          "text": [
            "\r"
          ]
        },
        {
          "output_type": "stream",
          "name": "stdout",
          "text": [
            "Saving video to /tmp/tmp03wi7nez/-step-0-to-step-1600.mp4\n",
            "Moviepy - Building video /tmp/tmp03wi7nez/-step-0-to-step-1600.mp4.\n",
            "Moviepy - Writing video /tmp/tmp03wi7nez/-step-0-to-step-1600.mp4\n",
            "\n"
          ]
        },
        {
          "output_type": "stream",
          "name": "stderr",
          "text": []
        },
        {
          "output_type": "stream",
          "name": "stdout",
          "text": [
            "Moviepy - Done !\n",
            "Moviepy - video ready /tmp/tmp03wi7nez/-step-0-to-step-1600.mp4\n",
            "Video saved to: best_replay_ep405000_dist33.78.mp4\n",
            "\n",
            "Best video updated and saved as: best_replay_ep405000_dist33.78.mp4\n",
            "\n",
            "Episode 410000: Distance traveled = 25.47\n",
            "Episode 415000: Distance traveled = 34.06\n",
            "New best model, distance: 34.06\n",
            "\n",
            "Moviepy - Building video /tmp/tmplf7n35q6/-step-0-to-step-1600.mp4.\n",
            "Moviepy - Writing video /tmp/tmplf7n35q6/-step-0-to-step-1600.mp4\n",
            "\n"
          ]
        },
        {
          "output_type": "stream",
          "name": "stderr",
          "text": [
            "                                                  "
          ]
        },
        {
          "output_type": "stream",
          "name": "stdout",
          "text": [
            "Moviepy - Done !\n",
            "Moviepy - video ready /tmp/tmplf7n35q6/-step-0-to-step-1600.mp4\n"
          ]
        },
        {
          "output_type": "stream",
          "name": "stderr",
          "text": [
            "\r"
          ]
        },
        {
          "output_type": "stream",
          "name": "stdout",
          "text": [
            "Saving video to /tmp/tmplf7n35q6/-step-0-to-step-1600.mp4\n",
            "Moviepy - Building video /tmp/tmplf7n35q6/-step-0-to-step-1600.mp4.\n",
            "Moviepy - Writing video /tmp/tmplf7n35q6/-step-0-to-step-1600.mp4\n",
            "\n"
          ]
        },
        {
          "output_type": "stream",
          "name": "stderr",
          "text": []
        },
        {
          "output_type": "stream",
          "name": "stdout",
          "text": [
            "Moviepy - Done !\n",
            "Moviepy - video ready /tmp/tmplf7n35q6/-step-0-to-step-1600.mp4\n",
            "Video saved to: best_replay_ep415000_dist34.06.mp4\n",
            "\n",
            "Best video updated and saved as: best_replay_ep415000_dist34.06.mp4\n",
            "\n",
            "Episode 420000: Distance traveled = 4.49\n",
            "Episode 425000: Distance traveled = 42.67\n",
            "New best model, distance: 42.67\n",
            "\n",
            "Moviepy - Building video /tmp/tmpo060rb1e/-step-0-to-step-1600.mp4.\n",
            "Moviepy - Writing video /tmp/tmpo060rb1e/-step-0-to-step-1600.mp4\n",
            "\n"
          ]
        },
        {
          "output_type": "stream",
          "name": "stderr",
          "text": [
            "                                                  "
          ]
        },
        {
          "output_type": "stream",
          "name": "stdout",
          "text": [
            "Moviepy - Done !\n",
            "Moviepy - video ready /tmp/tmpo060rb1e/-step-0-to-step-1600.mp4\n"
          ]
        },
        {
          "output_type": "stream",
          "name": "stderr",
          "text": [
            "\r"
          ]
        },
        {
          "output_type": "stream",
          "name": "stdout",
          "text": [
            "Moviepy - Building video /tmp/tmpo060rb1e/-step-0-to-step-1600.mp4.\n",
            "Moviepy - Writing video /tmp/tmpo060rb1e/-step-0-to-step-1600.mp4\n",
            "\n"
          ]
        },
        {
          "output_type": "stream",
          "name": "stderr",
          "text": []
        },
        {
          "output_type": "stream",
          "name": "stdout",
          "text": [
            "Moviepy - Done !\n",
            "Moviepy - video ready /tmp/tmpo060rb1e/-step-0-to-step-1600.mp4\n",
            "Video saved to: best_replay_ep425000_dist42.67.mp4\n",
            "\n",
            "Best video updated and saved as: best_replay_ep425000_dist42.67.mp4\n",
            "\n",
            "Episode 430000: Distance traveled = 67.27\n",
            "New best model, distance: 67.27\n",
            "\n",
            "Moviepy - Building video /tmp/tmpo2k62jkh/-step-0-to-step-1600.mp4.\n",
            "Moviepy - Writing video /tmp/tmpo2k62jkh/-step-0-to-step-1600.mp4\n",
            "\n"
          ]
        },
        {
          "output_type": "stream",
          "name": "stderr",
          "text": [
            "                                                  "
          ]
        },
        {
          "output_type": "stream",
          "name": "stdout",
          "text": [
            "Moviepy - Done !\n",
            "Moviepy - video ready /tmp/tmpo2k62jkh/-step-0-to-step-1600.mp4\n"
          ]
        },
        {
          "output_type": "stream",
          "name": "stderr",
          "text": [
            "\r"
          ]
        },
        {
          "output_type": "stream",
          "name": "stdout",
          "text": [
            "Moviepy - Building video /tmp/tmpo2k62jkh/-step-0-to-step-1600.mp4.\n",
            "Moviepy - Writing video /tmp/tmpo2k62jkh/-step-0-to-step-1600.mp4\n",
            "\n"
          ]
        },
        {
          "output_type": "stream",
          "name": "stderr",
          "text": []
        },
        {
          "output_type": "stream",
          "name": "stdout",
          "text": [
            "Moviepy - Done !\n",
            "Moviepy - video ready /tmp/tmpo2k62jkh/-step-0-to-step-1600.mp4\n",
            "Video saved to: best_replay_ep430000_dist67.27.mp4\n",
            "\n",
            "Best video updated and saved as: best_replay_ep430000_dist67.27.mp4\n",
            "\n",
            "Episode 435000: Distance traveled = 12.37\n",
            "Episode 440000: Distance traveled = 3.88\n",
            "Episode 445000: Distance traveled = 43.64\n",
            "Episode 450000: Distance traveled = 1.81\n",
            "Episode 455000: Distance traveled = 1.62\n",
            "Episode 460000: Distance traveled = 1.50\n",
            "Episode 465000: Distance traveled = 1.60\n",
            "Episode 470000: Distance traveled = 1.63\n",
            "Episode 475000: Distance traveled = 2.40\n",
            "Episode 480000: Distance traveled = 1.93\n",
            "Episode 485000: Distance traveled = 4.88\n",
            "Episode 490000: Distance traveled = 6.92\n",
            "Episode 495000: Distance traveled = 5.56\n",
            "Episode 500000: Distance traveled = 0.81\n",
            "Episode 505000: Distance traveled = 0.30\n",
            "Moviepy - Building video /tmp/tmpub3ljfzb/-step-0-to-step-1600.mp4.\n",
            "Moviepy - Writing video /tmp/tmpub3ljfzb/-step-0-to-step-1600.mp4\n",
            "\n"
          ]
        },
        {
          "output_type": "stream",
          "name": "stderr",
          "text": [
            "                                                  "
          ]
        },
        {
          "output_type": "stream",
          "name": "stdout",
          "text": [
            "Moviepy - Done !\n",
            "Moviepy - video ready /tmp/tmpub3ljfzb/-step-0-to-step-1600.mp4\n"
          ]
        },
        {
          "output_type": "stream",
          "name": "stderr",
          "text": [
            "\r"
          ]
        },
        {
          "output_type": "stream",
          "name": "stdout",
          "text": [
            "Moviepy - Building video /tmp/tmpub3ljfzb/-step-0-to-step-1600.mp4.\n",
            "Moviepy - Writing video /tmp/tmpub3ljfzb/-step-0-to-step-1600.mp4\n",
            "\n"
          ]
        },
        {
          "output_type": "stream",
          "name": "stderr",
          "text": []
        },
        {
          "output_type": "stream",
          "name": "stdout",
          "text": [
            "Moviepy - Done !\n",
            "Moviepy - video ready /tmp/tmpub3ljfzb/-step-0-to-step-1600.mp4\n",
            "Video saved to: replay_ep505000_dist0.30.mp4\n",
            "\n",
            "Video updated and saved as: replay_ep505000_dist0.30.mp4\n",
            "\n",
            "Episode 510000: Distance traveled = 1.02\n",
            "Episode 515000: Distance traveled = 1.66\n",
            "Episode 520000: Distance traveled = 5.84\n",
            "Episode 525000: Distance traveled = 6.03\n",
            "Episode 530000: Distance traveled = 3.22\n",
            "Episode 535000: Distance traveled = 10.00\n",
            "Episode 540000: Distance traveled = 26.93\n",
            "Episode 545000: Distance traveled = 8.57\n",
            "Episode 550000: Distance traveled = 7.12\n",
            "Episode 555000: Distance traveled = 5.87\n",
            "Episode 560000: Distance traveled = 5.14\n",
            "Episode 565000: Distance traveled = 5.56\n",
            "Episode 570000: Distance traveled = 6.58\n",
            "Episode 575000: Distance traveled = -0.01\n",
            "Episode 580000: Distance traveled = 3.16\n",
            "Episode 585000: Distance traveled = 4.85\n",
            "Episode 590000: Distance traveled = 8.97\n",
            "Episode 595000: Distance traveled = 9.15\n",
            "Episode 600000: Distance traveled = 8.05\n",
            "Episode 605000: Distance traveled = 7.52\n",
            "Moviepy - Building video /tmp/tmpgx2tobdv/-step-0-to-step-1600.mp4.\n",
            "Moviepy - Writing video /tmp/tmpgx2tobdv/-step-0-to-step-1600.mp4\n",
            "\n"
          ]
        },
        {
          "output_type": "stream",
          "name": "stderr",
          "text": [
            "                                                  "
          ]
        },
        {
          "output_type": "stream",
          "name": "stdout",
          "text": [
            "Moviepy - Done !\n",
            "Moviepy - video ready /tmp/tmpgx2tobdv/-step-0-to-step-1600.mp4\n"
          ]
        },
        {
          "output_type": "stream",
          "name": "stderr",
          "text": [
            "\r"
          ]
        },
        {
          "output_type": "stream",
          "name": "stdout",
          "text": [
            "Moviepy - Building video /tmp/tmpgx2tobdv/-step-0-to-step-1600.mp4.\n",
            "Moviepy - Writing video /tmp/tmpgx2tobdv/-step-0-to-step-1600.mp4\n",
            "\n"
          ]
        },
        {
          "output_type": "stream",
          "name": "stderr",
          "text": []
        },
        {
          "output_type": "stream",
          "name": "stdout",
          "text": [
            "Moviepy - Done !\n",
            "Moviepy - video ready /tmp/tmpgx2tobdv/-step-0-to-step-1600.mp4\n",
            "Video saved to: replay_ep605000_dist7.52.mp4\n",
            "\n",
            "Video updated and saved as: replay_ep605000_dist7.52.mp4\n",
            "\n",
            "Episode 610000: Distance traveled = 8.50\n",
            "Episode 615000: Distance traveled = 21.00\n",
            "Episode 620000: Distance traveled = 3.13\n",
            "Episode 625000: Distance traveled = 1.21\n",
            "Episode 630000: Distance traveled = 3.71\n",
            "Episode 635000: Distance traveled = 8.30\n",
            "Episode 640000: Distance traveled = 13.28\n",
            "Episode 645000: Distance traveled = 34.14\n",
            "Episode 650000: Distance traveled = 18.60\n",
            "Episode 655000: Distance traveled = 3.46\n",
            "Episode 660000: Distance traveled = 2.58\n",
            "Episode 665000: Distance traveled = 9.89\n",
            "Episode 670000: Distance traveled = 6.24\n",
            "Episode 675000: Distance traveled = 16.37\n",
            "Episode 680000: Distance traveled = 2.53\n",
            "Episode 685000: Distance traveled = 1.44\n",
            "Episode 690000: Distance traveled = 2.67\n",
            "Episode 695000: Distance traveled = 7.80\n",
            "Episode 700000: Distance traveled = 21.07\n",
            "Episode 705000: Distance traveled = 1.91\n",
            "Moviepy - Building video /tmp/tmpx54i_i8m/-step-0-to-step-1600.mp4.\n",
            "Moviepy - Writing video /tmp/tmpx54i_i8m/-step-0-to-step-1600.mp4\n",
            "\n"
          ]
        },
        {
          "output_type": "stream",
          "name": "stderr",
          "text": [
            "                                                  "
          ]
        },
        {
          "output_type": "stream",
          "name": "stdout",
          "text": [
            "Moviepy - Done !\n",
            "Moviepy - video ready /tmp/tmpx54i_i8m/-step-0-to-step-1600.mp4\n"
          ]
        },
        {
          "output_type": "stream",
          "name": "stderr",
          "text": [
            "\r"
          ]
        },
        {
          "output_type": "stream",
          "name": "stdout",
          "text": [
            "Moviepy - Building video /tmp/tmpx54i_i8m/-step-0-to-step-1600.mp4.\n",
            "Moviepy - Writing video /tmp/tmpx54i_i8m/-step-0-to-step-1600.mp4\n",
            "\n"
          ]
        },
        {
          "output_type": "stream",
          "name": "stderr",
          "text": []
        },
        {
          "output_type": "stream",
          "name": "stdout",
          "text": [
            "Moviepy - Done !\n",
            "Moviepy - video ready /tmp/tmpx54i_i8m/-step-0-to-step-1600.mp4\n",
            "Video saved to: replay_ep705000_dist1.91.mp4\n",
            "\n",
            "Video updated and saved as: replay_ep705000_dist1.91.mp4\n",
            "\n",
            "Episode 710000: Distance traveled = 3.43\n",
            "Episode 715000: Distance traveled = 3.41\n",
            "Episode 720000: Distance traveled = 2.40\n",
            "Episode 725000: Distance traveled = 2.90\n",
            "Episode 730000: Distance traveled = 4.16\n",
            "Episode 735000: Distance traveled = 3.36\n",
            "Episode 740000: Distance traveled = 11.24\n",
            "Episode 745000: Distance traveled = 3.16\n",
            "Episode 750000: Distance traveled = 3.79\n",
            "Episode 755000: Distance traveled = 10.77\n",
            "Episode 760000: Distance traveled = 3.25\n",
            "Episode 765000: Distance traveled = 3.50\n",
            "Episode 770000: Distance traveled = 2.44\n",
            "Episode 775000: Distance traveled = 8.16\n",
            "Episode 780000: Distance traveled = 1.67\n",
            "Episode 785000: Distance traveled = -0.71\n",
            "Episode 790000: Distance traveled = 2.60\n",
            "Episode 795000: Distance traveled = 9.34\n",
            "Episode 800000: Distance traveled = 1.19\n",
            "Episode 805000: Distance traveled = 17.24\n",
            "Moviepy - Building video /tmp/tmp8agtuy5_/-step-0-to-step-1600.mp4.\n",
            "Moviepy - Writing video /tmp/tmp8agtuy5_/-step-0-to-step-1600.mp4\n",
            "\n"
          ]
        },
        {
          "output_type": "stream",
          "name": "stderr",
          "text": [
            "                                                  "
          ]
        },
        {
          "output_type": "stream",
          "name": "stdout",
          "text": [
            "Moviepy - Done !\n",
            "Moviepy - video ready /tmp/tmp8agtuy5_/-step-0-to-step-1600.mp4\n"
          ]
        },
        {
          "output_type": "stream",
          "name": "stderr",
          "text": [
            "\r"
          ]
        },
        {
          "output_type": "stream",
          "name": "stdout",
          "text": [
            "Moviepy - Building video /tmp/tmp8agtuy5_/-step-0-to-step-1600.mp4.\n",
            "Moviepy - Writing video /tmp/tmp8agtuy5_/-step-0-to-step-1600.mp4\n",
            "\n"
          ]
        },
        {
          "output_type": "stream",
          "name": "stderr",
          "text": []
        },
        {
          "output_type": "stream",
          "name": "stdout",
          "text": [
            "Moviepy - Done !\n",
            "Moviepy - video ready /tmp/tmp8agtuy5_/-step-0-to-step-1600.mp4\n",
            "Video saved to: replay_ep805000_dist17.24.mp4\n",
            "\n",
            "Video updated and saved as: replay_ep805000_dist17.24.mp4\n",
            "\n",
            "Episode 810000: Distance traveled = 11.45\n",
            "Episode 815000: Distance traveled = 30.16\n",
            "Episode 820000: Distance traveled = 41.75\n",
            "Episode 825000: Distance traveled = 2.24\n",
            "Episode 830000: Distance traveled = 11.28\n",
            "Episode 835000: Distance traveled = 16.26\n",
            "Episode 840000: Distance traveled = 6.68\n",
            "Episode 845000: Distance traveled = 28.80\n",
            "Episode 850000: Distance traveled = 84.05\n",
            "Moviepy - Building video /tmp/tmpngk3niud/-step-0-to-step-1600.mp4.\n",
            "Moviepy - Writing video /tmp/tmpngk3niud/-step-0-to-step-1600.mp4\n",
            "\n"
          ]
        },
        {
          "output_type": "stream",
          "name": "stderr",
          "text": [
            "                                                  "
          ]
        },
        {
          "output_type": "stream",
          "name": "stdout",
          "text": [
            "Moviepy - Done !\n",
            "Moviepy - video ready /tmp/tmpngk3niud/-step-0-to-step-1600.mp4\n"
          ]
        },
        {
          "output_type": "stream",
          "name": "stderr",
          "text": [
            "\r"
          ]
        },
        {
          "output_type": "stream",
          "name": "stdout",
          "text": [
            "Moviepy - Building video /tmp/tmpngk3niud/-step-0-to-step-1600.mp4.\n",
            "Moviepy - Writing video /tmp/tmpngk3niud/-step-0-to-step-1600.mp4\n",
            "\n"
          ]
        },
        {
          "output_type": "stream",
          "name": "stderr",
          "text": []
        },
        {
          "output_type": "stream",
          "name": "stdout",
          "text": [
            "Moviepy - Done !\n",
            "Moviepy - video ready /tmp/tmpngk3niud/-step-0-to-step-1600.mp4\n",
            "Video saved to: replay_ep850000_dist84.05.mp4\n",
            "\n",
            "Video updated and saved as: replay_ep850000_dist84.05.mp4\n",
            "\n",
            "New best model, distance: 84.05\n",
            "\n",
            "Moviepy - Building video /tmp/tmp_roqd5me/-step-0-to-step-1600.mp4.\n",
            "Moviepy - Writing video /tmp/tmp_roqd5me/-step-0-to-step-1600.mp4\n",
            "\n"
          ]
        },
        {
          "output_type": "stream",
          "name": "stderr",
          "text": [
            "                                                  "
          ]
        },
        {
          "output_type": "stream",
          "name": "stdout",
          "text": [
            "Moviepy - Done !\n",
            "Moviepy - video ready /tmp/tmp_roqd5me/-step-0-to-step-1600.mp4\n"
          ]
        },
        {
          "output_type": "stream",
          "name": "stderr",
          "text": [
            "\r"
          ]
        },
        {
          "output_type": "stream",
          "name": "stdout",
          "text": [
            "Moviepy - Building video /tmp/tmp_roqd5me/-step-0-to-step-1600.mp4.\n",
            "Moviepy - Writing video /tmp/tmp_roqd5me/-step-0-to-step-1600.mp4\n",
            "\n"
          ]
        },
        {
          "output_type": "stream",
          "name": "stderr",
          "text": []
        },
        {
          "output_type": "stream",
          "name": "stdout",
          "text": [
            "Moviepy - Done !\n",
            "Moviepy - video ready /tmp/tmp_roqd5me/-step-0-to-step-1600.mp4\n",
            "Video saved to: best_replay_ep850000_dist84.05.mp4\n",
            "\n",
            "Best video updated and saved as: best_replay_ep850000_dist84.05.mp4\n",
            "\n",
            "Episode 855000: Distance traveled = 32.77\n",
            "Episode 860000: Distance traveled = 6.18\n",
            "Episode 865000: Distance traveled = 44.27\n",
            "Episode 870000: Distance traveled = 39.84\n",
            "Episode 875000: Distance traveled = 27.41\n",
            "Episode 880000: Distance traveled = 6.61\n",
            "Episode 885000: Distance traveled = 5.82\n",
            "Episode 890000: Distance traveled = 40.95\n",
            "Episode 895000: Distance traveled = 30.57\n",
            "Episode 900000: Distance traveled = 0.38\n",
            "Episode 905000: Distance traveled = 79.23\n",
            "Moviepy - Building video /tmp/tmp9b1ui06w/-step-0-to-step-1600.mp4.\n",
            "Moviepy - Writing video /tmp/tmp9b1ui06w/-step-0-to-step-1600.mp4\n",
            "\n"
          ]
        },
        {
          "output_type": "stream",
          "name": "stderr",
          "text": [
            "                                                  "
          ]
        },
        {
          "output_type": "stream",
          "name": "stdout",
          "text": [
            "Moviepy - Done !\n",
            "Moviepy - video ready /tmp/tmp9b1ui06w/-step-0-to-step-1600.mp4\n"
          ]
        },
        {
          "output_type": "stream",
          "name": "stderr",
          "text": [
            "\r"
          ]
        },
        {
          "output_type": "stream",
          "name": "stdout",
          "text": [
            "Moviepy - Building video /tmp/tmp9b1ui06w/-step-0-to-step-1600.mp4.\n",
            "Moviepy - Writing video /tmp/tmp9b1ui06w/-step-0-to-step-1600.mp4\n",
            "\n"
          ]
        },
        {
          "output_type": "stream",
          "name": "stderr",
          "text": []
        },
        {
          "output_type": "stream",
          "name": "stdout",
          "text": [
            "Moviepy - Done !\n",
            "Moviepy - video ready /tmp/tmp9b1ui06w/-step-0-to-step-1600.mp4\n",
            "Video saved to: replay_ep905000_dist79.23.mp4\n",
            "\n",
            "Video updated and saved as: replay_ep905000_dist79.23.mp4\n",
            "\n",
            "Episode 910000: Distance traveled = 21.00\n",
            "Episode 915000: Distance traveled = 52.81\n",
            "Episode 920000: Distance traveled = 32.74\n",
            "Episode 925000: Distance traveled = 4.90\n",
            "Episode 930000: Distance traveled = 6.35\n",
            "Episode 935000: Distance traveled = 1.64\n",
            "Episode 940000: Distance traveled = 1.66\n",
            "Episode 945000: Distance traveled = 1.70\n",
            "Episode 950000: Distance traveled = 84.07\n",
            "Moviepy - Building video /tmp/tmp90lxhf52/-step-0-to-step-1600.mp4.\n",
            "Moviepy - Writing video /tmp/tmp90lxhf52/-step-0-to-step-1600.mp4\n",
            "\n"
          ]
        },
        {
          "output_type": "stream",
          "name": "stderr",
          "text": [
            "                                                  "
          ]
        },
        {
          "output_type": "stream",
          "name": "stdout",
          "text": [
            "Moviepy - Done !\n",
            "Moviepy - video ready /tmp/tmp90lxhf52/-step-0-to-step-1600.mp4\n"
          ]
        },
        {
          "output_type": "stream",
          "name": "stderr",
          "text": [
            "\r"
          ]
        },
        {
          "output_type": "stream",
          "name": "stdout",
          "text": [
            "Moviepy - Building video /tmp/tmp90lxhf52/-step-0-to-step-1600.mp4.\n",
            "Moviepy - Writing video /tmp/tmp90lxhf52/-step-0-to-step-1600.mp4\n",
            "\n"
          ]
        },
        {
          "output_type": "stream",
          "name": "stderr",
          "text": []
        },
        {
          "output_type": "stream",
          "name": "stdout",
          "text": [
            "Moviepy - Done !\n",
            "Moviepy - video ready /tmp/tmp90lxhf52/-step-0-to-step-1600.mp4\n",
            "Video saved to: replay_ep950000_dist84.07.mp4\n",
            "\n",
            "Video updated and saved as: replay_ep950000_dist84.07.mp4\n",
            "\n",
            "New best model, distance: 84.07\n",
            "\n",
            "Moviepy - Building video /tmp/tmp30zlt2uc/-step-0-to-step-1600.mp4.\n",
            "Moviepy - Writing video /tmp/tmp30zlt2uc/-step-0-to-step-1600.mp4\n",
            "\n"
          ]
        },
        {
          "output_type": "stream",
          "name": "stderr",
          "text": [
            "                                                  "
          ]
        },
        {
          "output_type": "stream",
          "name": "stdout",
          "text": [
            "Moviepy - Done !\n",
            "Moviepy - video ready /tmp/tmp30zlt2uc/-step-0-to-step-1600.mp4\n"
          ]
        },
        {
          "output_type": "stream",
          "name": "stderr",
          "text": [
            "\r"
          ]
        },
        {
          "output_type": "stream",
          "name": "stdout",
          "text": [
            "Moviepy - Building video /tmp/tmp30zlt2uc/-step-0-to-step-1600.mp4.\n",
            "Moviepy - Writing video /tmp/tmp30zlt2uc/-step-0-to-step-1600.mp4\n",
            "\n"
          ]
        },
        {
          "output_type": "stream",
          "name": "stderr",
          "text": []
        },
        {
          "output_type": "stream",
          "name": "stdout",
          "text": [
            "Moviepy - Done !\n",
            "Moviepy - video ready /tmp/tmp30zlt2uc/-step-0-to-step-1600.mp4\n",
            "Video saved to: best_replay_ep950000_dist84.07.mp4\n",
            "\n",
            "Best video updated and saved as: best_replay_ep950000_dist84.07.mp4\n",
            "\n",
            "Episode 955000: Distance traveled = 10.63\n",
            "Episode 960000: Distance traveled = 5.84\n",
            "Episode 965000: Distance traveled = 14.51\n",
            "Episode 970000: Distance traveled = 51.08\n",
            "Episode 975000: Distance traveled = 38.64\n",
            "Episode 980000: Distance traveled = 55.02\n",
            "Episode 985000: Distance traveled = 52.81\n",
            "Episode 990000: Distance traveled = 44.02\n",
            "Episode 995000: Distance traveled = 84.03\n",
            "Moviepy - Building video /tmp/tmpr_bihg_s/-step-0-to-step-1600.mp4.\n",
            "Moviepy - Writing video /tmp/tmpr_bihg_s/-step-0-to-step-1600.mp4\n",
            "\n"
          ]
        },
        {
          "output_type": "stream",
          "name": "stderr",
          "text": [
            "                                                  "
          ]
        },
        {
          "output_type": "stream",
          "name": "stdout",
          "text": [
            "Moviepy - Done !\n",
            "Moviepy - video ready /tmp/tmpr_bihg_s/-step-0-to-step-1600.mp4\n"
          ]
        },
        {
          "output_type": "stream",
          "name": "stderr",
          "text": [
            "\r"
          ]
        },
        {
          "output_type": "stream",
          "name": "stdout",
          "text": [
            "Moviepy - Building video /tmp/tmpr_bihg_s/-step-0-to-step-1600.mp4.\n",
            "Moviepy - Writing video /tmp/tmpr_bihg_s/-step-0-to-step-1600.mp4\n",
            "\n"
          ]
        },
        {
          "output_type": "stream",
          "name": "stderr",
          "text": []
        },
        {
          "output_type": "stream",
          "name": "stdout",
          "text": [
            "Moviepy - Done !\n",
            "Moviepy - video ready /tmp/tmpr_bihg_s/-step-0-to-step-1600.mp4\n",
            "Video saved to: replay_ep995000_dist84.03.mp4\n",
            "\n",
            "Video updated and saved as: replay_ep995000_dist84.03.mp4\n",
            "\n",
            "Episode 1000000: Distance traveled = 1.86\n",
            "Episode 1005000: Distance traveled = 22.83\n",
            "Moviepy - Building video /tmp/tmpe509zcdj/-step-0-to-step-1600.mp4.\n",
            "Moviepy - Writing video /tmp/tmpe509zcdj/-step-0-to-step-1600.mp4\n",
            "\n"
          ]
        },
        {
          "output_type": "stream",
          "name": "stderr",
          "text": [
            "                                                  "
          ]
        },
        {
          "output_type": "stream",
          "name": "stdout",
          "text": [
            "Moviepy - Done !\n",
            "Moviepy - video ready /tmp/tmpe509zcdj/-step-0-to-step-1600.mp4\n"
          ]
        },
        {
          "output_type": "stream",
          "name": "stderr",
          "text": [
            "\r"
          ]
        },
        {
          "output_type": "stream",
          "name": "stdout",
          "text": [
            "Moviepy - Building video /tmp/tmpe509zcdj/-step-0-to-step-1600.mp4.\n",
            "Moviepy - Writing video /tmp/tmpe509zcdj/-step-0-to-step-1600.mp4\n",
            "\n"
          ]
        },
        {
          "output_type": "stream",
          "name": "stderr",
          "text": []
        },
        {
          "output_type": "stream",
          "name": "stdout",
          "text": [
            "Moviepy - Done !\n",
            "Moviepy - video ready /tmp/tmpe509zcdj/-step-0-to-step-1600.mp4\n",
            "Video saved to: replay_ep1005000_dist22.83.mp4\n",
            "\n",
            "Video updated and saved as: replay_ep1005000_dist22.83.mp4\n",
            "\n",
            "Episode 1010000: Distance traveled = 6.22\n",
            "Episode 1015000: Distance traveled = 55.15\n",
            "Episode 1020000: Distance traveled = 23.11\n",
            "Episode 1025000: Distance traveled = 5.28\n",
            "Episode 1030000: Distance traveled = 44.52\n",
            "Episode 1035000: Distance traveled = 38.90\n",
            "Episode 1040000: Distance traveled = 54.85\n",
            "Episode 1045000: Distance traveled = 4.71\n",
            "Episode 1050000: Distance traveled = 42.53\n",
            "Episode 1055000: Distance traveled = 10.86\n",
            "Episode 1060000: Distance traveled = 7.09\n",
            "Episode 1065000: Distance traveled = 9.49\n",
            "Episode 1070000: Distance traveled = 53.24\n",
            "Episode 1075000: Distance traveled = 22.42\n",
            "Episode 1080000: Distance traveled = 84.02\n",
            "Moviepy - Building video /tmp/tmp7u1r8xpg/-step-0-to-step-1600.mp4.\n",
            "Moviepy - Writing video /tmp/tmp7u1r8xpg/-step-0-to-step-1600.mp4\n",
            "\n"
          ]
        },
        {
          "output_type": "stream",
          "name": "stderr",
          "text": [
            "                                                  "
          ]
        },
        {
          "output_type": "stream",
          "name": "stdout",
          "text": [
            "Moviepy - Done !\n",
            "Moviepy - video ready /tmp/tmp7u1r8xpg/-step-0-to-step-1600.mp4\n"
          ]
        },
        {
          "output_type": "stream",
          "name": "stderr",
          "text": [
            "\r"
          ]
        },
        {
          "output_type": "stream",
          "name": "stdout",
          "text": [
            "Moviepy - Building video /tmp/tmp7u1r8xpg/-step-0-to-step-1600.mp4.\n",
            "Moviepy - Writing video /tmp/tmp7u1r8xpg/-step-0-to-step-1600.mp4\n",
            "\n"
          ]
        },
        {
          "output_type": "stream",
          "name": "stderr",
          "text": []
        },
        {
          "output_type": "stream",
          "name": "stdout",
          "text": [
            "Moviepy - Done !\n",
            "Moviepy - video ready /tmp/tmp7u1r8xpg/-step-0-to-step-1600.mp4\n",
            "Video saved to: replay_ep1080000_dist84.02.mp4\n",
            "\n",
            "Video updated and saved as: replay_ep1080000_dist84.02.mp4\n",
            "\n",
            "Episode 1085000: Distance traveled = 12.89\n",
            "Episode 1090000: Distance traveled = 9.33\n",
            "Episode 1095000: Distance traveled = 10.61\n",
            "Episode 1100000: Distance traveled = 52.19\n",
            "Episode 1105000: Distance traveled = 5.62\n",
            "Moviepy - Building video /tmp/tmpozqsgrar/-step-0-to-step-1600.mp4.\n",
            "Moviepy - Writing video /tmp/tmpozqsgrar/-step-0-to-step-1600.mp4\n",
            "\n"
          ]
        },
        {
          "output_type": "stream",
          "name": "stderr",
          "text": [
            "                                                  "
          ]
        },
        {
          "output_type": "stream",
          "name": "stdout",
          "text": [
            "Moviepy - Done !\n",
            "Moviepy - video ready /tmp/tmpozqsgrar/-step-0-to-step-1600.mp4\n"
          ]
        },
        {
          "output_type": "stream",
          "name": "stderr",
          "text": [
            "\r"
          ]
        },
        {
          "output_type": "stream",
          "name": "stdout",
          "text": [
            "Moviepy - Building video /tmp/tmpozqsgrar/-step-0-to-step-1600.mp4.\n",
            "Moviepy - Writing video /tmp/tmpozqsgrar/-step-0-to-step-1600.mp4\n",
            "\n"
          ]
        },
        {
          "output_type": "stream",
          "name": "stderr",
          "text": []
        },
        {
          "output_type": "stream",
          "name": "stdout",
          "text": [
            "Moviepy - Done !\n",
            "Moviepy - video ready /tmp/tmpozqsgrar/-step-0-to-step-1600.mp4\n",
            "Video saved to: replay_ep1105000_dist5.62.mp4\n",
            "\n",
            "Video updated and saved as: replay_ep1105000_dist5.62.mp4\n",
            "\n",
            "Episode 1110000: Distance traveled = 15.95\n",
            "Episode 1115000: Distance traveled = 14.12\n",
            "Episode 1120000: Distance traveled = 18.32\n",
            "Episode 1125000: Distance traveled = 2.59\n",
            "Episode 1130000: Distance traveled = 57.19\n",
            "Episode 1135000: Distance traveled = 17.51\n",
            "Episode 1140000: Distance traveled = 7.99\n",
            "Episode 1145000: Distance traveled = 58.27\n",
            "Episode 1150000: Distance traveled = 19.81\n",
            "Episode 1155000: Distance traveled = 79.07\n",
            "Episode 1160000: Distance traveled = 84.07\n",
            "Moviepy - Building video /tmp/tmp2rob9jkj/-step-0-to-step-1600.mp4.\n",
            "Moviepy - Writing video /tmp/tmp2rob9jkj/-step-0-to-step-1600.mp4\n",
            "\n"
          ]
        },
        {
          "output_type": "stream",
          "name": "stderr",
          "text": [
            "                                                  "
          ]
        },
        {
          "output_type": "stream",
          "name": "stdout",
          "text": [
            "Moviepy - Done !\n",
            "Moviepy - video ready /tmp/tmp2rob9jkj/-step-0-to-step-1600.mp4\n"
          ]
        },
        {
          "output_type": "stream",
          "name": "stderr",
          "text": [
            "\r"
          ]
        },
        {
          "output_type": "stream",
          "name": "stdout",
          "text": [
            "Moviepy - Building video /tmp/tmp2rob9jkj/-step-0-to-step-1600.mp4.\n",
            "Moviepy - Writing video /tmp/tmp2rob9jkj/-step-0-to-step-1600.mp4\n",
            "\n"
          ]
        },
        {
          "output_type": "stream",
          "name": "stderr",
          "text": []
        },
        {
          "output_type": "stream",
          "name": "stdout",
          "text": [
            "Moviepy - Done !\n",
            "Moviepy - video ready /tmp/tmp2rob9jkj/-step-0-to-step-1600.mp4\n",
            "Video saved to: replay_ep1160000_dist84.07.mp4\n",
            "\n",
            "Video updated and saved as: replay_ep1160000_dist84.07.mp4\n",
            "\n",
            "Episode 1165000: Distance traveled = 84.05\n",
            "Moviepy - Building video /tmp/tmpppnmts6k/-step-0-to-step-1600.mp4.\n",
            "Moviepy - Writing video /tmp/tmpppnmts6k/-step-0-to-step-1600.mp4\n",
            "\n"
          ]
        },
        {
          "output_type": "stream",
          "name": "stderr",
          "text": [
            "                                                  "
          ]
        },
        {
          "output_type": "stream",
          "name": "stdout",
          "text": [
            "Moviepy - Done !\n",
            "Moviepy - video ready /tmp/tmpppnmts6k/-step-0-to-step-1600.mp4\n"
          ]
        },
        {
          "output_type": "stream",
          "name": "stderr",
          "text": [
            "\r"
          ]
        },
        {
          "output_type": "stream",
          "name": "stdout",
          "text": [
            "Moviepy - Building video /tmp/tmpppnmts6k/-step-0-to-step-1600.mp4.\n",
            "Moviepy - Writing video /tmp/tmpppnmts6k/-step-0-to-step-1600.mp4\n",
            "\n"
          ]
        },
        {
          "output_type": "stream",
          "name": "stderr",
          "text": []
        },
        {
          "output_type": "stream",
          "name": "stdout",
          "text": [
            "Moviepy - Done !\n",
            "Moviepy - video ready /tmp/tmpppnmts6k/-step-0-to-step-1600.mp4\n",
            "Video saved to: replay_ep1165000_dist84.05.mp4\n",
            "\n",
            "Video updated and saved as: replay_ep1165000_dist84.05.mp4\n",
            "\n",
            "Episode 1170000: Distance traveled = 3.40\n",
            "Episode 1175000: Distance traveled = 5.84\n",
            "Episode 1180000: Distance traveled = 84.03\n",
            "Moviepy - Building video /tmp/tmpztu3f_tv/-step-0-to-step-1600.mp4.\n",
            "Moviepy - Writing video /tmp/tmpztu3f_tv/-step-0-to-step-1600.mp4\n",
            "\n"
          ]
        },
        {
          "output_type": "stream",
          "name": "stderr",
          "text": [
            "                                                  "
          ]
        },
        {
          "output_type": "stream",
          "name": "stdout",
          "text": [
            "Moviepy - Done !\n",
            "Moviepy - video ready /tmp/tmpztu3f_tv/-step-0-to-step-1600.mp4\n"
          ]
        },
        {
          "output_type": "stream",
          "name": "stderr",
          "text": [
            "\r"
          ]
        },
        {
          "output_type": "stream",
          "name": "stdout",
          "text": [
            "Moviepy - Building video /tmp/tmpztu3f_tv/-step-0-to-step-1600.mp4.\n",
            "Moviepy - Writing video /tmp/tmpztu3f_tv/-step-0-to-step-1600.mp4\n",
            "\n"
          ]
        },
        {
          "output_type": "stream",
          "name": "stderr",
          "text": []
        },
        {
          "output_type": "stream",
          "name": "stdout",
          "text": [
            "Moviepy - Done !\n",
            "Moviepy - video ready /tmp/tmpztu3f_tv/-step-0-to-step-1600.mp4\n",
            "Video saved to: replay_ep1180000_dist84.03.mp4\n",
            "\n",
            "Video updated and saved as: replay_ep1180000_dist84.03.mp4\n",
            "\n",
            "Episode 1185000: Distance traveled = 3.86\n",
            "Episode 1190000: Distance traveled = 2.19\n",
            "Episode 1195000: Distance traveled = 2.77\n",
            "Episode 1200000: Distance traveled = 15.59\n",
            "Episode 1205000: Distance traveled = 5.74\n",
            "Moviepy - Building video /tmp/tmpv91126zx/-step-0-to-step-1600.mp4.\n",
            "Moviepy - Writing video /tmp/tmpv91126zx/-step-0-to-step-1600.mp4\n",
            "\n"
          ]
        },
        {
          "output_type": "stream",
          "name": "stderr",
          "text": [
            "                                                  "
          ]
        },
        {
          "output_type": "stream",
          "name": "stdout",
          "text": [
            "Moviepy - Done !\n",
            "Moviepy - video ready /tmp/tmpv91126zx/-step-0-to-step-1600.mp4\n"
          ]
        },
        {
          "output_type": "stream",
          "name": "stderr",
          "text": [
            "\r"
          ]
        },
        {
          "output_type": "stream",
          "name": "stdout",
          "text": [
            "Moviepy - Building video /tmp/tmpv91126zx/-step-0-to-step-1600.mp4.\n",
            "Moviepy - Writing video /tmp/tmpv91126zx/-step-0-to-step-1600.mp4\n",
            "\n"
          ]
        },
        {
          "output_type": "stream",
          "name": "stderr",
          "text": []
        },
        {
          "output_type": "stream",
          "name": "stdout",
          "text": [
            "Moviepy - Done !\n",
            "Moviepy - video ready /tmp/tmpv91126zx/-step-0-to-step-1600.mp4\n",
            "Video saved to: replay_ep1205000_dist5.74.mp4\n",
            "\n",
            "Video updated and saved as: replay_ep1205000_dist5.74.mp4\n",
            "\n",
            "Episode 1210000: Distance traveled = 31.02\n",
            "Episode 1215000: Distance traveled = 24.63\n",
            "Episode 1220000: Distance traveled = 62.16\n",
            "Episode 1225000: Distance traveled = 5.96\n",
            "Episode 1230000: Distance traveled = 17.97\n",
            "Episode 1235000: Distance traveled = 8.78\n",
            "Episode 1240000: Distance traveled = 43.02\n",
            "Episode 1245000: Distance traveled = 84.03\n",
            "Moviepy - Building video /tmp/tmpomjychmi/-step-0-to-step-1600.mp4.\n",
            "Moviepy - Writing video /tmp/tmpomjychmi/-step-0-to-step-1600.mp4\n",
            "\n"
          ]
        },
        {
          "output_type": "stream",
          "name": "stderr",
          "text": [
            "                                                  "
          ]
        },
        {
          "output_type": "stream",
          "name": "stdout",
          "text": [
            "Moviepy - Done !\n",
            "Moviepy - video ready /tmp/tmpomjychmi/-step-0-to-step-1600.mp4\n"
          ]
        },
        {
          "output_type": "stream",
          "name": "stderr",
          "text": [
            "\r"
          ]
        },
        {
          "output_type": "stream",
          "name": "stdout",
          "text": [
            "Moviepy - Building video /tmp/tmpomjychmi/-step-0-to-step-1600.mp4.\n",
            "Moviepy - Writing video /tmp/tmpomjychmi/-step-0-to-step-1600.mp4\n",
            "\n"
          ]
        },
        {
          "output_type": "stream",
          "name": "stderr",
          "text": []
        },
        {
          "output_type": "stream",
          "name": "stdout",
          "text": [
            "Moviepy - Done !\n",
            "Moviepy - video ready /tmp/tmpomjychmi/-step-0-to-step-1600.mp4\n",
            "Video saved to: replay_ep1245000_dist84.03.mp4\n",
            "\n",
            "Video updated and saved as: replay_ep1245000_dist84.03.mp4\n",
            "\n",
            "Episode 1250000: Distance traveled = 51.80\n",
            "Episode 1255000: Distance traveled = 5.13\n",
            "Episode 1260000: Distance traveled = 2.90\n",
            "Episode 1265000: Distance traveled = 26.11\n",
            "Episode 1270000: Distance traveled = 84.01\n",
            "Moviepy - Building video /tmp/tmp31yevhp5/-step-0-to-step-1600.mp4.\n",
            "Moviepy - Writing video /tmp/tmp31yevhp5/-step-0-to-step-1600.mp4\n",
            "\n"
          ]
        },
        {
          "output_type": "stream",
          "name": "stderr",
          "text": [
            "                                                  "
          ]
        },
        {
          "output_type": "stream",
          "name": "stdout",
          "text": [
            "Moviepy - Done !\n",
            "Moviepy - video ready /tmp/tmp31yevhp5/-step-0-to-step-1600.mp4\n"
          ]
        },
        {
          "output_type": "stream",
          "name": "stderr",
          "text": [
            "\r"
          ]
        },
        {
          "output_type": "stream",
          "name": "stdout",
          "text": [
            "Moviepy - Building video /tmp/tmp31yevhp5/-step-0-to-step-1600.mp4.\n",
            "Moviepy - Writing video /tmp/tmp31yevhp5/-step-0-to-step-1600.mp4\n",
            "\n"
          ]
        },
        {
          "output_type": "stream",
          "name": "stderr",
          "text": []
        },
        {
          "output_type": "stream",
          "name": "stdout",
          "text": [
            "Moviepy - Done !\n",
            "Moviepy - video ready /tmp/tmp31yevhp5/-step-0-to-step-1600.mp4\n",
            "Video saved to: replay_ep1270000_dist84.01.mp4\n",
            "\n",
            "Video updated and saved as: replay_ep1270000_dist84.01.mp4\n",
            "\n",
            "Episode 1275000: Distance traveled = 8.49\n",
            "Episode 1280000: Distance traveled = 15.89\n",
            "Episode 1285000: Distance traveled = 84.08\n",
            "Moviepy - Building video /tmp/tmpa1d7gvmt/-step-0-to-step-1600.mp4.\n",
            "Moviepy - Writing video /tmp/tmpa1d7gvmt/-step-0-to-step-1600.mp4\n",
            "\n"
          ]
        },
        {
          "output_type": "stream",
          "name": "stderr",
          "text": [
            "                                                  "
          ]
        },
        {
          "output_type": "stream",
          "name": "stdout",
          "text": [
            "Moviepy - Done !\n",
            "Moviepy - video ready /tmp/tmpa1d7gvmt/-step-0-to-step-1600.mp4\n"
          ]
        },
        {
          "output_type": "stream",
          "name": "stderr",
          "text": [
            "\r"
          ]
        },
        {
          "output_type": "stream",
          "name": "stdout",
          "text": [
            "Moviepy - Building video /tmp/tmpa1d7gvmt/-step-0-to-step-1600.mp4.\n",
            "Moviepy - Writing video /tmp/tmpa1d7gvmt/-step-0-to-step-1600.mp4\n",
            "\n"
          ]
        },
        {
          "output_type": "stream",
          "name": "stderr",
          "text": []
        },
        {
          "output_type": "stream",
          "name": "stdout",
          "text": [
            "Moviepy - Done !\n",
            "Moviepy - video ready /tmp/tmpa1d7gvmt/-step-0-to-step-1600.mp4\n",
            "Video saved to: replay_ep1285000_dist84.08.mp4\n",
            "\n",
            "Video updated and saved as: replay_ep1285000_dist84.08.mp4\n",
            "\n",
            "New best model, distance: 84.08\n",
            "\n",
            "Moviepy - Building video /tmp/tmp00_500qi/-step-0-to-step-1600.mp4.\n",
            "Moviepy - Writing video /tmp/tmp00_500qi/-step-0-to-step-1600.mp4\n",
            "\n"
          ]
        },
        {
          "output_type": "stream",
          "name": "stderr",
          "text": [
            "                                                  "
          ]
        },
        {
          "output_type": "stream",
          "name": "stdout",
          "text": [
            "Moviepy - Done !\n",
            "Moviepy - video ready /tmp/tmp00_500qi/-step-0-to-step-1600.mp4\n"
          ]
        },
        {
          "output_type": "stream",
          "name": "stderr",
          "text": [
            "\r"
          ]
        },
        {
          "output_type": "stream",
          "name": "stdout",
          "text": [
            "Moviepy - Building video /tmp/tmp00_500qi/-step-0-to-step-1600.mp4.\n",
            "Moviepy - Writing video /tmp/tmp00_500qi/-step-0-to-step-1600.mp4\n",
            "\n"
          ]
        },
        {
          "output_type": "stream",
          "name": "stderr",
          "text": []
        },
        {
          "output_type": "stream",
          "name": "stdout",
          "text": [
            "Moviepy - Done !\n",
            "Moviepy - video ready /tmp/tmp00_500qi/-step-0-to-step-1600.mp4\n",
            "Video saved to: best_replay_ep1285000_dist84.08.mp4\n",
            "\n",
            "Best video updated and saved as: best_replay_ep1285000_dist84.08.mp4\n",
            "\n",
            "Episode 1290000: Distance traveled = 56.70\n",
            "Episode 1295000: Distance traveled = 17.91\n",
            "Episode 1300000: Distance traveled = 49.20\n",
            "Episode 1305000: Distance traveled = 35.18\n",
            "Moviepy - Building video /tmp/tmpnts7saog/-step-0-to-step-1600.mp4.\n",
            "Moviepy - Writing video /tmp/tmpnts7saog/-step-0-to-step-1600.mp4\n",
            "\n"
          ]
        },
        {
          "output_type": "stream",
          "name": "stderr",
          "text": [
            "                                                  "
          ]
        },
        {
          "output_type": "stream",
          "name": "stdout",
          "text": [
            "Moviepy - Done !\n",
            "Moviepy - video ready /tmp/tmpnts7saog/-step-0-to-step-1600.mp4\n"
          ]
        },
        {
          "output_type": "stream",
          "name": "stderr",
          "text": [
            "\r"
          ]
        },
        {
          "output_type": "stream",
          "name": "stdout",
          "text": [
            "Moviepy - Building video /tmp/tmpnts7saog/-step-0-to-step-1600.mp4.\n",
            "Moviepy - Writing video /tmp/tmpnts7saog/-step-0-to-step-1600.mp4\n",
            "\n"
          ]
        },
        {
          "output_type": "stream",
          "name": "stderr",
          "text": []
        },
        {
          "output_type": "stream",
          "name": "stdout",
          "text": [
            "Moviepy - Done !\n",
            "Moviepy - video ready /tmp/tmpnts7saog/-step-0-to-step-1600.mp4\n",
            "Video saved to: replay_ep1305000_dist35.18.mp4\n",
            "\n",
            "Video updated and saved as: replay_ep1305000_dist35.18.mp4\n",
            "\n",
            "Episode 1310000: Distance traveled = 37.79\n",
            "Episode 1315000: Distance traveled = 83.47\n",
            "Moviepy - Building video /tmp/tmpry2bzlyk/-step-0-to-step-1600.mp4.\n",
            "Moviepy - Writing video /tmp/tmpry2bzlyk/-step-0-to-step-1600.mp4\n",
            "\n"
          ]
        },
        {
          "output_type": "stream",
          "name": "stderr",
          "text": [
            "                                                  "
          ]
        },
        {
          "output_type": "stream",
          "name": "stdout",
          "text": [
            "Moviepy - Done !\n",
            "Moviepy - video ready /tmp/tmpry2bzlyk/-step-0-to-step-1600.mp4\n"
          ]
        },
        {
          "output_type": "stream",
          "name": "stderr",
          "text": [
            "\r"
          ]
        },
        {
          "output_type": "stream",
          "name": "stdout",
          "text": [
            "Moviepy - Building video /tmp/tmpry2bzlyk/-step-0-to-step-1600.mp4.\n",
            "Moviepy - Writing video /tmp/tmpry2bzlyk/-step-0-to-step-1600.mp4\n",
            "\n"
          ]
        },
        {
          "output_type": "stream",
          "name": "stderr",
          "text": []
        },
        {
          "output_type": "stream",
          "name": "stdout",
          "text": [
            "Moviepy - Done !\n",
            "Moviepy - video ready /tmp/tmpry2bzlyk/-step-0-to-step-1600.mp4\n",
            "Video saved to: replay_ep1315000_dist83.47.mp4\n",
            "\n",
            "Video updated and saved as: replay_ep1315000_dist83.47.mp4\n",
            "\n",
            "Episode 1320000: Distance traveled = 51.54\n",
            "Episode 1325000: Distance traveled = 14.94\n",
            "Episode 1330000: Distance traveled = 2.30\n",
            "Episode 1335000: Distance traveled = 1.48\n",
            "Episode 1340000: Distance traveled = -0.74\n",
            "Episode 1345000: Distance traveled = -0.49\n",
            "Episode 1350000: Distance traveled = 12.26\n",
            "Episode 1355000: Distance traveled = 84.03\n",
            "Moviepy - Building video /tmp/tmph9_dkvnr/-step-0-to-step-1600.mp4.\n",
            "Moviepy - Writing video /tmp/tmph9_dkvnr/-step-0-to-step-1600.mp4\n",
            "\n"
          ]
        },
        {
          "output_type": "stream",
          "name": "stderr",
          "text": [
            "                                                  "
          ]
        },
        {
          "output_type": "stream",
          "name": "stdout",
          "text": [
            "Moviepy - Done !\n",
            "Moviepy - video ready /tmp/tmph9_dkvnr/-step-0-to-step-1600.mp4\n"
          ]
        },
        {
          "output_type": "stream",
          "name": "stderr",
          "text": [
            "\r"
          ]
        },
        {
          "output_type": "stream",
          "name": "stdout",
          "text": [
            "Moviepy - Building video /tmp/tmph9_dkvnr/-step-0-to-step-1600.mp4.\n",
            "Moviepy - Writing video /tmp/tmph9_dkvnr/-step-0-to-step-1600.mp4\n",
            "\n"
          ]
        },
        {
          "output_type": "stream",
          "name": "stderr",
          "text": []
        },
        {
          "output_type": "stream",
          "name": "stdout",
          "text": [
            "Moviepy - Done !\n",
            "Moviepy - video ready /tmp/tmph9_dkvnr/-step-0-to-step-1600.mp4\n",
            "Video saved to: replay_ep1355000_dist84.03.mp4\n",
            "\n",
            "Video updated and saved as: replay_ep1355000_dist84.03.mp4\n",
            "\n",
            "Episode 1360000: Distance traveled = 1.08\n",
            "Episode 1365000: Distance traveled = 1.54\n",
            "Episode 1370000: Distance traveled = 1.14\n",
            "Episode 1375000: Distance traveled = 3.97\n",
            "Episode 1380000: Distance traveled = 25.16\n",
            "Episode 1385000: Distance traveled = 74.16\n",
            "Episode 1390000: Distance traveled = 3.87\n",
            "Episode 1395000: Distance traveled = 10.36\n",
            "Episode 1400000: Distance traveled = 56.87\n",
            "Episode 1405000: Distance traveled = 5.44\n",
            "Moviepy - Building video /tmp/tmpp07i65d7/-step-0-to-step-1600.mp4.\n",
            "Moviepy - Writing video /tmp/tmpp07i65d7/-step-0-to-step-1600.mp4\n",
            "\n"
          ]
        },
        {
          "output_type": "stream",
          "name": "stderr",
          "text": [
            "                                                  "
          ]
        },
        {
          "output_type": "stream",
          "name": "stdout",
          "text": [
            "Moviepy - Done !\n",
            "Moviepy - video ready /tmp/tmpp07i65d7/-step-0-to-step-1600.mp4\n"
          ]
        },
        {
          "output_type": "stream",
          "name": "stderr",
          "text": [
            "\r"
          ]
        },
        {
          "output_type": "stream",
          "name": "stdout",
          "text": [
            "Moviepy - Building video /tmp/tmpp07i65d7/-step-0-to-step-1600.mp4.\n",
            "Moviepy - Writing video /tmp/tmpp07i65d7/-step-0-to-step-1600.mp4\n",
            "\n"
          ]
        },
        {
          "output_type": "stream",
          "name": "stderr",
          "text": []
        },
        {
          "output_type": "stream",
          "name": "stdout",
          "text": [
            "Moviepy - Done !\n",
            "Moviepy - video ready /tmp/tmpp07i65d7/-step-0-to-step-1600.mp4\n",
            "Video saved to: replay_ep1405000_dist5.44.mp4\n",
            "\n",
            "Video updated and saved as: replay_ep1405000_dist5.44.mp4\n",
            "\n",
            "Episode 1410000: Distance traveled = 2.94\n",
            "Episode 1415000: Distance traveled = 51.96\n",
            "Episode 1420000: Distance traveled = 13.74\n",
            "Episode 1425000: Distance traveled = 3.52\n",
            "Episode 1430000: Distance traveled = 20.16\n",
            "Episode 1435000: Distance traveled = 19.21\n",
            "Episode 1440000: Distance traveled = 84.03\n",
            "Moviepy - Building video /tmp/tmp3swl5wf6/-step-0-to-step-1600.mp4.\n",
            "Moviepy - Writing video /tmp/tmp3swl5wf6/-step-0-to-step-1600.mp4\n",
            "\n"
          ]
        },
        {
          "output_type": "stream",
          "name": "stderr",
          "text": [
            "                                                  "
          ]
        },
        {
          "output_type": "stream",
          "name": "stdout",
          "text": [
            "Moviepy - Done !\n",
            "Moviepy - video ready /tmp/tmp3swl5wf6/-step-0-to-step-1600.mp4\n"
          ]
        },
        {
          "output_type": "stream",
          "name": "stderr",
          "text": [
            "\r"
          ]
        },
        {
          "output_type": "stream",
          "name": "stdout",
          "text": [
            "Saving video to /tmp/tmp3swl5wf6/-step-0-to-step-1600.mp4\n",
            "Moviepy - Building video /tmp/tmp3swl5wf6/-step-0-to-step-1600.mp4.\n",
            "Moviepy - Writing video /tmp/tmp3swl5wf6/-step-0-to-step-1600.mp4\n",
            "\n"
          ]
        },
        {
          "output_type": "stream",
          "name": "stderr",
          "text": []
        },
        {
          "output_type": "stream",
          "name": "stdout",
          "text": [
            "Moviepy - Done !\n",
            "Moviepy - video ready /tmp/tmp3swl5wf6/-step-0-to-step-1600.mp4\n",
            "Video saved to: replay_ep1440000_dist84.03.mp4\n",
            "\n",
            "Video updated and saved as: replay_ep1440000_dist84.03.mp4\n",
            "\n",
            "Episode 1445000: Distance traveled = 27.41\n",
            "Episode 1450000: Distance traveled = 84.06\n",
            "Moviepy - Building video /tmp/tmpsugi8vgf/-step-0-to-step-1600.mp4.\n",
            "Moviepy - Writing video /tmp/tmpsugi8vgf/-step-0-to-step-1600.mp4\n",
            "\n"
          ]
        },
        {
          "output_type": "stream",
          "name": "stderr",
          "text": [
            "                                                  "
          ]
        },
        {
          "output_type": "stream",
          "name": "stdout",
          "text": [
            "Moviepy - Done !\n",
            "Moviepy - video ready /tmp/tmpsugi8vgf/-step-0-to-step-1600.mp4\n"
          ]
        },
        {
          "output_type": "stream",
          "name": "stderr",
          "text": [
            "\r"
          ]
        },
        {
          "output_type": "stream",
          "name": "stdout",
          "text": [
            "Moviepy - Building video /tmp/tmpsugi8vgf/-step-0-to-step-1600.mp4.\n",
            "Moviepy - Writing video /tmp/tmpsugi8vgf/-step-0-to-step-1600.mp4\n",
            "\n"
          ]
        },
        {
          "output_type": "stream",
          "name": "stderr",
          "text": []
        },
        {
          "output_type": "stream",
          "name": "stdout",
          "text": [
            "Moviepy - Done !\n",
            "Moviepy - video ready /tmp/tmpsugi8vgf/-step-0-to-step-1600.mp4\n",
            "Video saved to: replay_ep1450000_dist84.06.mp4\n",
            "\n",
            "Video updated and saved as: replay_ep1450000_dist84.06.mp4\n",
            "\n",
            "Episode 1455000: Distance traveled = 3.58\n",
            "Episode 1460000: Distance traveled = 38.41\n",
            "Episode 1465000: Distance traveled = 4.63\n",
            "Episode 1470000: Distance traveled = 84.08\n",
            "Moviepy - Building video /tmp/tmp3fjrontj/-step-0-to-step-1600.mp4.\n",
            "Moviepy - Writing video /tmp/tmp3fjrontj/-step-0-to-step-1600.mp4\n",
            "\n"
          ]
        },
        {
          "output_type": "stream",
          "name": "stderr",
          "text": [
            "                                                  "
          ]
        },
        {
          "output_type": "stream",
          "name": "stdout",
          "text": [
            "Moviepy - Done !\n",
            "Moviepy - video ready /tmp/tmp3fjrontj/-step-0-to-step-1600.mp4\n"
          ]
        },
        {
          "output_type": "stream",
          "name": "stderr",
          "text": [
            "\r"
          ]
        },
        {
          "output_type": "stream",
          "name": "stdout",
          "text": [
            "Moviepy - Building video /tmp/tmp3fjrontj/-step-0-to-step-1600.mp4.\n",
            "Moviepy - Writing video /tmp/tmp3fjrontj/-step-0-to-step-1600.mp4\n",
            "\n"
          ]
        },
        {
          "output_type": "stream",
          "name": "stderr",
          "text": []
        },
        {
          "output_type": "stream",
          "name": "stdout",
          "text": [
            "Moviepy - Done !\n",
            "Moviepy - video ready /tmp/tmp3fjrontj/-step-0-to-step-1600.mp4\n",
            "Video saved to: replay_ep1470000_dist84.08.mp4\n",
            "\n",
            "Video updated and saved as: replay_ep1470000_dist84.08.mp4\n",
            "\n",
            "Episode 1475000: Distance traveled = 84.04\n",
            "Moviepy - Building video /tmp/tmpefpvxtrs/-step-0-to-step-1600.mp4.\n",
            "Moviepy - Writing video /tmp/tmpefpvxtrs/-step-0-to-step-1600.mp4\n",
            "\n"
          ]
        },
        {
          "output_type": "stream",
          "name": "stderr",
          "text": [
            "                                                  "
          ]
        },
        {
          "output_type": "stream",
          "name": "stdout",
          "text": [
            "Moviepy - Done !\n",
            "Moviepy - video ready /tmp/tmpefpvxtrs/-step-0-to-step-1600.mp4\n"
          ]
        },
        {
          "output_type": "stream",
          "name": "stderr",
          "text": [
            "\r"
          ]
        },
        {
          "output_type": "stream",
          "name": "stdout",
          "text": [
            "Moviepy - Building video /tmp/tmpefpvxtrs/-step-0-to-step-1600.mp4.\n",
            "Moviepy - Writing video /tmp/tmpefpvxtrs/-step-0-to-step-1600.mp4\n",
            "\n"
          ]
        },
        {
          "output_type": "stream",
          "name": "stderr",
          "text": []
        },
        {
          "output_type": "stream",
          "name": "stdout",
          "text": [
            "Moviepy - Done !\n",
            "Moviepy - video ready /tmp/tmpefpvxtrs/-step-0-to-step-1600.mp4\n",
            "Video saved to: replay_ep1475000_dist84.04.mp4\n",
            "\n",
            "Video updated and saved as: replay_ep1475000_dist84.04.mp4\n",
            "\n",
            "Episode 1480000: Distance traveled = 24.37\n",
            "Episode 1485000: Distance traveled = 17.06\n",
            "Episode 1490000: Distance traveled = 84.06\n",
            "Moviepy - Building video /tmp/tmp04rdxzja/-step-0-to-step-1600.mp4.\n",
            "Moviepy - Writing video /tmp/tmp04rdxzja/-step-0-to-step-1600.mp4\n",
            "\n"
          ]
        },
        {
          "output_type": "stream",
          "name": "stderr",
          "text": [
            "                                                  "
          ]
        },
        {
          "output_type": "stream",
          "name": "stdout",
          "text": [
            "Moviepy - Done !\n",
            "Moviepy - video ready /tmp/tmp04rdxzja/-step-0-to-step-1600.mp4\n"
          ]
        },
        {
          "output_type": "stream",
          "name": "stderr",
          "text": [
            "\r"
          ]
        },
        {
          "output_type": "stream",
          "name": "stdout",
          "text": [
            "Moviepy - Building video /tmp/tmp04rdxzja/-step-0-to-step-1600.mp4.\n",
            "Moviepy - Writing video /tmp/tmp04rdxzja/-step-0-to-step-1600.mp4\n",
            "\n"
          ]
        },
        {
          "output_type": "stream",
          "name": "stderr",
          "text": []
        },
        {
          "output_type": "stream",
          "name": "stdout",
          "text": [
            "Moviepy - Done !\n",
            "Moviepy - video ready /tmp/tmp04rdxzja/-step-0-to-step-1600.mp4\n",
            "Video saved to: replay_ep1490000_dist84.06.mp4\n",
            "\n",
            "Video updated and saved as: replay_ep1490000_dist84.06.mp4\n",
            "\n",
            "Episode 1495000: Distance traveled = 84.03\n",
            "Moviepy - Building video /tmp/tmpcciu33wc/-step-0-to-step-1600.mp4.\n",
            "Moviepy - Writing video /tmp/tmpcciu33wc/-step-0-to-step-1600.mp4\n",
            "\n"
          ]
        },
        {
          "output_type": "stream",
          "name": "stderr",
          "text": [
            "                                                  "
          ]
        },
        {
          "output_type": "stream",
          "name": "stdout",
          "text": [
            "Moviepy - Done !\n",
            "Moviepy - video ready /tmp/tmpcciu33wc/-step-0-to-step-1600.mp4\n"
          ]
        },
        {
          "output_type": "stream",
          "name": "stderr",
          "text": [
            "\r"
          ]
        },
        {
          "output_type": "stream",
          "name": "stdout",
          "text": [
            "Saving video to /tmp/tmpcciu33wc/-step-0-to-step-1600.mp4\n",
            "Moviepy - Building video /tmp/tmpcciu33wc/-step-0-to-step-1600.mp4.\n",
            "Moviepy - Writing video /tmp/tmpcciu33wc/-step-0-to-step-1600.mp4\n",
            "\n"
          ]
        },
        {
          "output_type": "stream",
          "name": "stderr",
          "text": []
        },
        {
          "output_type": "stream",
          "name": "stdout",
          "text": [
            "Moviepy - Done !\n",
            "Moviepy - video ready /tmp/tmpcciu33wc/-step-0-to-step-1600.mp4\n",
            "Video saved to: replay_ep1495000_dist84.03.mp4\n",
            "\n",
            "Video updated and saved as: replay_ep1495000_dist84.03.mp4\n",
            "\n",
            "Episode 1500000: Distance traveled = 52.89\n",
            "Episode 1505000: Distance traveled = 64.23\n",
            "Moviepy - Building video /tmp/tmpeh5wxzbx/-step-0-to-step-1600.mp4.\n",
            "Moviepy - Writing video /tmp/tmpeh5wxzbx/-step-0-to-step-1600.mp4\n",
            "\n"
          ]
        },
        {
          "output_type": "stream",
          "name": "stderr",
          "text": [
            "                                                  "
          ]
        },
        {
          "output_type": "stream",
          "name": "stdout",
          "text": [
            "Moviepy - Done !\n",
            "Moviepy - video ready /tmp/tmpeh5wxzbx/-step-0-to-step-1600.mp4\n"
          ]
        },
        {
          "output_type": "stream",
          "name": "stderr",
          "text": [
            "\r"
          ]
        },
        {
          "output_type": "stream",
          "name": "stdout",
          "text": [
            "Saving video to /tmp/tmpeh5wxzbx/-step-0-to-step-1600.mp4\n",
            "Moviepy - Building video /tmp/tmpeh5wxzbx/-step-0-to-step-1600.mp4.\n",
            "Moviepy - Writing video /tmp/tmpeh5wxzbx/-step-0-to-step-1600.mp4\n",
            "\n"
          ]
        },
        {
          "output_type": "stream",
          "name": "stderr",
          "text": []
        },
        {
          "output_type": "stream",
          "name": "stdout",
          "text": [
            "Moviepy - Done !\n",
            "Moviepy - video ready /tmp/tmpeh5wxzbx/-step-0-to-step-1600.mp4\n",
            "Video saved to: replay_ep1505000_dist64.23.mp4\n",
            "\n",
            "Video updated and saved as: replay_ep1505000_dist64.23.mp4\n",
            "\n",
            "Episode 1510000: Distance traveled = 20.71\n",
            "Episode 1515000: Distance traveled = 84.03\n",
            "Moviepy - Building video /tmp/tmpcnet5h_4/-step-0-to-step-1600.mp4.\n",
            "Moviepy - Writing video /tmp/tmpcnet5h_4/-step-0-to-step-1600.mp4\n",
            "\n"
          ]
        },
        {
          "output_type": "stream",
          "name": "stderr",
          "text": [
            "                                                  "
          ]
        },
        {
          "output_type": "stream",
          "name": "stdout",
          "text": [
            "Moviepy - Done !\n",
            "Moviepy - video ready /tmp/tmpcnet5h_4/-step-0-to-step-1600.mp4\n"
          ]
        },
        {
          "output_type": "stream",
          "name": "stderr",
          "text": [
            "\r"
          ]
        },
        {
          "output_type": "stream",
          "name": "stdout",
          "text": [
            "Moviepy - Building video /tmp/tmpcnet5h_4/-step-0-to-step-1600.mp4.\n",
            "Moviepy - Writing video /tmp/tmpcnet5h_4/-step-0-to-step-1600.mp4\n",
            "\n"
          ]
        },
        {
          "output_type": "stream",
          "name": "stderr",
          "text": []
        },
        {
          "output_type": "stream",
          "name": "stdout",
          "text": [
            "Moviepy - Done !\n",
            "Moviepy - video ready /tmp/tmpcnet5h_4/-step-0-to-step-1600.mp4\n",
            "Video saved to: replay_ep1515000_dist84.03.mp4\n",
            "\n",
            "Video updated and saved as: replay_ep1515000_dist84.03.mp4\n",
            "\n",
            "Episode 1520000: Distance traveled = 17.51\n",
            "Episode 1525000: Distance traveled = 11.93\n",
            "Episode 1530000: Distance traveled = 7.64\n",
            "Episode 1535000: Distance traveled = 13.66\n",
            "Episode 1540000: Distance traveled = 13.09\n",
            "Episode 1545000: Distance traveled = 84.06\n",
            "Moviepy - Building video /tmp/tmpy9osks7y/-step-0-to-step-1600.mp4.\n",
            "Moviepy - Writing video /tmp/tmpy9osks7y/-step-0-to-step-1600.mp4\n",
            "\n"
          ]
        },
        {
          "output_type": "stream",
          "name": "stderr",
          "text": [
            "                                                  "
          ]
        },
        {
          "output_type": "stream",
          "name": "stdout",
          "text": [
            "Moviepy - Done !\n",
            "Moviepy - video ready /tmp/tmpy9osks7y/-step-0-to-step-1600.mp4\n"
          ]
        },
        {
          "output_type": "stream",
          "name": "stderr",
          "text": [
            "\r"
          ]
        },
        {
          "output_type": "stream",
          "name": "stdout",
          "text": [
            "Moviepy - Building video /tmp/tmpy9osks7y/-step-0-to-step-1600.mp4.\n",
            "Moviepy - Writing video /tmp/tmpy9osks7y/-step-0-to-step-1600.mp4\n",
            "\n"
          ]
        },
        {
          "output_type": "stream",
          "name": "stderr",
          "text": []
        },
        {
          "output_type": "stream",
          "name": "stdout",
          "text": [
            "Moviepy - Done !\n",
            "Moviepy - video ready /tmp/tmpy9osks7y/-step-0-to-step-1600.mp4\n",
            "Video saved to: replay_ep1545000_dist84.06.mp4\n",
            "\n",
            "Video updated and saved as: replay_ep1545000_dist84.06.mp4\n",
            "\n",
            "Episode 1550000: Distance traveled = 30.37\n",
            "Episode 1555000: Distance traveled = 6.37\n",
            "Episode 1560000: Distance traveled = 17.22\n",
            "Episode 1565000: Distance traveled = 16.99\n",
            "Episode 1570000: Distance traveled = 3.85\n",
            "Episode 1575000: Distance traveled = 14.49\n",
            "Episode 1580000: Distance traveled = 6.02\n",
            "Episode 1585000: Distance traveled = 17.89\n",
            "Episode 1590000: Distance traveled = 84.05\n",
            "Moviepy - Building video /tmp/tmpwyxktyex/-step-0-to-step-1600.mp4.\n",
            "Moviepy - Writing video /tmp/tmpwyxktyex/-step-0-to-step-1600.mp4\n",
            "\n"
          ]
        },
        {
          "output_type": "stream",
          "name": "stderr",
          "text": [
            "                                                  "
          ]
        },
        {
          "output_type": "stream",
          "name": "stdout",
          "text": [
            "Moviepy - Done !\n",
            "Moviepy - video ready /tmp/tmpwyxktyex/-step-0-to-step-1600.mp4\n"
          ]
        },
        {
          "output_type": "stream",
          "name": "stderr",
          "text": [
            "\r"
          ]
        },
        {
          "output_type": "stream",
          "name": "stdout",
          "text": [
            "Moviepy - Building video /tmp/tmpwyxktyex/-step-0-to-step-1600.mp4.\n",
            "Moviepy - Writing video /tmp/tmpwyxktyex/-step-0-to-step-1600.mp4\n",
            "\n"
          ]
        },
        {
          "output_type": "stream",
          "name": "stderr",
          "text": []
        },
        {
          "output_type": "stream",
          "name": "stdout",
          "text": [
            "Moviepy - Done !\n",
            "Moviepy - video ready /tmp/tmpwyxktyex/-step-0-to-step-1600.mp4\n",
            "Video saved to: replay_ep1590000_dist84.05.mp4\n",
            "\n",
            "Video updated and saved as: replay_ep1590000_dist84.05.mp4\n",
            "\n",
            "Episode 1595000: Distance traveled = 31.87\n",
            "Episode 1600000: Distance traveled = 51.39\n",
            "Episode 1605000: Distance traveled = 84.05\n",
            "Moviepy - Building video /tmp/tmp3yi65lne/-step-0-to-step-1600.mp4.\n",
            "Moviepy - Writing video /tmp/tmp3yi65lne/-step-0-to-step-1600.mp4\n",
            "\n"
          ]
        },
        {
          "output_type": "stream",
          "name": "stderr",
          "text": [
            "                                                  "
          ]
        },
        {
          "output_type": "stream",
          "name": "stdout",
          "text": [
            "Moviepy - Done !\n",
            "Moviepy - video ready /tmp/tmp3yi65lne/-step-0-to-step-1600.mp4\n"
          ]
        },
        {
          "output_type": "stream",
          "name": "stderr",
          "text": [
            "\r"
          ]
        },
        {
          "output_type": "stream",
          "name": "stdout",
          "text": [
            "Moviepy - Building video /tmp/tmp3yi65lne/-step-0-to-step-1600.mp4.\n",
            "Moviepy - Writing video /tmp/tmp3yi65lne/-step-0-to-step-1600.mp4\n",
            "\n"
          ]
        },
        {
          "output_type": "stream",
          "name": "stderr",
          "text": []
        },
        {
          "output_type": "stream",
          "name": "stdout",
          "text": [
            "Moviepy - Done !\n",
            "Moviepy - video ready /tmp/tmp3yi65lne/-step-0-to-step-1600.mp4\n",
            "Video saved to: replay_ep1605000_dist84.05.mp4\n",
            "\n",
            "Video updated and saved as: replay_ep1605000_dist84.05.mp4\n",
            "\n",
            "Episode 1610000: Distance traveled = 84.09\n",
            "Moviepy - Building video /tmp/tmpspm9en9x/-step-0-to-step-1600.mp4.\n",
            "Moviepy - Writing video /tmp/tmpspm9en9x/-step-0-to-step-1600.mp4\n",
            "\n"
          ]
        },
        {
          "output_type": "stream",
          "name": "stderr",
          "text": [
            "                                                  "
          ]
        },
        {
          "output_type": "stream",
          "name": "stdout",
          "text": [
            "Moviepy - Done !\n",
            "Moviepy - video ready /tmp/tmpspm9en9x/-step-0-to-step-1600.mp4\n"
          ]
        },
        {
          "output_type": "stream",
          "name": "stderr",
          "text": [
            "\r"
          ]
        },
        {
          "output_type": "stream",
          "name": "stdout",
          "text": [
            "Moviepy - Building video /tmp/tmpspm9en9x/-step-0-to-step-1600.mp4.\n",
            "Moviepy - Writing video /tmp/tmpspm9en9x/-step-0-to-step-1600.mp4\n",
            "\n"
          ]
        },
        {
          "output_type": "stream",
          "name": "stderr",
          "text": []
        },
        {
          "output_type": "stream",
          "name": "stdout",
          "text": [
            "Moviepy - Done !\n",
            "Moviepy - video ready /tmp/tmpspm9en9x/-step-0-to-step-1600.mp4\n",
            "Video saved to: replay_ep1610000_dist84.09.mp4\n",
            "\n",
            "Video updated and saved as: replay_ep1610000_dist84.09.mp4\n",
            "\n",
            "New best model, distance: 84.09\n",
            "\n",
            "Moviepy - Building video /tmp/tmpzzkq0mtr/-step-0-to-step-1600.mp4.\n",
            "Moviepy - Writing video /tmp/tmpzzkq0mtr/-step-0-to-step-1600.mp4\n",
            "\n"
          ]
        },
        {
          "output_type": "stream",
          "name": "stderr",
          "text": [
            "                                                  "
          ]
        },
        {
          "output_type": "stream",
          "name": "stdout",
          "text": [
            "Moviepy - Done !\n",
            "Moviepy - video ready /tmp/tmpzzkq0mtr/-step-0-to-step-1600.mp4\n"
          ]
        },
        {
          "output_type": "stream",
          "name": "stderr",
          "text": [
            "\r"
          ]
        },
        {
          "output_type": "stream",
          "name": "stdout",
          "text": [
            "Moviepy - Building video /tmp/tmpzzkq0mtr/-step-0-to-step-1600.mp4.\n",
            "Moviepy - Writing video /tmp/tmpzzkq0mtr/-step-0-to-step-1600.mp4\n",
            "\n"
          ]
        },
        {
          "output_type": "stream",
          "name": "stderr",
          "text": []
        },
        {
          "output_type": "stream",
          "name": "stdout",
          "text": [
            "Moviepy - Done !\n",
            "Moviepy - video ready /tmp/tmpzzkq0mtr/-step-0-to-step-1600.mp4\n",
            "Video saved to: best_replay_ep1610000_dist84.09.mp4\n",
            "\n",
            "Best video updated and saved as: best_replay_ep1610000_dist84.09.mp4\n",
            "\n",
            "Episode 1615000: Distance traveled = 23.24\n",
            "Episode 1620000: Distance traveled = 37.05\n",
            "Episode 1625000: Distance traveled = 14.02\n",
            "Episode 1630000: Distance traveled = 0.34\n",
            "Episode 1635000: Distance traveled = 0.58\n",
            "Episode 1640000: Distance traveled = 5.65\n",
            "Episode 1645000: Distance traveled = 3.02\n",
            "Episode 1650000: Distance traveled = 35.07\n",
            "Episode 1655000: Distance traveled = 8.33\n",
            "Episode 1660000: Distance traveled = 21.12\n",
            "Episode 1665000: Distance traveled = 41.07\n",
            "Episode 1670000: Distance traveled = 7.01\n",
            "Episode 1675000: Distance traveled = 5.90\n",
            "Episode 1680000: Distance traveled = 5.95\n",
            "Episode 1685000: Distance traveled = 7.51\n",
            "Episode 1690000: Distance traveled = 84.06\n",
            "Moviepy - Building video /tmp/tmp0py_act1/-step-0-to-step-1600.mp4.\n",
            "Moviepy - Writing video /tmp/tmp0py_act1/-step-0-to-step-1600.mp4\n",
            "\n"
          ]
        },
        {
          "output_type": "stream",
          "name": "stderr",
          "text": [
            "                                                  "
          ]
        },
        {
          "output_type": "stream",
          "name": "stdout",
          "text": [
            "Moviepy - Done !\n",
            "Moviepy - video ready /tmp/tmp0py_act1/-step-0-to-step-1600.mp4\n"
          ]
        },
        {
          "output_type": "stream",
          "name": "stderr",
          "text": [
            "\r"
          ]
        },
        {
          "output_type": "stream",
          "name": "stdout",
          "text": [
            "Moviepy - Building video /tmp/tmp0py_act1/-step-0-to-step-1600.mp4.\n",
            "Moviepy - Writing video /tmp/tmp0py_act1/-step-0-to-step-1600.mp4\n",
            "\n"
          ]
        },
        {
          "output_type": "stream",
          "name": "stderr",
          "text": []
        },
        {
          "output_type": "stream",
          "name": "stdout",
          "text": [
            "Moviepy - Done !\n",
            "Moviepy - video ready /tmp/tmp0py_act1/-step-0-to-step-1600.mp4\n",
            "Video saved to: replay_ep1690000_dist84.06.mp4\n",
            "\n",
            "Video updated and saved as: replay_ep1690000_dist84.06.mp4\n",
            "\n",
            "Episode 1695000: Distance traveled = 84.03\n",
            "Moviepy - Building video /tmp/tmp95czd94c/-step-0-to-step-1600.mp4.\n",
            "Moviepy - Writing video /tmp/tmp95czd94c/-step-0-to-step-1600.mp4\n",
            "\n"
          ]
        },
        {
          "output_type": "stream",
          "name": "stderr",
          "text": [
            "                                                  "
          ]
        },
        {
          "output_type": "stream",
          "name": "stdout",
          "text": [
            "Moviepy - Done !\n",
            "Moviepy - video ready /tmp/tmp95czd94c/-step-0-to-step-1600.mp4\n"
          ]
        },
        {
          "output_type": "stream",
          "name": "stderr",
          "text": [
            "\r"
          ]
        },
        {
          "output_type": "stream",
          "name": "stdout",
          "text": [
            "Moviepy - Building video /tmp/tmp95czd94c/-step-0-to-step-1600.mp4.\n",
            "Moviepy - Writing video /tmp/tmp95czd94c/-step-0-to-step-1600.mp4\n",
            "\n"
          ]
        },
        {
          "output_type": "stream",
          "name": "stderr",
          "text": []
        },
        {
          "output_type": "stream",
          "name": "stdout",
          "text": [
            "Moviepy - Done !\n",
            "Moviepy - video ready /tmp/tmp95czd94c/-step-0-to-step-1600.mp4\n",
            "Video saved to: replay_ep1695000_dist84.03.mp4\n",
            "\n",
            "Video updated and saved as: replay_ep1695000_dist84.03.mp4\n",
            "\n",
            "Episode 1700000: Distance traveled = 84.07\n",
            "Moviepy - Building video /tmp/tmpnergfze7/-step-0-to-step-1600.mp4.\n",
            "Moviepy - Writing video /tmp/tmpnergfze7/-step-0-to-step-1600.mp4\n",
            "\n"
          ]
        },
        {
          "output_type": "stream",
          "name": "stderr",
          "text": [
            "                                                  "
          ]
        },
        {
          "output_type": "stream",
          "name": "stdout",
          "text": [
            "Moviepy - Done !\n",
            "Moviepy - video ready /tmp/tmpnergfze7/-step-0-to-step-1600.mp4\n"
          ]
        },
        {
          "output_type": "stream",
          "name": "stderr",
          "text": [
            "\r"
          ]
        },
        {
          "output_type": "stream",
          "name": "stdout",
          "text": [
            "Moviepy - Building video /tmp/tmpnergfze7/-step-0-to-step-1600.mp4.\n",
            "Moviepy - Writing video /tmp/tmpnergfze7/-step-0-to-step-1600.mp4\n",
            "\n"
          ]
        },
        {
          "output_type": "stream",
          "name": "stderr",
          "text": []
        },
        {
          "output_type": "stream",
          "name": "stdout",
          "text": [
            "Moviepy - Done !\n",
            "Moviepy - video ready /tmp/tmpnergfze7/-step-0-to-step-1600.mp4\n",
            "Video saved to: replay_ep1700000_dist84.07.mp4\n",
            "\n",
            "Video updated and saved as: replay_ep1700000_dist84.07.mp4\n",
            "\n",
            "Episode 1705000: Distance traveled = 18.37\n",
            "Moviepy - Building video /tmp/tmp2nnvjcum/-step-0-to-step-1600.mp4.\n",
            "Moviepy - Writing video /tmp/tmp2nnvjcum/-step-0-to-step-1600.mp4\n",
            "\n"
          ]
        },
        {
          "output_type": "stream",
          "name": "stderr",
          "text": [
            "                                                  "
          ]
        },
        {
          "output_type": "stream",
          "name": "stdout",
          "text": [
            "Moviepy - Done !\n",
            "Moviepy - video ready /tmp/tmp2nnvjcum/-step-0-to-step-1600.mp4\n"
          ]
        },
        {
          "output_type": "stream",
          "name": "stderr",
          "text": [
            "\r"
          ]
        },
        {
          "output_type": "stream",
          "name": "stdout",
          "text": [
            "Saving video to /tmp/tmp2nnvjcum/-step-0-to-step-1600.mp4\n",
            "Moviepy - Building video /tmp/tmp2nnvjcum/-step-0-to-step-1600.mp4.\n",
            "Moviepy - Writing video /tmp/tmp2nnvjcum/-step-0-to-step-1600.mp4\n",
            "\n"
          ]
        },
        {
          "output_type": "stream",
          "name": "stderr",
          "text": []
        },
        {
          "output_type": "stream",
          "name": "stdout",
          "text": [
            "Moviepy - Done !\n",
            "Moviepy - video ready /tmp/tmp2nnvjcum/-step-0-to-step-1600.mp4\n",
            "Video saved to: replay_ep1705000_dist18.37.mp4\n",
            "\n",
            "Video updated and saved as: replay_ep1705000_dist18.37.mp4\n",
            "\n",
            "Episode 1710000: Distance traveled = 44.25\n",
            "Episode 1715000: Distance traveled = 60.73\n",
            "Episode 1720000: Distance traveled = 21.80\n",
            "Episode 1725000: Distance traveled = 84.10\n",
            "Moviepy - Building video /tmp/tmphpe2d539/-step-0-to-step-1600.mp4.\n",
            "Moviepy - Writing video /tmp/tmphpe2d539/-step-0-to-step-1600.mp4\n",
            "\n"
          ]
        },
        {
          "output_type": "stream",
          "name": "stderr",
          "text": [
            "                                                  "
          ]
        },
        {
          "output_type": "stream",
          "name": "stdout",
          "text": [
            "Moviepy - Done !\n",
            "Moviepy - video ready /tmp/tmphpe2d539/-step-0-to-step-1600.mp4\n"
          ]
        },
        {
          "output_type": "stream",
          "name": "stderr",
          "text": [
            "\r"
          ]
        },
        {
          "output_type": "stream",
          "name": "stdout",
          "text": [
            "Moviepy - Building video /tmp/tmphpe2d539/-step-0-to-step-1600.mp4.\n",
            "Moviepy - Writing video /tmp/tmphpe2d539/-step-0-to-step-1600.mp4\n",
            "\n"
          ]
        },
        {
          "output_type": "stream",
          "name": "stderr",
          "text": []
        },
        {
          "output_type": "stream",
          "name": "stdout",
          "text": [
            "Moviepy - Done !\n",
            "Moviepy - video ready /tmp/tmphpe2d539/-step-0-to-step-1600.mp4\n",
            "Video saved to: replay_ep1725000_dist84.10.mp4\n",
            "\n",
            "Video updated and saved as: replay_ep1725000_dist84.10.mp4\n",
            "\n",
            "New best model, distance: 84.10\n",
            "\n",
            "Moviepy - Building video /tmp/tmpfh5h5jqc/-step-0-to-step-1600.mp4.\n",
            "Moviepy - Writing video /tmp/tmpfh5h5jqc/-step-0-to-step-1600.mp4\n",
            "\n"
          ]
        },
        {
          "output_type": "stream",
          "name": "stderr",
          "text": [
            "                                                  "
          ]
        },
        {
          "output_type": "stream",
          "name": "stdout",
          "text": [
            "Moviepy - Done !\n",
            "Moviepy - video ready /tmp/tmpfh5h5jqc/-step-0-to-step-1600.mp4\n"
          ]
        },
        {
          "output_type": "stream",
          "name": "stderr",
          "text": [
            "\r"
          ]
        },
        {
          "output_type": "stream",
          "name": "stdout",
          "text": [
            "Moviepy - Building video /tmp/tmpfh5h5jqc/-step-0-to-step-1600.mp4.\n",
            "Moviepy - Writing video /tmp/tmpfh5h5jqc/-step-0-to-step-1600.mp4\n",
            "\n"
          ]
        },
        {
          "output_type": "stream",
          "name": "stderr",
          "text": []
        },
        {
          "output_type": "stream",
          "name": "stdout",
          "text": [
            "Moviepy - Done !\n",
            "Moviepy - video ready /tmp/tmpfh5h5jqc/-step-0-to-step-1600.mp4\n",
            "Video saved to: best_replay_ep1725000_dist84.10.mp4\n",
            "\n",
            "Best video updated and saved as: best_replay_ep1725000_dist84.10.mp4\n",
            "\n",
            "Episode 1730000: Distance traveled = 84.01\n",
            "Moviepy - Building video /tmp/tmp0bxxk_xv/-step-0-to-step-1600.mp4.\n",
            "Moviepy - Writing video /tmp/tmp0bxxk_xv/-step-0-to-step-1600.mp4\n",
            "\n"
          ]
        },
        {
          "output_type": "stream",
          "name": "stderr",
          "text": [
            "                                                  "
          ]
        },
        {
          "output_type": "stream",
          "name": "stdout",
          "text": [
            "Moviepy - Done !\n",
            "Moviepy - video ready /tmp/tmp0bxxk_xv/-step-0-to-step-1600.mp4\n"
          ]
        },
        {
          "output_type": "stream",
          "name": "stderr",
          "text": [
            "\r"
          ]
        },
        {
          "output_type": "stream",
          "name": "stdout",
          "text": [
            "Moviepy - Building video /tmp/tmp0bxxk_xv/-step-0-to-step-1600.mp4.\n",
            "Moviepy - Writing video /tmp/tmp0bxxk_xv/-step-0-to-step-1600.mp4\n",
            "\n"
          ]
        },
        {
          "output_type": "stream",
          "name": "stderr",
          "text": []
        },
        {
          "output_type": "stream",
          "name": "stdout",
          "text": [
            "Moviepy - Done !\n",
            "Moviepy - video ready /tmp/tmp0bxxk_xv/-step-0-to-step-1600.mp4\n",
            "Video saved to: replay_ep1730000_dist84.01.mp4\n",
            "\n",
            "Video updated and saved as: replay_ep1730000_dist84.01.mp4\n",
            "\n",
            "Episode 1735000: Distance traveled = 84.06\n",
            "Moviepy - Building video /tmp/tmpezht120s/-step-0-to-step-1600.mp4.\n",
            "Moviepy - Writing video /tmp/tmpezht120s/-step-0-to-step-1600.mp4\n",
            "\n"
          ]
        },
        {
          "output_type": "stream",
          "name": "stderr",
          "text": [
            "                                                  "
          ]
        },
        {
          "output_type": "stream",
          "name": "stdout",
          "text": [
            "Moviepy - Done !\n",
            "Moviepy - video ready /tmp/tmpezht120s/-step-0-to-step-1600.mp4\n"
          ]
        },
        {
          "output_type": "stream",
          "name": "stderr",
          "text": [
            "\r"
          ]
        },
        {
          "output_type": "stream",
          "name": "stdout",
          "text": [
            "Saving video to /tmp/tmpezht120s/-step-0-to-step-1600.mp4\n",
            "Moviepy - Building video /tmp/tmpezht120s/-step-0-to-step-1600.mp4.\n",
            "Moviepy - Writing video /tmp/tmpezht120s/-step-0-to-step-1600.mp4\n",
            "\n"
          ]
        },
        {
          "output_type": "stream",
          "name": "stderr",
          "text": []
        },
        {
          "output_type": "stream",
          "name": "stdout",
          "text": [
            "Moviepy - Done !\n",
            "Moviepy - video ready /tmp/tmpezht120s/-step-0-to-step-1600.mp4\n",
            "Video saved to: replay_ep1735000_dist84.06.mp4\n",
            "\n",
            "Video updated and saved as: replay_ep1735000_dist84.06.mp4\n",
            "\n",
            "Episode 1740000: Distance traveled = 84.02\n",
            "Moviepy - Building video /tmp/tmpzvx5xlpi/-step-0-to-step-1600.mp4.\n",
            "Moviepy - Writing video /tmp/tmpzvx5xlpi/-step-0-to-step-1600.mp4\n",
            "\n"
          ]
        },
        {
          "output_type": "stream",
          "name": "stderr",
          "text": [
            "                                                  "
          ]
        },
        {
          "output_type": "stream",
          "name": "stdout",
          "text": [
            "Moviepy - Done !\n",
            "Moviepy - video ready /tmp/tmpzvx5xlpi/-step-0-to-step-1600.mp4\n"
          ]
        },
        {
          "output_type": "stream",
          "name": "stderr",
          "text": [
            "\r"
          ]
        },
        {
          "output_type": "stream",
          "name": "stdout",
          "text": [
            "Saving video to /tmp/tmpzvx5xlpi/-step-0-to-step-1600.mp4\n",
            "Moviepy - Building video /tmp/tmpzvx5xlpi/-step-0-to-step-1600.mp4.\n",
            "Moviepy - Writing video /tmp/tmpzvx5xlpi/-step-0-to-step-1600.mp4\n",
            "\n"
          ]
        },
        {
          "output_type": "stream",
          "name": "stderr",
          "text": []
        },
        {
          "output_type": "stream",
          "name": "stdout",
          "text": [
            "Moviepy - Done !\n",
            "Moviepy - video ready /tmp/tmpzvx5xlpi/-step-0-to-step-1600.mp4\n",
            "Video saved to: replay_ep1740000_dist84.02.mp4\n",
            "\n",
            "Video updated and saved as: replay_ep1740000_dist84.02.mp4\n",
            "\n",
            "Episode 1745000: Distance traveled = 7.21\n",
            "Episode 1750000: Distance traveled = 50.39\n",
            "Episode 1755000: Distance traveled = 22.21\n",
            "Episode 1760000: Distance traveled = 40.94\n",
            "Episode 1765000: Distance traveled = 3.95\n",
            "Episode 1770000: Distance traveled = 20.38\n",
            "Episode 1775000: Distance traveled = 25.18\n",
            "Episode 1780000: Distance traveled = 9.38\n",
            "Episode 1785000: Distance traveled = 21.25\n",
            "Episode 1790000: Distance traveled = 0.90\n",
            "Episode 1795000: Distance traveled = 84.01\n",
            "Moviepy - Building video /tmp/tmpd13r0ane/-step-0-to-step-1600.mp4.\n",
            "Moviepy - Writing video /tmp/tmpd13r0ane/-step-0-to-step-1600.mp4\n",
            "\n"
          ]
        },
        {
          "output_type": "stream",
          "name": "stderr",
          "text": [
            "                                                  "
          ]
        },
        {
          "output_type": "stream",
          "name": "stdout",
          "text": [
            "Moviepy - Done !\n",
            "Moviepy - video ready /tmp/tmpd13r0ane/-step-0-to-step-1600.mp4\n"
          ]
        },
        {
          "output_type": "stream",
          "name": "stderr",
          "text": [
            "\r"
          ]
        },
        {
          "output_type": "stream",
          "name": "stdout",
          "text": [
            "Moviepy - Building video /tmp/tmpd13r0ane/-step-0-to-step-1600.mp4.\n",
            "Moviepy - Writing video /tmp/tmpd13r0ane/-step-0-to-step-1600.mp4\n",
            "\n"
          ]
        },
        {
          "output_type": "stream",
          "name": "stderr",
          "text": []
        },
        {
          "output_type": "stream",
          "name": "stdout",
          "text": [
            "Moviepy - Done !\n",
            "Moviepy - video ready /tmp/tmpd13r0ane/-step-0-to-step-1600.mp4\n",
            "Video saved to: replay_ep1795000_dist84.01.mp4\n",
            "\n",
            "Video updated and saved as: replay_ep1795000_dist84.01.mp4\n",
            "\n",
            "Episode 1800000: Distance traveled = 84.02\n",
            "Moviepy - Building video /tmp/tmp6vp3ke11/-step-0-to-step-1600.mp4.\n",
            "Moviepy - Writing video /tmp/tmp6vp3ke11/-step-0-to-step-1600.mp4\n",
            "\n"
          ]
        },
        {
          "output_type": "stream",
          "name": "stderr",
          "text": [
            "                                                  "
          ]
        },
        {
          "output_type": "stream",
          "name": "stdout",
          "text": [
            "Moviepy - Done !\n",
            "Moviepy - video ready /tmp/tmp6vp3ke11/-step-0-to-step-1600.mp4\n"
          ]
        },
        {
          "output_type": "stream",
          "name": "stderr",
          "text": [
            "\r"
          ]
        },
        {
          "output_type": "stream",
          "name": "stdout",
          "text": [
            "Moviepy - Building video /tmp/tmp6vp3ke11/-step-0-to-step-1600.mp4.\n",
            "Moviepy - Writing video /tmp/tmp6vp3ke11/-step-0-to-step-1600.mp4\n",
            "\n"
          ]
        },
        {
          "output_type": "stream",
          "name": "stderr",
          "text": []
        },
        {
          "output_type": "stream",
          "name": "stdout",
          "text": [
            "Moviepy - Done !\n",
            "Moviepy - video ready /tmp/tmp6vp3ke11/-step-0-to-step-1600.mp4\n",
            "Video saved to: replay_ep1800000_dist84.02.mp4\n",
            "\n",
            "Video updated and saved as: replay_ep1800000_dist84.02.mp4\n",
            "\n",
            "Episode 1805000: Distance traveled = 50.05\n",
            "Moviepy - Building video /tmp/tmp9yr6d85_/-step-0-to-step-1600.mp4.\n",
            "Moviepy - Writing video /tmp/tmp9yr6d85_/-step-0-to-step-1600.mp4\n",
            "\n"
          ]
        },
        {
          "output_type": "stream",
          "name": "stderr",
          "text": [
            "                                                  "
          ]
        },
        {
          "output_type": "stream",
          "name": "stdout",
          "text": [
            "Moviepy - Done !\n",
            "Moviepy - video ready /tmp/tmp9yr6d85_/-step-0-to-step-1600.mp4\n"
          ]
        },
        {
          "output_type": "stream",
          "name": "stderr",
          "text": [
            "\r"
          ]
        },
        {
          "output_type": "stream",
          "name": "stdout",
          "text": [
            "Saving video to /tmp/tmp9yr6d85_/-step-0-to-step-1600.mp4\n",
            "Moviepy - Building video /tmp/tmp9yr6d85_/-step-0-to-step-1600.mp4.\n",
            "Moviepy - Writing video /tmp/tmp9yr6d85_/-step-0-to-step-1600.mp4\n",
            "\n"
          ]
        },
        {
          "output_type": "stream",
          "name": "stderr",
          "text": []
        },
        {
          "output_type": "stream",
          "name": "stdout",
          "text": [
            "Moviepy - Done !\n",
            "Moviepy - video ready /tmp/tmp9yr6d85_/-step-0-to-step-1600.mp4\n",
            "Video saved to: replay_ep1805000_dist50.05.mp4\n",
            "\n",
            "Video updated and saved as: replay_ep1805000_dist50.05.mp4\n",
            "\n",
            "Episode 1810000: Distance traveled = 20.35\n",
            "Episode 1815000: Distance traveled = 74.28\n",
            "Episode 1820000: Distance traveled = 3.71\n",
            "Episode 1825000: Distance traveled = 84.06\n",
            "Moviepy - Building video /tmp/tmpakbi57hw/-step-0-to-step-1600.mp4.\n",
            "Moviepy - Writing video /tmp/tmpakbi57hw/-step-0-to-step-1600.mp4\n",
            "\n"
          ]
        },
        {
          "output_type": "stream",
          "name": "stderr",
          "text": [
            "                                                  "
          ]
        },
        {
          "output_type": "stream",
          "name": "stdout",
          "text": [
            "Moviepy - Done !\n",
            "Moviepy - video ready /tmp/tmpakbi57hw/-step-0-to-step-1600.mp4\n"
          ]
        },
        {
          "output_type": "stream",
          "name": "stderr",
          "text": [
            "\r"
          ]
        },
        {
          "output_type": "stream",
          "name": "stdout",
          "text": [
            "Moviepy - Building video /tmp/tmpakbi57hw/-step-0-to-step-1600.mp4.\n",
            "Moviepy - Writing video /tmp/tmpakbi57hw/-step-0-to-step-1600.mp4\n",
            "\n"
          ]
        },
        {
          "output_type": "stream",
          "name": "stderr",
          "text": []
        },
        {
          "output_type": "stream",
          "name": "stdout",
          "text": [
            "Moviepy - Done !\n",
            "Moviepy - video ready /tmp/tmpakbi57hw/-step-0-to-step-1600.mp4\n",
            "Video saved to: replay_ep1825000_dist84.06.mp4\n",
            "\n",
            "Video updated and saved as: replay_ep1825000_dist84.06.mp4\n",
            "\n",
            "Episode 1830000: Distance traveled = 2.53\n",
            "Episode 1835000: Distance traveled = 0.74\n",
            "Episode 1840000: Distance traveled = 1.33\n",
            "Episode 1845000: Distance traveled = 1.15\n",
            "Episode 1850000: Distance traveled = 84.03\n",
            "Moviepy - Building video /tmp/tmplz0v_c90/-step-0-to-step-1600.mp4.\n",
            "Moviepy - Writing video /tmp/tmplz0v_c90/-step-0-to-step-1600.mp4\n",
            "\n"
          ]
        },
        {
          "output_type": "stream",
          "name": "stderr",
          "text": [
            "                                                  "
          ]
        },
        {
          "output_type": "stream",
          "name": "stdout",
          "text": [
            "Moviepy - Done !\n",
            "Moviepy - video ready /tmp/tmplz0v_c90/-step-0-to-step-1600.mp4\n"
          ]
        },
        {
          "output_type": "stream",
          "name": "stderr",
          "text": [
            "\r"
          ]
        },
        {
          "output_type": "stream",
          "name": "stdout",
          "text": [
            "Saving video to /tmp/tmplz0v_c90/-step-0-to-step-1600.mp4\n",
            "Moviepy - Building video /tmp/tmplz0v_c90/-step-0-to-step-1600.mp4.\n",
            "Moviepy - Writing video /tmp/tmplz0v_c90/-step-0-to-step-1600.mp4\n",
            "\n"
          ]
        },
        {
          "output_type": "stream",
          "name": "stderr",
          "text": []
        },
        {
          "output_type": "stream",
          "name": "stdout",
          "text": [
            "Moviepy - Done !\n",
            "Moviepy - video ready /tmp/tmplz0v_c90/-step-0-to-step-1600.mp4\n",
            "Video saved to: replay_ep1850000_dist84.03.mp4\n",
            "\n",
            "Video updated and saved as: replay_ep1850000_dist84.03.mp4\n",
            "\n",
            "Episode 1855000: Distance traveled = 1.39\n",
            "Episode 1860000: Distance traveled = 1.94\n",
            "Episode 1865000: Distance traveled = 1.48\n",
            "Episode 1870000: Distance traveled = 2.54\n",
            "Episode 1875000: Distance traveled = 84.05\n",
            "Moviepy - Building video /tmp/tmpb8pkx91i/-step-0-to-step-1600.mp4.\n",
            "Moviepy - Writing video /tmp/tmpb8pkx91i/-step-0-to-step-1600.mp4\n",
            "\n"
          ]
        },
        {
          "output_type": "stream",
          "name": "stderr",
          "text": [
            "                                                  "
          ]
        },
        {
          "output_type": "stream",
          "name": "stdout",
          "text": [
            "Moviepy - Done !\n",
            "Moviepy - video ready /tmp/tmpb8pkx91i/-step-0-to-step-1600.mp4\n"
          ]
        },
        {
          "output_type": "stream",
          "name": "stderr",
          "text": [
            "\r"
          ]
        },
        {
          "output_type": "stream",
          "name": "stdout",
          "text": [
            "Moviepy - Building video /tmp/tmpb8pkx91i/-step-0-to-step-1600.mp4.\n",
            "Moviepy - Writing video /tmp/tmpb8pkx91i/-step-0-to-step-1600.mp4\n",
            "\n"
          ]
        },
        {
          "output_type": "stream",
          "name": "stderr",
          "text": []
        },
        {
          "output_type": "stream",
          "name": "stdout",
          "text": [
            "Moviepy - Done !\n",
            "Moviepy - video ready /tmp/tmpb8pkx91i/-step-0-to-step-1600.mp4\n",
            "Video saved to: replay_ep1875000_dist84.05.mp4\n",
            "\n",
            "Video updated and saved as: replay_ep1875000_dist84.05.mp4\n",
            "\n",
            "Episode 1880000: Distance traveled = 3.15\n",
            "Episode 1885000: Distance traveled = 5.77\n",
            "Episode 1890000: Distance traveled = 72.05\n",
            "Episode 1895000: Distance traveled = 84.06\n",
            "Moviepy - Building video /tmp/tmp1henecow/-step-0-to-step-1600.mp4.\n",
            "Moviepy - Writing video /tmp/tmp1henecow/-step-0-to-step-1600.mp4\n",
            "\n"
          ]
        },
        {
          "output_type": "stream",
          "name": "stderr",
          "text": [
            "                                                  "
          ]
        },
        {
          "output_type": "stream",
          "name": "stdout",
          "text": [
            "Moviepy - Done !\n",
            "Moviepy - video ready /tmp/tmp1henecow/-step-0-to-step-1600.mp4\n"
          ]
        },
        {
          "output_type": "stream",
          "name": "stderr",
          "text": [
            "\r"
          ]
        },
        {
          "output_type": "stream",
          "name": "stdout",
          "text": [
            "Moviepy - Building video /tmp/tmp1henecow/-step-0-to-step-1600.mp4.\n",
            "Moviepy - Writing video /tmp/tmp1henecow/-step-0-to-step-1600.mp4\n",
            "\n"
          ]
        },
        {
          "output_type": "stream",
          "name": "stderr",
          "text": []
        },
        {
          "output_type": "stream",
          "name": "stdout",
          "text": [
            "Moviepy - Done !\n",
            "Moviepy - video ready /tmp/tmp1henecow/-step-0-to-step-1600.mp4\n",
            "Video saved to: replay_ep1895000_dist84.06.mp4\n",
            "\n",
            "Video updated and saved as: replay_ep1895000_dist84.06.mp4\n",
            "\n",
            "Episode 1900000: Distance traveled = 84.01\n",
            "Moviepy - Building video /tmp/tmp_b1ddg_s/-step-0-to-step-1600.mp4.\n",
            "Moviepy - Writing video /tmp/tmp_b1ddg_s/-step-0-to-step-1600.mp4\n",
            "\n"
          ]
        },
        {
          "output_type": "stream",
          "name": "stderr",
          "text": [
            "                                                  "
          ]
        },
        {
          "output_type": "stream",
          "name": "stdout",
          "text": [
            "Moviepy - Done !\n",
            "Moviepy - video ready /tmp/tmp_b1ddg_s/-step-0-to-step-1600.mp4\n"
          ]
        },
        {
          "output_type": "stream",
          "name": "stderr",
          "text": [
            "\r"
          ]
        },
        {
          "output_type": "stream",
          "name": "stdout",
          "text": [
            "Moviepy - Building video /tmp/tmp_b1ddg_s/-step-0-to-step-1600.mp4.\n",
            "Moviepy - Writing video /tmp/tmp_b1ddg_s/-step-0-to-step-1600.mp4\n",
            "\n"
          ]
        },
        {
          "output_type": "stream",
          "name": "stderr",
          "text": []
        },
        {
          "output_type": "stream",
          "name": "stdout",
          "text": [
            "Moviepy - Done !\n",
            "Moviepy - video ready /tmp/tmp_b1ddg_s/-step-0-to-step-1600.mp4\n",
            "Video saved to: replay_ep1900000_dist84.01.mp4\n",
            "\n",
            "Video updated and saved as: replay_ep1900000_dist84.01.mp4\n",
            "\n",
            "Episode 1905000: Distance traveled = 84.01\n",
            "Moviepy - Building video /tmp/tmpzhndaki_/-step-0-to-step-1600.mp4.\n",
            "Moviepy - Writing video /tmp/tmpzhndaki_/-step-0-to-step-1600.mp4\n",
            "\n"
          ]
        },
        {
          "output_type": "stream",
          "name": "stderr",
          "text": [
            "                                                  "
          ]
        },
        {
          "output_type": "stream",
          "name": "stdout",
          "text": [
            "Moviepy - Done !\n",
            "Moviepy - video ready /tmp/tmpzhndaki_/-step-0-to-step-1600.mp4\n"
          ]
        },
        {
          "output_type": "stream",
          "name": "stderr",
          "text": [
            "\r"
          ]
        },
        {
          "output_type": "stream",
          "name": "stdout",
          "text": [
            "Moviepy - Building video /tmp/tmpzhndaki_/-step-0-to-step-1600.mp4.\n",
            "Moviepy - Writing video /tmp/tmpzhndaki_/-step-0-to-step-1600.mp4\n",
            "\n"
          ]
        },
        {
          "output_type": "stream",
          "name": "stderr",
          "text": []
        },
        {
          "output_type": "stream",
          "name": "stdout",
          "text": [
            "Moviepy - Done !\n",
            "Moviepy - video ready /tmp/tmpzhndaki_/-step-0-to-step-1600.mp4\n",
            "Video saved to: replay_ep1905000_dist84.01.mp4\n",
            "\n",
            "Video updated and saved as: replay_ep1905000_dist84.01.mp4\n",
            "\n",
            "Episode 1910000: Distance traveled = 84.04\n",
            "Moviepy - Building video /tmp/tmpy92v3tgt/-step-0-to-step-1600.mp4.\n",
            "Moviepy - Writing video /tmp/tmpy92v3tgt/-step-0-to-step-1600.mp4\n",
            "\n"
          ]
        },
        {
          "output_type": "stream",
          "name": "stderr",
          "text": [
            "                                                  "
          ]
        },
        {
          "output_type": "stream",
          "name": "stdout",
          "text": [
            "Moviepy - Done !\n",
            "Moviepy - video ready /tmp/tmpy92v3tgt/-step-0-to-step-1600.mp4\n"
          ]
        },
        {
          "output_type": "stream",
          "name": "stderr",
          "text": [
            "\r"
          ]
        },
        {
          "output_type": "stream",
          "name": "stdout",
          "text": [
            "Saving video to /tmp/tmpy92v3tgt/-step-0-to-step-1600.mp4\n",
            "Moviepy - Building video /tmp/tmpy92v3tgt/-step-0-to-step-1600.mp4.\n",
            "Moviepy - Writing video /tmp/tmpy92v3tgt/-step-0-to-step-1600.mp4\n",
            "\n"
          ]
        },
        {
          "output_type": "stream",
          "name": "stderr",
          "text": []
        },
        {
          "output_type": "stream",
          "name": "stdout",
          "text": [
            "Moviepy - Done !\n",
            "Moviepy - video ready /tmp/tmpy92v3tgt/-step-0-to-step-1600.mp4\n",
            "Video saved to: replay_ep1910000_dist84.04.mp4\n",
            "\n",
            "Video updated and saved as: replay_ep1910000_dist84.04.mp4\n",
            "\n",
            "Episode 1915000: Distance traveled = 18.04\n",
            "Episode 1920000: Distance traveled = 11.37\n",
            "Episode 1925000: Distance traveled = 22.83\n",
            "Episode 1930000: Distance traveled = 44.17\n",
            "Episode 1935000: Distance traveled = 46.90\n",
            "Episode 1940000: Distance traveled = 84.04\n",
            "Moviepy - Building video /tmp/tmp9f8oduvp/-step-0-to-step-1600.mp4.\n",
            "Moviepy - Writing video /tmp/tmp9f8oduvp/-step-0-to-step-1600.mp4\n",
            "\n"
          ]
        },
        {
          "output_type": "stream",
          "name": "stderr",
          "text": [
            "                                                  "
          ]
        },
        {
          "output_type": "stream",
          "name": "stdout",
          "text": [
            "Moviepy - Done !\n",
            "Moviepy - video ready /tmp/tmp9f8oduvp/-step-0-to-step-1600.mp4\n"
          ]
        },
        {
          "output_type": "stream",
          "name": "stderr",
          "text": [
            "\r"
          ]
        },
        {
          "output_type": "stream",
          "name": "stdout",
          "text": [
            "Moviepy - Building video /tmp/tmp9f8oduvp/-step-0-to-step-1600.mp4.\n",
            "Moviepy - Writing video /tmp/tmp9f8oduvp/-step-0-to-step-1600.mp4\n",
            "\n"
          ]
        },
        {
          "output_type": "stream",
          "name": "stderr",
          "text": []
        },
        {
          "output_type": "stream",
          "name": "stdout",
          "text": [
            "Moviepy - Done !\n",
            "Moviepy - video ready /tmp/tmp9f8oduvp/-step-0-to-step-1600.mp4\n",
            "Video saved to: replay_ep1940000_dist84.04.mp4\n",
            "\n",
            "Video updated and saved as: replay_ep1940000_dist84.04.mp4\n",
            "\n",
            "Episode 1945000: Distance traveled = 25.18\n",
            "Episode 1950000: Distance traveled = 12.77\n",
            "Episode 1955000: Distance traveled = 84.05\n",
            "Moviepy - Building video /tmp/tmp1j6p7_d9/-step-0-to-step-1600.mp4.\n",
            "Moviepy - Writing video /tmp/tmp1j6p7_d9/-step-0-to-step-1600.mp4\n",
            "\n"
          ]
        },
        {
          "output_type": "stream",
          "name": "stderr",
          "text": [
            "                                                  "
          ]
        },
        {
          "output_type": "stream",
          "name": "stdout",
          "text": [
            "Moviepy - Done !\n",
            "Moviepy - video ready /tmp/tmp1j6p7_d9/-step-0-to-step-1600.mp4\n"
          ]
        },
        {
          "output_type": "stream",
          "name": "stderr",
          "text": [
            "\r"
          ]
        },
        {
          "output_type": "stream",
          "name": "stdout",
          "text": [
            "Saving video to /tmp/tmp1j6p7_d9/-step-0-to-step-1600.mp4\n",
            "Moviepy - Building video /tmp/tmp1j6p7_d9/-step-0-to-step-1600.mp4.\n",
            "Moviepy - Writing video /tmp/tmp1j6p7_d9/-step-0-to-step-1600.mp4\n",
            "\n"
          ]
        },
        {
          "output_type": "stream",
          "name": "stderr",
          "text": []
        },
        {
          "output_type": "stream",
          "name": "stdout",
          "text": [
            "Moviepy - Done !\n",
            "Moviepy - video ready /tmp/tmp1j6p7_d9/-step-0-to-step-1600.mp4\n",
            "Video saved to: replay_ep1955000_dist84.05.mp4\n",
            "\n",
            "Video updated and saved as: replay_ep1955000_dist84.05.mp4\n",
            "\n",
            "Episode 1960000: Distance traveled = 11.47\n",
            "Episode 1965000: Distance traveled = 21.96\n",
            "Episode 1970000: Distance traveled = 57.37\n",
            "Episode 1975000: Distance traveled = 84.09\n",
            "Moviepy - Building video /tmp/tmp3un1ea68/-step-0-to-step-1600.mp4.\n",
            "Moviepy - Writing video /tmp/tmp3un1ea68/-step-0-to-step-1600.mp4\n",
            "\n"
          ]
        },
        {
          "output_type": "stream",
          "name": "stderr",
          "text": [
            "                                                  "
          ]
        },
        {
          "output_type": "stream",
          "name": "stdout",
          "text": [
            "Moviepy - Done !\n",
            "Moviepy - video ready /tmp/tmp3un1ea68/-step-0-to-step-1600.mp4\n"
          ]
        },
        {
          "output_type": "stream",
          "name": "stderr",
          "text": [
            "\r"
          ]
        },
        {
          "output_type": "stream",
          "name": "stdout",
          "text": [
            "Moviepy - Building video /tmp/tmp3un1ea68/-step-0-to-step-1600.mp4.\n",
            "Moviepy - Writing video /tmp/tmp3un1ea68/-step-0-to-step-1600.mp4\n",
            "\n"
          ]
        },
        {
          "output_type": "stream",
          "name": "stderr",
          "text": []
        },
        {
          "output_type": "stream",
          "name": "stdout",
          "text": [
            "Moviepy - Done !\n",
            "Moviepy - video ready /tmp/tmp3un1ea68/-step-0-to-step-1600.mp4\n",
            "Video saved to: replay_ep1975000_dist84.09.mp4\n",
            "\n",
            "Video updated and saved as: replay_ep1975000_dist84.09.mp4\n",
            "\n",
            "Episode 1980000: Distance traveled = 54.20\n",
            "Episode 1985000: Distance traveled = 5.60\n",
            "Episode 1990000: Distance traveled = 44.00\n",
            "Episode 1995000: Distance traveled = 5.19\n",
            "Episode 2000000: Distance traveled = 3.29\n"
          ]
        }
      ],
      "source": [
        "model_name = \"a2c-FastWalker-v3\"\n",
        "\n",
        "episodes = 2_000_000\n",
        "save_freq = 5_000\n",
        "\n",
        "# Initialization\n",
        "distances = []\n",
        "best_distance = -float(\"inf\")\n",
        "best_model = None\n",
        "\n",
        "for episode in range(0, episodes, save_freq):\n",
        "    # Training the model\n",
        "    model.learn(total_timesteps=save_freq)\n",
        "\n",
        "    # Testing the model in a new environment\n",
        "    eval_env = make_env() # Create a new independent environment for testing\n",
        "    obs, info = eval_env.reset()\n",
        "    done = False\n",
        "\n",
        "    while not done:\n",
        "        action, _ = model.predict(obs, deterministic=True) # Predict the next action deterministically\n",
        "        obs, reward, terminated, truncated, info = eval_env.step(action)\n",
        "        done = terminated or truncated\n",
        "\n",
        "    final_distance = info['distance']\n",
        "    distances.append(final_distance)\n",
        "    print(f\"Episode {episode + save_freq}: Distance traveled = {final_distance:.2f}\")\n",
        "\n",
        "    # Save video every 100,000 episodes to monitor training progress\n",
        "    if (episode) % 100_000 == 0 or final_distance > 80:\n",
        "        video_path = f\"replay_ep{episode + save_freq}_dist{final_distance:.2f}.mp4\"\n",
        "        generate_replay(\n",
        "              model=model,\n",
        "              eval_env=DummyVecEnv([make_env]),\n",
        "              video_length=1600,\n",
        "              is_deterministic=True, # Use deterministic actions for reproducibility\n",
        "              local_path=video_path # Save the video to the specified path\n",
        "        )\n",
        "        print()\n",
        "        print(f\"Video updated and saved as: {video_path}\")\n",
        "        print()\n",
        "\n",
        "    # Check if this episode achieved the best distance so far\n",
        "    if final_distance > best_distance:\n",
        "        best_distance = final_distance\n",
        "        best_model = model\n",
        "        print(f\"New best model, distance: {best_distance:.2f}\")\n",
        "        print()\n",
        "        # Wait a bit before saving the best to avoid unnecessary saves\n",
        "        best_video_path = f\"best_replay_ep{episode + save_freq}_dist{final_distance:.2f}.mp4\"\n",
        "        generate_replay(\n",
        "            model=best_model,\n",
        "            eval_env=DummyVecEnv([make_env]),\n",
        "            video_length=1600,\n",
        "            is_deterministic=True, # Use deterministic actions for reproducibility\n",
        "            local_path=best_video_path) # Save the video to the specified path\n",
        "\n",
        "        print()\n",
        "        print(f\"Best video updated and saved as: {best_video_path}\")\n",
        "        print()"
      ]
    },
    {
      "cell_type": "markdown",
      "source": [
        "### **Save best Model**"
      ],
      "metadata": {
        "id": "Hze3qyfksx4y"
      }
    },
    {
      "cell_type": "code",
      "source": [
        "best_model.save(model_name)\n",
        "print(f\"Best model saved as: {model_name}\")"
      ],
      "metadata": {
        "colab": {
          "base_uri": "https://localhost:8080/"
        },
        "id": "ePuKdBSis04v",
        "outputId": "538a2264-c033-4740-8406-725a58848062"
      },
      "execution_count": null,
      "outputs": [
        {
          "output_type": "stream",
          "name": "stdout",
          "text": [
            "Best model saved as: a2c-FastWalker-v3\n"
          ]
        }
      ]
    },
    {
      "cell_type": "markdown",
      "source": [
        "### **Statisitiques**"
      ],
      "metadata": {
        "id": "WYq3_1K5svAt"
      }
    },
    {
      "cell_type": "code",
      "source": [
        "import numpy as np\n",
        "print(f\"Final statistics: Mean: {np.mean(distances):.2f}, Max: {np.max(distances):.2f}\")"
      ],
      "metadata": {
        "colab": {
          "base_uri": "https://localhost:8080/"
        },
        "id": "kfGEp8cOqcbX",
        "outputId": "b79bdcc9-e7a8-409a-9ccd-927d2195772d"
      },
      "execution_count": null,
      "outputs": [
        {
          "output_type": "stream",
          "name": "stdout",
          "text": [
            "Statistiques finales: Moyenne: 21.68, Max: 84.10\n"
          ]
        }
      ]
    },
    {
      "cell_type": "code",
      "execution_count": null,
      "metadata": {
        "colab": {
          "base_uri": "https://localhost:8080/",
          "height": 564
        },
        "id": "cyGDA3_Ej1md",
        "outputId": "a72ccdc3-5507-488b-a56c-2033135802ed"
      },
      "outputs": [
        {
          "output_type": "display_data",
          "data": {
            "text/plain": [
              "<Figure size 1200x600 with 1 Axes>"
            ],
            "image/png": "[encoded data removed]"
          },
          "metadata": {}
        }
      ],
      "source": [
        "import matplotlib.pyplot as plt\n",
        "import pandas as pd\n",
        "\n",
        "lst_dist = np.round(distances, 2)\n",
        "\n",
        "# Calculate the moving average using pandas\n",
        "window_size = 10\n",
        "moving_average = pd.Series(lst_dist).rolling(window=window_size).mean()\n",
        "\n",
        "# Create the plot\n",
        "plt.figure(figsize=(12, 6))\n",
        "\n",
        "# Display distances as bars\n",
        "plt.bar(range(len(lst_dist)), lst_dist, label='Distance')\n",
        "\n",
        "# Plot the moving average\n",
        "plt.plot(range(window_size - 1, len(lst_dist)), moving_average[window_size - 1:], color='red', label=f'{window_size}-Episode Moving Average')\n",
        "\n",
        "# Show plot details\n",
        "plt.xlabel('Episode')\n",
        "plt.ylabel('Distance')\n",
        "plt.title('Distance Traveled per Episode with Moving Average')\n",
        "plt.legend()\n",
        "plt.grid(True)\n",
        "plt.show()"
      ]
    }
  ],
  "metadata": {
    "accelerator": "GPU",
    "colab": {
      "gpuType": "T4",
      "provenance": []
    },
    "kernelspec": {
      "display_name": "Python 3",
      "name": "python3"
    },
    "language_info": {
      "name": "python"
    }
  },
  "nbformat": 4,
  "nbformat_minor": 0
}